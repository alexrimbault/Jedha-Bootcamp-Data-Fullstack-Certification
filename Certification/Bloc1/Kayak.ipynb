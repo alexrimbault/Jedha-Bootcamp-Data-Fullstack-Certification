{
 "cells": [
  {
   "cell_type": "code",
   "execution_count": 1,
   "id": "b6893db3-c0b8-4b4d-9436-e69ff67b98b3",
   "metadata": {},
   "outputs": [
    {
     "name": "stderr",
     "output_type": "stream",
     "text": [
      "/opt/anaconda3/lib/python3.9/site-packages/scipy/__init__.py:146: UserWarning: A NumPy version >=1.16.5 and <1.23.0 is required for this version of SciPy (detected version 1.23.1\n",
      "  warnings.warn(f\"A NumPy version >={np_minversion} and <{np_maxversion}\"\n"
     ]
    },
    {
     "name": "stdout",
     "output_type": "stream",
     "text": [
      "Requirement already satisfied: scrapy in /opt/anaconda3/lib/python3.9/site-packages (2.6.1)\n",
      "Requirement already satisfied: queuelib>=1.4.2 in /opt/anaconda3/lib/python3.9/site-packages (from scrapy) (1.5.0)\n",
      "Requirement already satisfied: w3lib>=1.17.0 in /opt/anaconda3/lib/python3.9/site-packages (from scrapy) (1.21.0)\n",
      "Requirement already satisfied: cssselect>=0.9.1 in /opt/anaconda3/lib/python3.9/site-packages (from scrapy) (1.1.0)\n",
      "Requirement already satisfied: Twisted>=17.9.0 in /opt/anaconda3/lib/python3.9/site-packages (from scrapy) (22.2.0)\n",
      "Requirement already satisfied: itemadapter>=0.1.0 in /opt/anaconda3/lib/python3.9/site-packages (from scrapy) (0.3.0)\n",
      "Requirement already satisfied: tldextract in /opt/anaconda3/lib/python3.9/site-packages (from scrapy) (3.2.0)\n",
      "Requirement already satisfied: cryptography>=2.0 in /opt/anaconda3/lib/python3.9/site-packages (from scrapy) (3.4.8)\n",
      "Requirement already satisfied: zope.interface>=4.1.3 in /opt/anaconda3/lib/python3.9/site-packages (from scrapy) (5.4.0)\n",
      "Requirement already satisfied: protego>=0.1.15 in /opt/anaconda3/lib/python3.9/site-packages (from scrapy) (0.1.16)\n",
      "Requirement already satisfied: lxml>=3.5.0 in /opt/anaconda3/lib/python3.9/site-packages (from scrapy) (4.8.0)\n",
      "Requirement already satisfied: itemloaders>=1.0.1 in /opt/anaconda3/lib/python3.9/site-packages (from scrapy) (1.0.4)\n",
      "Requirement already satisfied: service-identity>=16.0.0 in /opt/anaconda3/lib/python3.9/site-packages (from scrapy) (18.1.0)\n",
      "Requirement already satisfied: setuptools in /opt/anaconda3/lib/python3.9/site-packages (from scrapy) (61.2.0)\n",
      "Requirement already satisfied: parsel>=1.5.0 in /opt/anaconda3/lib/python3.9/site-packages (from scrapy) (1.6.0)\n",
      "Requirement already satisfied: PyDispatcher>=2.0.5 in /opt/anaconda3/lib/python3.9/site-packages (from scrapy) (2.0.5)\n",
      "Requirement already satisfied: pyOpenSSL>=16.2.0 in /opt/anaconda3/lib/python3.9/site-packages (from scrapy) (21.0.0)\n",
      "Requirement already satisfied: cffi>=1.12 in /opt/anaconda3/lib/python3.9/site-packages (from cryptography>=2.0->scrapy) (1.15.0)\n",
      "Requirement already satisfied: pycparser in /opt/anaconda3/lib/python3.9/site-packages (from cffi>=1.12->cryptography>=2.0->scrapy) (2.21)\n",
      "Requirement already satisfied: jmespath>=0.9.5 in /opt/anaconda3/lib/python3.9/site-packages (from itemloaders>=1.0.1->scrapy) (0.10.0)\n",
      "Requirement already satisfied: six>=1.6.0 in /opt/anaconda3/lib/python3.9/site-packages (from parsel>=1.5.0->scrapy) (1.16.0)\n",
      "Requirement already satisfied: attrs>=16.0.0 in /opt/anaconda3/lib/python3.9/site-packages (from service-identity>=16.0.0->scrapy) (21.4.0)\n",
      "Requirement already satisfied: pyasn1 in /opt/anaconda3/lib/python3.9/site-packages (from service-identity>=16.0.0->scrapy) (0.4.8)\n",
      "Requirement already satisfied: pyasn1-modules in /opt/anaconda3/lib/python3.9/site-packages (from service-identity>=16.0.0->scrapy) (0.2.8)\n",
      "Requirement already satisfied: constantly>=15.1 in /opt/anaconda3/lib/python3.9/site-packages (from Twisted>=17.9.0->scrapy) (15.1.0)\n",
      "Requirement already satisfied: typing-extensions>=3.6.5 in /opt/anaconda3/lib/python3.9/site-packages (from Twisted>=17.9.0->scrapy) (4.1.1)\n",
      "Requirement already satisfied: hyperlink>=17.1.1 in /opt/anaconda3/lib/python3.9/site-packages (from Twisted>=17.9.0->scrapy) (21.0.0)\n",
      "Requirement already satisfied: Automat>=0.8.0 in /opt/anaconda3/lib/python3.9/site-packages (from Twisted>=17.9.0->scrapy) (20.2.0)\n",
      "Requirement already satisfied: incremental>=21.3.0 in /opt/anaconda3/lib/python3.9/site-packages (from Twisted>=17.9.0->scrapy) (21.3.0)\n",
      "Requirement already satisfied: idna>=2.5 in /opt/anaconda3/lib/python3.9/site-packages (from hyperlink>=17.1.1->Twisted>=17.9.0->scrapy) (3.3)\n",
      "Requirement already satisfied: requests>=2.1.0 in /opt/anaconda3/lib/python3.9/site-packages (from tldextract->scrapy) (2.27.1)\n",
      "Requirement already satisfied: requests-file>=1.4 in /opt/anaconda3/lib/python3.9/site-packages (from tldextract->scrapy) (1.5.1)\n",
      "Requirement already satisfied: filelock>=3.0.8 in /opt/anaconda3/lib/python3.9/site-packages (from tldextract->scrapy) (3.6.0)\n",
      "Requirement already satisfied: certifi>=2017.4.17 in /opt/anaconda3/lib/python3.9/site-packages (from requests>=2.1.0->tldextract->scrapy) (2021.10.8)\n",
      "Requirement already satisfied: urllib3<1.27,>=1.21.1 in /opt/anaconda3/lib/python3.9/site-packages (from requests>=2.1.0->tldextract->scrapy) (1.26.9)\n",
      "Requirement already satisfied: charset-normalizer~=2.0.0 in /opt/anaconda3/lib/python3.9/site-packages (from requests>=2.1.0->tldextract->scrapy) (2.0.4)\n",
      "Requirement already satisfied: boto3 in /opt/anaconda3/lib/python3.9/site-packages (1.21.32)\n",
      "Requirement already satisfied: s3transfer<0.6.0,>=0.5.0 in /opt/anaconda3/lib/python3.9/site-packages (from boto3) (0.5.0)\n",
      "Requirement already satisfied: jmespath<2.0.0,>=0.7.1 in /opt/anaconda3/lib/python3.9/site-packages (from boto3) (0.10.0)\n",
      "Requirement already satisfied: botocore<1.25.0,>=1.24.32 in /opt/anaconda3/lib/python3.9/site-packages (from boto3) (1.24.32)\n",
      "Requirement already satisfied: python-dateutil<3.0.0,>=2.1 in /opt/anaconda3/lib/python3.9/site-packages (from botocore<1.25.0,>=1.24.32->boto3) (2.8.2)\n",
      "Requirement already satisfied: urllib3<1.27,>=1.25.4 in /opt/anaconda3/lib/python3.9/site-packages (from botocore<1.25.0,>=1.24.32->boto3) (1.26.9)\n",
      "Requirement already satisfied: six>=1.5 in /opt/anaconda3/lib/python3.9/site-packages (from python-dateutil<3.0.0,>=2.1->botocore<1.25.0,>=1.24.32->boto3) (1.16.0)\n",
      "Requirement already satisfied: psycopg2-binary in /opt/anaconda3/lib/python3.9/site-packages (2.9.3)\n"
     ]
    }
   ],
   "source": [
    "#Libraries import\n",
    "\n",
    "import requests\n",
    "import pandas as pd\n",
    "import seaborn as sns\n",
    "from bs4 import BeautifulSoup\n",
    "import numpy as np\n",
    "\n",
    "import os\n",
    "import logging\n",
    "import pandas as pd\n",
    "!pip install scrapy\n",
    "import scrapy\n",
    "from scrapy.crawler import CrawlerProcess\n",
    "\n",
    "import plotly.express as px\n",
    "import plotly.io as pio\n",
    "\n",
    "!pip install boto3\n",
    "!pip install psycopg2-binary\n",
    "import boto3\n",
    "from sqlalchemy import create_engine, text\n",
    "from sqlalchemy.orm import sessionmaker"
   ]
  },
  {
   "cell_type": "markdown",
   "id": "7629f8b6",
   "metadata": {},
   "source": [
    "# First Part - Data recovery"
   ]
  },
  {
   "cell_type": "code",
   "execution_count": 2,
   "id": "d65eb466-a20c-4123-80c5-d6a1c2f907b0",
   "metadata": {},
   "outputs": [],
   "source": [
    "# Creation of a list containing the 35 cities for which we are going to get the GPS coordinates \n",
    "\n",
    "cities_list = [\"Mont Saint Michel\",\n",
    "\"St Malo\",\n",
    "\"Bayeux\",\n",
    "\"Le Havre\",\n",
    "\"Rouen\",\n",
    "\"Paris\",\n",
    "\"Amiens\",\n",
    "\"Lille\",\n",
    "\"Strasbourg\",\n",
    "\"Chateau du Haut Koenigsbourg\",\n",
    "\"Colmar\",\n",
    "\"Eguisheim\",\n",
    "\"Besancon\",\n",
    "\"Dijon\",\n",
    "\"Annecy\",\n",
    "\"Grenoble\",\n",
    "\"Lyon\",\n",
    "\"Gorges du Verdon\",\n",
    "\"Bormes les Mimosas\",\n",
    "\"Cassis\",\n",
    "\"Marseille\",\n",
    "\"Aix en Provence\",\n",
    "\"Avignon\",\n",
    "\"Uzes\",\n",
    "\"Nimes\",\n",
    "\"Aigues Mortes\",\n",
    "\"Saintes Maries de la mer\",\n",
    "\"Collioure\",\n",
    "\"Carcassonne\",\n",
    "\"Ariege\",\n",
    "\"Toulouse\",\n",
    "\"Montauban\",\n",
    "\"Biarritz\",\n",
    "\"Bayonne\",\n",
    "\"La Rochelle\"]"
   ]
  },
  {
   "cell_type": "markdown",
   "id": "55a359fb",
   "metadata": {},
   "source": [
    "# GPS coordinates"
   ]
  },
  {
   "cell_type": "code",
   "execution_count": 3,
   "id": "eba8c906-07ce-4d4b-ad44-4e5cc7985dea",
   "metadata": {},
   "outputs": [],
   "source": [
    "# Retrieving of latitude and longitude coordinates for each cities from the list\n",
    "data_cities = [c.replace(' ','+') for c in cities_list]\n",
    "gps_coord_lat = []\n",
    "gps_coord_lon = []"
   ]
  },
  {
   "cell_type": "code",
   "execution_count": 4,
   "id": "4a865285-3d86-49eb-9358-62c721e99ee2",
   "metadata": {},
   "outputs": [],
   "source": [
    "#Loop to get all latitude and longitude for all cities\n",
    "for city in data_cities:\n",
    "    r = requests.get(\"https://nominatim.openstreetmap.org/search?q={}&country=france&format=json\".format(city))\n",
    "    gps_coord_lat.append(r.json()[0]['lat'])\n",
    "    gps_coord_lon.append(r.json()[0]['lon'])"
   ]
  },
  {
   "cell_type": "code",
   "execution_count": 5,
   "id": "be3bd5cf-36d9-4e9e-8ddd-96fe1f7d3d6e",
   "metadata": {},
   "outputs": [
    {
     "name": "stdout",
     "output_type": "stream",
     "text": [
      "['48.6359541', '48.649518', '49.2764624', '49.4938975', '49.4404591', '48.8588897', '49.8941708', '50.6365654', '48.584614', '48.249489800000006', '48.0777517', '48.0447968', '47.2380222', '47.3215806', '45.8992348', '45.1875602', '45.7578137', '43.7496562', '43.1506968', '43.2140359', '43.2961743', '43.5298424', '43.9492493', '44.0121279', '43.8374249', '43.5658225', '43.4522771', '42.52505', '43.2130358', '42.9455368', '43.6044622', '44.0175835', '43.471143749999996', '43.4945144', '46.1591126']\n"
     ]
    }
   ],
   "source": [
    "# Display all gps latitude coordinates \n",
    "\n",
    "print(gps_coord_lat)"
   ]
  },
  {
   "cell_type": "code",
   "execution_count": 6,
   "id": "6d6ec4b0",
   "metadata": {},
   "outputs": [
    {
     "name": "stdout",
     "output_type": "stream",
     "text": [
      "['-1.511459954959514', '-2.0260409', '-0.7024738', '0.1079732', '1.0939658', '2.3200410217200766', '2.2956951', '3.0635282', '7.7507127', '7.34429620253195', '7.3579641', '7.3079618', '6.0243622', '5.0414701', '6.1288847', '5.7357819', '4.8320114', '6.3285616', '6.3419285', '5.5396318', '5.3699525', '5.4474738', '4.8059012', '4.4196718', '4.3600687', '4.1912837', '4.4287172', '3.0831554', '2.3491069', '1.4065544156065486', '1.4442469', '1.3549991', '-1.552726590666314', '-1.4736657', '-1.1520434']\n"
     ]
    }
   ],
   "source": [
    "# Display all gps longitude coordinates\n",
    "\n",
    "\n",
    "print(gps_coord_lon)"
   ]
  },
  {
   "cell_type": "code",
   "execution_count": 7,
   "id": "6ea78eca",
   "metadata": {},
   "outputs": [],
   "source": [
    "# Creation of a new dataframe containing gps coordinates regarding each cities\n",
    "\n",
    "coord_list = [gps_coord_lat,gps_coord_lon]\n",
    "df_coordinates = pd.DataFrame(coord_list,columns = cities_list, index = ('City_Lat', 'City_Lon'))\n",
    "df_coordinates = df_coordinates.transpose()\n",
    "df_coordinates['City'] = df_coordinates.index"
   ]
  },
  {
   "cell_type": "code",
   "execution_count": 8,
   "id": "089b1acf",
   "metadata": {},
   "outputs": [
    {
     "data": {
      "text/html": [
       "<div>\n",
       "<style scoped>\n",
       "    .dataframe tbody tr th:only-of-type {\n",
       "        vertical-align: middle;\n",
       "    }\n",
       "\n",
       "    .dataframe tbody tr th {\n",
       "        vertical-align: top;\n",
       "    }\n",
       "\n",
       "    .dataframe thead th {\n",
       "        text-align: right;\n",
       "    }\n",
       "</style>\n",
       "<table border=\"1\" class=\"dataframe\">\n",
       "  <thead>\n",
       "    <tr style=\"text-align: right;\">\n",
       "      <th></th>\n",
       "      <th>City_Lat</th>\n",
       "      <th>City_Lon</th>\n",
       "      <th>City</th>\n",
       "    </tr>\n",
       "  </thead>\n",
       "  <tbody>\n",
       "    <tr>\n",
       "      <th>Mont Saint Michel</th>\n",
       "      <td>48.6359541</td>\n",
       "      <td>-1.511459954959514</td>\n",
       "      <td>Mont Saint Michel</td>\n",
       "    </tr>\n",
       "    <tr>\n",
       "      <th>St Malo</th>\n",
       "      <td>48.649518</td>\n",
       "      <td>-2.0260409</td>\n",
       "      <td>St Malo</td>\n",
       "    </tr>\n",
       "    <tr>\n",
       "      <th>Bayeux</th>\n",
       "      <td>49.2764624</td>\n",
       "      <td>-0.7024738</td>\n",
       "      <td>Bayeux</td>\n",
       "    </tr>\n",
       "    <tr>\n",
       "      <th>Le Havre</th>\n",
       "      <td>49.4938975</td>\n",
       "      <td>0.1079732</td>\n",
       "      <td>Le Havre</td>\n",
       "    </tr>\n",
       "    <tr>\n",
       "      <th>Rouen</th>\n",
       "      <td>49.4404591</td>\n",
       "      <td>1.0939658</td>\n",
       "      <td>Rouen</td>\n",
       "    </tr>\n",
       "    <tr>\n",
       "      <th>Paris</th>\n",
       "      <td>48.8588897</td>\n",
       "      <td>2.3200410217200766</td>\n",
       "      <td>Paris</td>\n",
       "    </tr>\n",
       "    <tr>\n",
       "      <th>Amiens</th>\n",
       "      <td>49.8941708</td>\n",
       "      <td>2.2956951</td>\n",
       "      <td>Amiens</td>\n",
       "    </tr>\n",
       "    <tr>\n",
       "      <th>Lille</th>\n",
       "      <td>50.6365654</td>\n",
       "      <td>3.0635282</td>\n",
       "      <td>Lille</td>\n",
       "    </tr>\n",
       "    <tr>\n",
       "      <th>Strasbourg</th>\n",
       "      <td>48.584614</td>\n",
       "      <td>7.7507127</td>\n",
       "      <td>Strasbourg</td>\n",
       "    </tr>\n",
       "    <tr>\n",
       "      <th>Chateau du Haut Koenigsbourg</th>\n",
       "      <td>48.249489800000006</td>\n",
       "      <td>7.34429620253195</td>\n",
       "      <td>Chateau du Haut Koenigsbourg</td>\n",
       "    </tr>\n",
       "    <tr>\n",
       "      <th>Colmar</th>\n",
       "      <td>48.0777517</td>\n",
       "      <td>7.3579641</td>\n",
       "      <td>Colmar</td>\n",
       "    </tr>\n",
       "    <tr>\n",
       "      <th>Eguisheim</th>\n",
       "      <td>48.0447968</td>\n",
       "      <td>7.3079618</td>\n",
       "      <td>Eguisheim</td>\n",
       "    </tr>\n",
       "    <tr>\n",
       "      <th>Besancon</th>\n",
       "      <td>47.2380222</td>\n",
       "      <td>6.0243622</td>\n",
       "      <td>Besancon</td>\n",
       "    </tr>\n",
       "    <tr>\n",
       "      <th>Dijon</th>\n",
       "      <td>47.3215806</td>\n",
       "      <td>5.0414701</td>\n",
       "      <td>Dijon</td>\n",
       "    </tr>\n",
       "    <tr>\n",
       "      <th>Annecy</th>\n",
       "      <td>45.8992348</td>\n",
       "      <td>6.1288847</td>\n",
       "      <td>Annecy</td>\n",
       "    </tr>\n",
       "    <tr>\n",
       "      <th>Grenoble</th>\n",
       "      <td>45.1875602</td>\n",
       "      <td>5.7357819</td>\n",
       "      <td>Grenoble</td>\n",
       "    </tr>\n",
       "    <tr>\n",
       "      <th>Lyon</th>\n",
       "      <td>45.7578137</td>\n",
       "      <td>4.8320114</td>\n",
       "      <td>Lyon</td>\n",
       "    </tr>\n",
       "    <tr>\n",
       "      <th>Gorges du Verdon</th>\n",
       "      <td>43.7496562</td>\n",
       "      <td>6.3285616</td>\n",
       "      <td>Gorges du Verdon</td>\n",
       "    </tr>\n",
       "    <tr>\n",
       "      <th>Bormes les Mimosas</th>\n",
       "      <td>43.1506968</td>\n",
       "      <td>6.3419285</td>\n",
       "      <td>Bormes les Mimosas</td>\n",
       "    </tr>\n",
       "    <tr>\n",
       "      <th>Cassis</th>\n",
       "      <td>43.2140359</td>\n",
       "      <td>5.5396318</td>\n",
       "      <td>Cassis</td>\n",
       "    </tr>\n",
       "    <tr>\n",
       "      <th>Marseille</th>\n",
       "      <td>43.2961743</td>\n",
       "      <td>5.3699525</td>\n",
       "      <td>Marseille</td>\n",
       "    </tr>\n",
       "    <tr>\n",
       "      <th>Aix en Provence</th>\n",
       "      <td>43.5298424</td>\n",
       "      <td>5.4474738</td>\n",
       "      <td>Aix en Provence</td>\n",
       "    </tr>\n",
       "    <tr>\n",
       "      <th>Avignon</th>\n",
       "      <td>43.9492493</td>\n",
       "      <td>4.8059012</td>\n",
       "      <td>Avignon</td>\n",
       "    </tr>\n",
       "    <tr>\n",
       "      <th>Uzes</th>\n",
       "      <td>44.0121279</td>\n",
       "      <td>4.4196718</td>\n",
       "      <td>Uzes</td>\n",
       "    </tr>\n",
       "    <tr>\n",
       "      <th>Nimes</th>\n",
       "      <td>43.8374249</td>\n",
       "      <td>4.3600687</td>\n",
       "      <td>Nimes</td>\n",
       "    </tr>\n",
       "    <tr>\n",
       "      <th>Aigues Mortes</th>\n",
       "      <td>43.5658225</td>\n",
       "      <td>4.1912837</td>\n",
       "      <td>Aigues Mortes</td>\n",
       "    </tr>\n",
       "    <tr>\n",
       "      <th>Saintes Maries de la mer</th>\n",
       "      <td>43.4522771</td>\n",
       "      <td>4.4287172</td>\n",
       "      <td>Saintes Maries de la mer</td>\n",
       "    </tr>\n",
       "    <tr>\n",
       "      <th>Collioure</th>\n",
       "      <td>42.52505</td>\n",
       "      <td>3.0831554</td>\n",
       "      <td>Collioure</td>\n",
       "    </tr>\n",
       "    <tr>\n",
       "      <th>Carcassonne</th>\n",
       "      <td>43.2130358</td>\n",
       "      <td>2.3491069</td>\n",
       "      <td>Carcassonne</td>\n",
       "    </tr>\n",
       "    <tr>\n",
       "      <th>Ariege</th>\n",
       "      <td>42.9455368</td>\n",
       "      <td>1.4065544156065486</td>\n",
       "      <td>Ariege</td>\n",
       "    </tr>\n",
       "    <tr>\n",
       "      <th>Toulouse</th>\n",
       "      <td>43.6044622</td>\n",
       "      <td>1.4442469</td>\n",
       "      <td>Toulouse</td>\n",
       "    </tr>\n",
       "    <tr>\n",
       "      <th>Montauban</th>\n",
       "      <td>44.0175835</td>\n",
       "      <td>1.3549991</td>\n",
       "      <td>Montauban</td>\n",
       "    </tr>\n",
       "    <tr>\n",
       "      <th>Biarritz</th>\n",
       "      <td>43.471143749999996</td>\n",
       "      <td>-1.552726590666314</td>\n",
       "      <td>Biarritz</td>\n",
       "    </tr>\n",
       "    <tr>\n",
       "      <th>Bayonne</th>\n",
       "      <td>43.4945144</td>\n",
       "      <td>-1.4736657</td>\n",
       "      <td>Bayonne</td>\n",
       "    </tr>\n",
       "    <tr>\n",
       "      <th>La Rochelle</th>\n",
       "      <td>46.1591126</td>\n",
       "      <td>-1.1520434</td>\n",
       "      <td>La Rochelle</td>\n",
       "    </tr>\n",
       "  </tbody>\n",
       "</table>\n",
       "</div>"
      ],
      "text/plain": [
       "                                        City_Lat            City_Lon  \\\n",
       "Mont Saint Michel                     48.6359541  -1.511459954959514   \n",
       "St Malo                                48.649518          -2.0260409   \n",
       "Bayeux                                49.2764624          -0.7024738   \n",
       "Le Havre                              49.4938975           0.1079732   \n",
       "Rouen                                 49.4404591           1.0939658   \n",
       "Paris                                 48.8588897  2.3200410217200766   \n",
       "Amiens                                49.8941708           2.2956951   \n",
       "Lille                                 50.6365654           3.0635282   \n",
       "Strasbourg                             48.584614           7.7507127   \n",
       "Chateau du Haut Koenigsbourg  48.249489800000006    7.34429620253195   \n",
       "Colmar                                48.0777517           7.3579641   \n",
       "Eguisheim                             48.0447968           7.3079618   \n",
       "Besancon                              47.2380222           6.0243622   \n",
       "Dijon                                 47.3215806           5.0414701   \n",
       "Annecy                                45.8992348           6.1288847   \n",
       "Grenoble                              45.1875602           5.7357819   \n",
       "Lyon                                  45.7578137           4.8320114   \n",
       "Gorges du Verdon                      43.7496562           6.3285616   \n",
       "Bormes les Mimosas                    43.1506968           6.3419285   \n",
       "Cassis                                43.2140359           5.5396318   \n",
       "Marseille                             43.2961743           5.3699525   \n",
       "Aix en Provence                       43.5298424           5.4474738   \n",
       "Avignon                               43.9492493           4.8059012   \n",
       "Uzes                                  44.0121279           4.4196718   \n",
       "Nimes                                 43.8374249           4.3600687   \n",
       "Aigues Mortes                         43.5658225           4.1912837   \n",
       "Saintes Maries de la mer              43.4522771           4.4287172   \n",
       "Collioure                               42.52505           3.0831554   \n",
       "Carcassonne                           43.2130358           2.3491069   \n",
       "Ariege                                42.9455368  1.4065544156065486   \n",
       "Toulouse                              43.6044622           1.4442469   \n",
       "Montauban                             44.0175835           1.3549991   \n",
       "Biarritz                      43.471143749999996  -1.552726590666314   \n",
       "Bayonne                               43.4945144          -1.4736657   \n",
       "La Rochelle                           46.1591126          -1.1520434   \n",
       "\n",
       "                                                      City  \n",
       "Mont Saint Michel                        Mont Saint Michel  \n",
       "St Malo                                            St Malo  \n",
       "Bayeux                                              Bayeux  \n",
       "Le Havre                                          Le Havre  \n",
       "Rouen                                                Rouen  \n",
       "Paris                                                Paris  \n",
       "Amiens                                              Amiens  \n",
       "Lille                                                Lille  \n",
       "Strasbourg                                      Strasbourg  \n",
       "Chateau du Haut Koenigsbourg  Chateau du Haut Koenigsbourg  \n",
       "Colmar                                              Colmar  \n",
       "Eguisheim                                        Eguisheim  \n",
       "Besancon                                          Besancon  \n",
       "Dijon                                                Dijon  \n",
       "Annecy                                              Annecy  \n",
       "Grenoble                                          Grenoble  \n",
       "Lyon                                                  Lyon  \n",
       "Gorges du Verdon                          Gorges du Verdon  \n",
       "Bormes les Mimosas                      Bormes les Mimosas  \n",
       "Cassis                                              Cassis  \n",
       "Marseille                                        Marseille  \n",
       "Aix en Provence                            Aix en Provence  \n",
       "Avignon                                            Avignon  \n",
       "Uzes                                                  Uzes  \n",
       "Nimes                                                Nimes  \n",
       "Aigues Mortes                                Aigues Mortes  \n",
       "Saintes Maries de la mer          Saintes Maries de la mer  \n",
       "Collioure                                        Collioure  \n",
       "Carcassonne                                    Carcassonne  \n",
       "Ariege                                              Ariege  \n",
       "Toulouse                                          Toulouse  \n",
       "Montauban                                        Montauban  \n",
       "Biarritz                                          Biarritz  \n",
       "Bayonne                                            Bayonne  \n",
       "La Rochelle                                    La Rochelle  "
      ]
     },
     "metadata": {},
     "output_type": "display_data"
    }
   ],
   "source": [
    "# Display new dataframe\n",
    "\n",
    "display(df_coordinates)"
   ]
  },
  {
   "cell_type": "markdown",
   "id": "4cbcfb0c-fe22-49fe-b073-7f89aca3abd0",
   "metadata": {},
   "source": [
    "# Weather infos"
   ]
  },
  {
   "cell_type": "code",
   "execution_count": 9,
   "id": "6f5d2a27",
   "metadata": {},
   "outputs": [],
   "source": [
    "# Lists creation in which data will be stored for the 4 chosen parameters\n",
    "\n",
    "data_temp = []\n",
    "data_weather = []\n",
    "data_pop = []\n",
    "data_wind = []"
   ]
  },
  {
   "cell_type": "code",
   "execution_count": 10,
   "id": "650dd5b3",
   "metadata": {},
   "outputs": [],
   "source": [
    "# Requesting API for chosen parameters\n",
    "\n",
    "for c in range (35):\n",
    "    d = requests.get('https://api.openweathermap.org/data/2.5/onecall?lat={}&lon={}&exclude=current,minutely,hourly,alerts&units=metric&appid=xxxxxxxxxxxxx'.format(gps_coord_lat[c],gps_coord_lon[c]))\n",
    "    for day in range(1,8):\n",
    "        data_temp.append(d.json()['daily'][day]['temp'])\n",
    "        data_weather.append(d.json()['daily'][day]['weather'])\n",
    "        data_pop.append(d.json()['daily'][day]['pop'])\n",
    "        data_wind.append(d.json()['daily'][day]['wind_speed'])"
   ]
  },
  {
   "cell_type": "code",
   "execution_count": 11,
   "id": "c738a1da",
   "metadata": {},
   "outputs": [],
   "source": [
    "# Retrieving data from brut infos\n",
    "\n",
    "weather_forecast_first = []\n",
    "temperature_forecast_first = []\n",
    "\n",
    "# Retrieving data regarding text weather forecast and temperature forecast\n",
    "for forecast in range(245):\n",
    "    weather_forecast_first.append(data_weather[forecast][0]['description'])\n",
    "\n",
    "temperature_forecast_first.append([d['day'] for d in data_temp]) "
   ]
  },
  {
   "cell_type": "code",
   "execution_count": 12,
   "id": "7b96de26",
   "metadata": {},
   "outputs": [],
   "source": [
    "# Sorting infos by city for 7 days\n",
    "\n",
    "weather_forecast = []\n",
    "rain_pop = []\n",
    "temperature_forecast_first = temperature_forecast_first[0]\n",
    "day_temp = []\n",
    "wind_speed = []\n",
    "\n",
    "weather_forecast = [weather_forecast_first[x:x+7] for x in range(0, len(weather_forecast_first),7)]\n",
    "day_temp = [temperature_forecast_first[x:x+7] for x in range(0, len(temperature_forecast_first),7)]\n",
    "rain_pop = [data_pop[x:x+7] for x in range(0, len(data_pop),7)]\n",
    "wind_speed = [data_wind[x:x+7] for x in range(0, len(data_wind),7)]"
   ]
  },
  {
   "cell_type": "code",
   "execution_count": 13,
   "id": "978c8952",
   "metadata": {},
   "outputs": [
    {
     "data": {
      "text/html": [
       "<div>\n",
       "<style scoped>\n",
       "    .dataframe tbody tr th:only-of-type {\n",
       "        vertical-align: middle;\n",
       "    }\n",
       "\n",
       "    .dataframe tbody tr th {\n",
       "        vertical-align: top;\n",
       "    }\n",
       "\n",
       "    .dataframe thead th {\n",
       "        text-align: right;\n",
       "    }\n",
       "</style>\n",
       "<table border=\"1\" class=\"dataframe\">\n",
       "  <thead>\n",
       "    <tr style=\"text-align: right;\">\n",
       "      <th></th>\n",
       "      <th>City</th>\n",
       "      <th>7-Day Temperature</th>\n",
       "      <th>7-Day Pop</th>\n",
       "      <th>7-Day Weather condition</th>\n",
       "      <th>7-Day Wind speed</th>\n",
       "    </tr>\n",
       "  </thead>\n",
       "  <tbody>\n",
       "    <tr>\n",
       "      <th>0</th>\n",
       "      <td>Mont Saint Michel</td>\n",
       "      <td>[25.42, 28.2, 21.96, 21.78, 26.53, 28.86, 28.52]</td>\n",
       "      <td>[0.13, 0, 0.83, 0, 0, 0.08, 1]</td>\n",
       "      <td>[overcast clouds, few clouds, moderate rain, c...</td>\n",
       "      <td>[4.44, 6.69, 6.67, 6.69, 6.29, 8.36, 5.19]</td>\n",
       "    </tr>\n",
       "    <tr>\n",
       "      <th>1</th>\n",
       "      <td>St Malo</td>\n",
       "      <td>[23.48, 24.82, 19.9, 19.82, 24.44, 25.4, 23.37]</td>\n",
       "      <td>[0.2, 0, 0.49, 0, 0, 0.05, 1]</td>\n",
       "      <td>[light rain, few clouds, light rain, few cloud...</td>\n",
       "      <td>[4.85, 7, 7.08, 7.2, 7.49, 10.65, 6.31]</td>\n",
       "    </tr>\n",
       "    <tr>\n",
       "      <th>2</th>\n",
       "      <td>Bayeux</td>\n",
       "      <td>[25.99, 28.43, 21.11, 23.14, 21.37, 22.61, 26.66]</td>\n",
       "      <td>[0.24, 0, 0.85, 0, 0, 0, 0.99]</td>\n",
       "      <td>[light rain, broken clouds, light rain, few cl...</td>\n",
       "      <td>[4.25, 5.38, 4.63, 5, 7.05, 7.94, 7.52]</td>\n",
       "    </tr>\n",
       "    <tr>\n",
       "      <th>3</th>\n",
       "      <td>Le Havre</td>\n",
       "      <td>[22.08, 24.65, 20.95, 23.13, 23.62, 23.84, 25.56]</td>\n",
       "      <td>[0.3, 0, 0.61, 0.11, 0, 0, 0.98]</td>\n",
       "      <td>[light rain, overcast clouds, light rain, scat...</td>\n",
       "      <td>[4.53, 6.11, 5.12, 6.44, 8.4, 8.79, 9.05]</td>\n",
       "    </tr>\n",
       "    <tr>\n",
       "      <th>4</th>\n",
       "      <td>Rouen</td>\n",
       "      <td>[26.63, 30.52, 24.14, 27.51, 27.28, 27.39, 29.41]</td>\n",
       "      <td>[0, 0, 0.54, 0.69, 0.18, 0, 1]</td>\n",
       "      <td>[broken clouds, scattered clouds, light rain, ...</td>\n",
       "      <td>[4.54, 3.87, 5.65, 4.8, 5.11, 6.21, 5.57]</td>\n",
       "    </tr>\n",
       "    <tr>\n",
       "      <th>5</th>\n",
       "      <td>Paris</td>\n",
       "      <td>[28.56, 31.02, 33.04, 26.53, 28.13, 28.61, 29.67]</td>\n",
       "      <td>[0, 0, 0.03, 0.4, 0.27, 0, 0.92]</td>\n",
       "      <td>[broken clouds, broken clouds, overcast clouds...</td>\n",
       "      <td>[2.16, 2.69, 6.24, 3.95, 4.7, 4.91, 4.21]</td>\n",
       "    </tr>\n",
       "    <tr>\n",
       "      <th>6</th>\n",
       "      <td>Amiens</td>\n",
       "      <td>[26.94, 29.84, 30.83, 25.42, 25.69, 25.97, 28.66]</td>\n",
       "      <td>[0.05, 0, 0.41, 0.59, 0, 0, 1]</td>\n",
       "      <td>[scattered clouds, clear sky, light rain, ligh...</td>\n",
       "      <td>[5.67, 3.05, 5.28, 5.25, 6.32, 5.84, 6.1]</td>\n",
       "    </tr>\n",
       "    <tr>\n",
       "      <th>7</th>\n",
       "      <td>Lille</td>\n",
       "      <td>[26.83, 29.42, 28.73, 24.99, 25.31, 25.17, 26.94]</td>\n",
       "      <td>[0.02, 0, 0.11, 0.55, 0, 0, 0.69]</td>\n",
       "      <td>[scattered clouds, broken clouds, overcast clo...</td>\n",
       "      <td>[3.26, 3.48, 5.96, 5.67, 5.94, 6.38, 5.42]</td>\n",
       "    </tr>\n",
       "    <tr>\n",
       "      <th>8</th>\n",
       "      <td>Strasbourg</td>\n",
       "      <td>[28.82, 29.51, 30.12, 31.42, 26.04, 27.98, 31.02]</td>\n",
       "      <td>[0.03, 0, 0, 0, 1, 0.91, 0.73]</td>\n",
       "      <td>[scattered clouds, broken clouds, clear sky, f...</td>\n",
       "      <td>[2.25, 4.5, 2.13, 2.8, 4.41, 2.28, 2.18]</td>\n",
       "    </tr>\n",
       "    <tr>\n",
       "      <th>9</th>\n",
       "      <td>Chateau du Haut Koenigsbourg</td>\n",
       "      <td>[25.16, 25.37, 26.22, 27.47, 22.91, 24.89, 28.01]</td>\n",
       "      <td>[0, 0, 0, 0.13, 1, 0.87, 0.97]</td>\n",
       "      <td>[few clouds, broken clouds, clear sky, few clo...</td>\n",
       "      <td>[2.24, 3.81, 1.69, 2.51, 3.02, 1.64, 1.93]</td>\n",
       "    </tr>\n",
       "    <tr>\n",
       "      <th>10</th>\n",
       "      <td>Colmar</td>\n",
       "      <td>[27.94, 28.24, 29.21, 30.5, 27.47, 28.23, 30.9]</td>\n",
       "      <td>[0, 0, 0, 0.08, 0.96, 0.92, 0.93]</td>\n",
       "      <td>[few clouds, broken clouds, few clouds, few cl...</td>\n",
       "      <td>[1.95, 3.8, 1.58, 2.4, 3.76, 1.67, 2.09]</td>\n",
       "    </tr>\n",
       "    <tr>\n",
       "      <th>11</th>\n",
       "      <td>Eguisheim</td>\n",
       "      <td>[27.82, 27.94, 29.06, 30.41, 27.5, 28.26, 30.79]</td>\n",
       "      <td>[0, 0, 0, 0.08, 0.95, 0.92, 0.94]</td>\n",
       "      <td>[few clouds, broken clouds, few clouds, few cl...</td>\n",
       "      <td>[2.2, 3.77, 1.76, 2.45, 3.45, 1.67, 2.02]</td>\n",
       "    </tr>\n",
       "    <tr>\n",
       "      <th>12</th>\n",
       "      <td>Besancon</td>\n",
       "      <td>[27.2, 28.08, 29.4, 29.43, 28.81, 29.7, 31.26]</td>\n",
       "      <td>[0, 0, 0, 0.08, 0.38, 0.26, 0.99]</td>\n",
       "      <td>[clear sky, broken clouds, scattered clouds, s...</td>\n",
       "      <td>[3.24, 4.44, 2.11, 1.46, 3.15, 2.31, 5.61]</td>\n",
       "    </tr>\n",
       "    <tr>\n",
       "      <th>13</th>\n",
       "      <td>Dijon</td>\n",
       "      <td>[27.06, 29.52, 31.03, 28.97, 29.87, 31.02, 30.79]</td>\n",
       "      <td>[0, 0, 0, 0.08, 0.26, 0, 1]</td>\n",
       "      <td>[overcast clouds, broken clouds, scattered clo...</td>\n",
       "      <td>[2.61, 5.09, 2.71, 3.26, 4.36, 2.54, 5.14]</td>\n",
       "    </tr>\n",
       "    <tr>\n",
       "      <th>14</th>\n",
       "      <td>Annecy</td>\n",
       "      <td>[25.92, 27.32, 30.95, 30.17, 29.03, 30.11, 30.32]</td>\n",
       "      <td>[0, 0, 0, 0.46, 0.42, 0.06, 0.91]</td>\n",
       "      <td>[clear sky, broken clouds, clear sky, light ra...</td>\n",
       "      <td>[2.97, 1.75, 1.67, 2.54, 2.21, 1.49, 1.78]</td>\n",
       "    </tr>\n",
       "    <tr>\n",
       "      <th>15</th>\n",
       "      <td>Grenoble</td>\n",
       "      <td>[27.92, 30.47, 33.03, 30.99, 30.39, 32.37, 34.99]</td>\n",
       "      <td>[0, 0, 0, 0.55, 0.47, 0.07, 0.75]</td>\n",
       "      <td>[clear sky, overcast clouds, clear sky, light ...</td>\n",
       "      <td>[2.95, 2.51, 2.57, 2.9, 2.56, 2.02, 2.47]</td>\n",
       "    </tr>\n",
       "    <tr>\n",
       "      <th>16</th>\n",
       "      <td>Lyon</td>\n",
       "      <td>[27.96, 28.01, 31.89, 29.07, 30.29, 31.31, 31.1]</td>\n",
       "      <td>[0, 0, 0.08, 0, 0, 0, 0.95]</td>\n",
       "      <td>[few clouds, overcast clouds, scattered clouds...</td>\n",
       "      <td>[3.87, 1.98, 3.01, 3.41, 3.14, 2.24, 4.35]</td>\n",
       "    </tr>\n",
       "    <tr>\n",
       "      <th>17</th>\n",
       "      <td>Gorges du Verdon</td>\n",
       "      <td>[26.98, 26.64, 29.13, 28.52, 27.34, 28.67, 29.04]</td>\n",
       "      <td>[0.01, 0.01, 0.08, 0.6, 0.68, 0.52, 0.23]</td>\n",
       "      <td>[few clouds, scattered clouds, few clouds, lig...</td>\n",
       "      <td>[3.81, 3.95, 3.88, 3.79, 3.65, 3.31, 4.67]</td>\n",
       "    </tr>\n",
       "    <tr>\n",
       "      <th>18</th>\n",
       "      <td>Bormes les Mimosas</td>\n",
       "      <td>[28.43, 28.08, 28.73, 28.75, 28.37, 28.29, 28.25]</td>\n",
       "      <td>[0, 0, 0, 0.39, 0.21, 0.17, 0]</td>\n",
       "      <td>[clear sky, broken clouds, few clouds, light r...</td>\n",
       "      <td>[3.99, 3.68, 5.41, 2.94, 3.84, 4.34, 3.69]</td>\n",
       "    </tr>\n",
       "    <tr>\n",
       "      <th>19</th>\n",
       "      <td>Cassis</td>\n",
       "      <td>[27.88, 27.24, 27.9, 28.03, 27.4, 27.94, 27.71]</td>\n",
       "      <td>[0, 0, 0, 0.17, 0.13, 0.09, 0.24]</td>\n",
       "      <td>[clear sky, scattered clouds, scattered clouds...</td>\n",
       "      <td>[6.26, 4.55, 4.59, 3.4, 3.06, 2.88, 4.48]</td>\n",
       "    </tr>\n",
       "    <tr>\n",
       "      <th>20</th>\n",
       "      <td>Marseille</td>\n",
       "      <td>[28.09, 27.14, 27.95, 28.17, 27.87, 28, 27.39]</td>\n",
       "      <td>[0, 0, 0, 0.08, 0.09, 0.04, 0.24]</td>\n",
       "      <td>[clear sky, scattered clouds, scattered clouds...</td>\n",
       "      <td>[7.92, 4.46, 4.77, 4.08, 3.36, 3.44, 5.18]</td>\n",
       "    </tr>\n",
       "    <tr>\n",
       "      <th>21</th>\n",
       "      <td>Aix en Provence</td>\n",
       "      <td>[30.49, 30.32, 31.59, 32.24, 31.92, 32.02, 31.28]</td>\n",
       "      <td>[0, 0, 0, 0.12, 0.19, 0.07, 0.25]</td>\n",
       "      <td>[few clouds, broken clouds, broken clouds, sca...</td>\n",
       "      <td>[4.51, 5.05, 4.41, 4.19, 4.84, 5.17, 5.06]</td>\n",
       "    </tr>\n",
       "    <tr>\n",
       "      <th>22</th>\n",
       "      <td>Avignon</td>\n",
       "      <td>[29.99, 31.85, 33.64, 33.8, 33.15, 34.97, 33.37]</td>\n",
       "      <td>[0, 0, 0.22, 0.39, 0.29, 0, 0.19]</td>\n",
       "      <td>[few clouds, scattered clouds, few clouds, lig...</td>\n",
       "      <td>[8.68, 5.63, 4.66, 6.26, 6.11, 6.56, 6.29]</td>\n",
       "    </tr>\n",
       "    <tr>\n",
       "      <th>23</th>\n",
       "      <td>Uzes</td>\n",
       "      <td>[29.62, 30.38, 32.42, 33.22, 32.21, 33.53, 31.91]</td>\n",
       "      <td>[0, 0, 0.4, 0.67, 0.47, 0, 0.07]</td>\n",
       "      <td>[few clouds, few clouds, light rain, light rai...</td>\n",
       "      <td>[8.71, 5.15, 3.7, 4.43, 5.43, 6.8, 6.03]</td>\n",
       "    </tr>\n",
       "    <tr>\n",
       "      <th>24</th>\n",
       "      <td>Nimes</td>\n",
       "      <td>[30.66, 31.26, 32.45, 33.99, 33.07, 33.92, 31.52]</td>\n",
       "      <td>[0, 0, 0.27, 0.66, 0.51, 0, 0.03]</td>\n",
       "      <td>[few clouds, few clouds, light rain, light rai...</td>\n",
       "      <td>[7.8, 4.99, 4.37, 3.86, 4.76, 6.25, 6.02]</td>\n",
       "    </tr>\n",
       "    <tr>\n",
       "      <th>25</th>\n",
       "      <td>Aigues Mortes</td>\n",
       "      <td>[29.73, 28.62, 27.64, 29.52, 29.38, 28.69, 27.09]</td>\n",
       "      <td>[0, 0, 0.18, 0.6, 0.55, 0, 0.01]</td>\n",
       "      <td>[few clouds, clear sky, broken clouds, light r...</td>\n",
       "      <td>[6.1, 4.86, 4.51, 4.56, 5.03, 4.56, 6.18]</td>\n",
       "    </tr>\n",
       "    <tr>\n",
       "      <th>26</th>\n",
       "      <td>Saintes Maries de la mer</td>\n",
       "      <td>[28.42, 27.35, 26.05, 28.23, 28.54, 26.85, 26.12]</td>\n",
       "      <td>[0, 0, 0.11, 0.45, 0.41, 0, 0]</td>\n",
       "      <td>[few clouds, clear sky, broken clouds, light r...</td>\n",
       "      <td>[7.5, 5.01, 4.32, 5.99, 5.55, 4.78, 6.7]</td>\n",
       "    </tr>\n",
       "    <tr>\n",
       "      <th>27</th>\n",
       "      <td>Collioure</td>\n",
       "      <td>[28.89, 29.03, 29.25, 29.77, 29.5, 29.68, 29.73]</td>\n",
       "      <td>[0, 0.32, 0.32, 0.49, 0.23, 0.05, 0.04]</td>\n",
       "      <td>[broken clouds, light rain, light rain, light ...</td>\n",
       "      <td>[7.24, 4.93, 5.38, 6.99, 4.77, 7.14, 3.82]</td>\n",
       "    </tr>\n",
       "    <tr>\n",
       "      <th>28</th>\n",
       "      <td>Carcassonne</td>\n",
       "      <td>[28.85, 33.61, 32.55, 24.07, 32.11, 33.77, 32.21]</td>\n",
       "      <td>[0.06, 0.24, 0.76, 0.76, 0.27, 0.02, 0]</td>\n",
       "      <td>[broken clouds, clear sky, light rain, light r...</td>\n",
       "      <td>[4.87, 7.11, 5.6, 6.6, 3.69, 8.1, 6.29]</td>\n",
       "    </tr>\n",
       "    <tr>\n",
       "      <th>29</th>\n",
       "      <td>Ariege</td>\n",
       "      <td>[22, 27.3, 23.02, 17.98, 23.92, 29.72, 28.6]</td>\n",
       "      <td>[0.07, 0.63, 1, 1, 0.57, 0.34, 0.18]</td>\n",
       "      <td>[overcast clouds, moderate rain, light rain, l...</td>\n",
       "      <td>[2.71, 3.78, 2.42, 2.91, 3.08, 3.17, 2.52]</td>\n",
       "    </tr>\n",
       "    <tr>\n",
       "      <th>30</th>\n",
       "      <td>Toulouse</td>\n",
       "      <td>[27.82, 33.44, 30.86, 22.53, 28.7, 35.54, 34.27]</td>\n",
       "      <td>[0.06, 0.11, 0.98, 1, 0.32, 0.29, 0.26]</td>\n",
       "      <td>[overcast clouds, clear sky, light rain, moder...</td>\n",
       "      <td>[3.13, 6.88, 6.55, 4.91, 3.57, 7.69, 4.63]</td>\n",
       "    </tr>\n",
       "    <tr>\n",
       "      <th>31</th>\n",
       "      <td>Montauban</td>\n",
       "      <td>[28.03, 33.31, 31.03, 22.6, 29.49, 36.74, 33.95]</td>\n",
       "      <td>[0, 0, 0.92, 1, 0.41, 0.44, 0.42]</td>\n",
       "      <td>[broken clouds, clear sky, light rain, light r...</td>\n",
       "      <td>[3.28, 5.9, 6.5, 4.46, 2.93, 7.66, 4.28]</td>\n",
       "    </tr>\n",
       "    <tr>\n",
       "      <th>32</th>\n",
       "      <td>Biarritz</td>\n",
       "      <td>[25.06, 28.36, 22.02, 21.15, 23.08, 28.51, 23.84]</td>\n",
       "      <td>[0.09, 1, 1, 0.34, 0.35, 0.97, 0.81]</td>\n",
       "      <td>[broken clouds, moderate rain, moderate rain, ...</td>\n",
       "      <td>[4.13, 7.42, 4.28, 3.98, 3.51, 4.7, 3.8]</td>\n",
       "    </tr>\n",
       "    <tr>\n",
       "      <th>33</th>\n",
       "      <td>Bayonne</td>\n",
       "      <td>[26.27, 29.9, 22.92, 21.95, 24.11, 30.02, 24.37]</td>\n",
       "      <td>[0.08, 1, 1, 0.32, 0.37, 1, 0.85]</td>\n",
       "      <td>[broken clouds, moderate rain, moderate rain, ...</td>\n",
       "      <td>[4.05, 7.82, 4.23, 4.18, 3.41, 4.76, 4.16]</td>\n",
       "    </tr>\n",
       "    <tr>\n",
       "      <th>34</th>\n",
       "      <td>La Rochelle</td>\n",
       "      <td>[23.09, 26.83, 24.33, 23.72, 26.72, 29.72, 22.65]</td>\n",
       "      <td>[0, 0.16, 0.57, 0.6, 0, 0.77, 0.75]</td>\n",
       "      <td>[overcast clouds, few clouds, light rain, ligh...</td>\n",
       "      <td>[5.1, 8.14, 6.13, 7.57, 6.17, 6.29, 6.01]</td>\n",
       "    </tr>\n",
       "  </tbody>\n",
       "</table>\n",
       "</div>"
      ],
      "text/plain": [
       "                            City  \\\n",
       "0              Mont Saint Michel   \n",
       "1                        St Malo   \n",
       "2                         Bayeux   \n",
       "3                       Le Havre   \n",
       "4                          Rouen   \n",
       "5                          Paris   \n",
       "6                         Amiens   \n",
       "7                          Lille   \n",
       "8                     Strasbourg   \n",
       "9   Chateau du Haut Koenigsbourg   \n",
       "10                        Colmar   \n",
       "11                     Eguisheim   \n",
       "12                      Besancon   \n",
       "13                         Dijon   \n",
       "14                        Annecy   \n",
       "15                      Grenoble   \n",
       "16                          Lyon   \n",
       "17              Gorges du Verdon   \n",
       "18            Bormes les Mimosas   \n",
       "19                        Cassis   \n",
       "20                     Marseille   \n",
       "21               Aix en Provence   \n",
       "22                       Avignon   \n",
       "23                          Uzes   \n",
       "24                         Nimes   \n",
       "25                 Aigues Mortes   \n",
       "26      Saintes Maries de la mer   \n",
       "27                     Collioure   \n",
       "28                   Carcassonne   \n",
       "29                        Ariege   \n",
       "30                      Toulouse   \n",
       "31                     Montauban   \n",
       "32                      Biarritz   \n",
       "33                       Bayonne   \n",
       "34                   La Rochelle   \n",
       "\n",
       "                                    7-Day Temperature  \\\n",
       "0    [25.42, 28.2, 21.96, 21.78, 26.53, 28.86, 28.52]   \n",
       "1     [23.48, 24.82, 19.9, 19.82, 24.44, 25.4, 23.37]   \n",
       "2   [25.99, 28.43, 21.11, 23.14, 21.37, 22.61, 26.66]   \n",
       "3   [22.08, 24.65, 20.95, 23.13, 23.62, 23.84, 25.56]   \n",
       "4   [26.63, 30.52, 24.14, 27.51, 27.28, 27.39, 29.41]   \n",
       "5   [28.56, 31.02, 33.04, 26.53, 28.13, 28.61, 29.67]   \n",
       "6   [26.94, 29.84, 30.83, 25.42, 25.69, 25.97, 28.66]   \n",
       "7   [26.83, 29.42, 28.73, 24.99, 25.31, 25.17, 26.94]   \n",
       "8   [28.82, 29.51, 30.12, 31.42, 26.04, 27.98, 31.02]   \n",
       "9   [25.16, 25.37, 26.22, 27.47, 22.91, 24.89, 28.01]   \n",
       "10    [27.94, 28.24, 29.21, 30.5, 27.47, 28.23, 30.9]   \n",
       "11   [27.82, 27.94, 29.06, 30.41, 27.5, 28.26, 30.79]   \n",
       "12     [27.2, 28.08, 29.4, 29.43, 28.81, 29.7, 31.26]   \n",
       "13  [27.06, 29.52, 31.03, 28.97, 29.87, 31.02, 30.79]   \n",
       "14  [25.92, 27.32, 30.95, 30.17, 29.03, 30.11, 30.32]   \n",
       "15  [27.92, 30.47, 33.03, 30.99, 30.39, 32.37, 34.99]   \n",
       "16   [27.96, 28.01, 31.89, 29.07, 30.29, 31.31, 31.1]   \n",
       "17  [26.98, 26.64, 29.13, 28.52, 27.34, 28.67, 29.04]   \n",
       "18  [28.43, 28.08, 28.73, 28.75, 28.37, 28.29, 28.25]   \n",
       "19    [27.88, 27.24, 27.9, 28.03, 27.4, 27.94, 27.71]   \n",
       "20     [28.09, 27.14, 27.95, 28.17, 27.87, 28, 27.39]   \n",
       "21  [30.49, 30.32, 31.59, 32.24, 31.92, 32.02, 31.28]   \n",
       "22   [29.99, 31.85, 33.64, 33.8, 33.15, 34.97, 33.37]   \n",
       "23  [29.62, 30.38, 32.42, 33.22, 32.21, 33.53, 31.91]   \n",
       "24  [30.66, 31.26, 32.45, 33.99, 33.07, 33.92, 31.52]   \n",
       "25  [29.73, 28.62, 27.64, 29.52, 29.38, 28.69, 27.09]   \n",
       "26  [28.42, 27.35, 26.05, 28.23, 28.54, 26.85, 26.12]   \n",
       "27   [28.89, 29.03, 29.25, 29.77, 29.5, 29.68, 29.73]   \n",
       "28  [28.85, 33.61, 32.55, 24.07, 32.11, 33.77, 32.21]   \n",
       "29       [22, 27.3, 23.02, 17.98, 23.92, 29.72, 28.6]   \n",
       "30   [27.82, 33.44, 30.86, 22.53, 28.7, 35.54, 34.27]   \n",
       "31   [28.03, 33.31, 31.03, 22.6, 29.49, 36.74, 33.95]   \n",
       "32  [25.06, 28.36, 22.02, 21.15, 23.08, 28.51, 23.84]   \n",
       "33   [26.27, 29.9, 22.92, 21.95, 24.11, 30.02, 24.37]   \n",
       "34  [23.09, 26.83, 24.33, 23.72, 26.72, 29.72, 22.65]   \n",
       "\n",
       "                                    7-Day Pop  \\\n",
       "0              [0.13, 0, 0.83, 0, 0, 0.08, 1]   \n",
       "1               [0.2, 0, 0.49, 0, 0, 0.05, 1]   \n",
       "2              [0.24, 0, 0.85, 0, 0, 0, 0.99]   \n",
       "3            [0.3, 0, 0.61, 0.11, 0, 0, 0.98]   \n",
       "4              [0, 0, 0.54, 0.69, 0.18, 0, 1]   \n",
       "5            [0, 0, 0.03, 0.4, 0.27, 0, 0.92]   \n",
       "6              [0.05, 0, 0.41, 0.59, 0, 0, 1]   \n",
       "7           [0.02, 0, 0.11, 0.55, 0, 0, 0.69]   \n",
       "8              [0.03, 0, 0, 0, 1, 0.91, 0.73]   \n",
       "9              [0, 0, 0, 0.13, 1, 0.87, 0.97]   \n",
       "10          [0, 0, 0, 0.08, 0.96, 0.92, 0.93]   \n",
       "11          [0, 0, 0, 0.08, 0.95, 0.92, 0.94]   \n",
       "12          [0, 0, 0, 0.08, 0.38, 0.26, 0.99]   \n",
       "13                [0, 0, 0, 0.08, 0.26, 0, 1]   \n",
       "14          [0, 0, 0, 0.46, 0.42, 0.06, 0.91]   \n",
       "15          [0, 0, 0, 0.55, 0.47, 0.07, 0.75]   \n",
       "16                [0, 0, 0.08, 0, 0, 0, 0.95]   \n",
       "17  [0.01, 0.01, 0.08, 0.6, 0.68, 0.52, 0.23]   \n",
       "18             [0, 0, 0, 0.39, 0.21, 0.17, 0]   \n",
       "19          [0, 0, 0, 0.17, 0.13, 0.09, 0.24]   \n",
       "20          [0, 0, 0, 0.08, 0.09, 0.04, 0.24]   \n",
       "21          [0, 0, 0, 0.12, 0.19, 0.07, 0.25]   \n",
       "22          [0, 0, 0.22, 0.39, 0.29, 0, 0.19]   \n",
       "23           [0, 0, 0.4, 0.67, 0.47, 0, 0.07]   \n",
       "24          [0, 0, 0.27, 0.66, 0.51, 0, 0.03]   \n",
       "25           [0, 0, 0.18, 0.6, 0.55, 0, 0.01]   \n",
       "26             [0, 0, 0.11, 0.45, 0.41, 0, 0]   \n",
       "27    [0, 0.32, 0.32, 0.49, 0.23, 0.05, 0.04]   \n",
       "28    [0.06, 0.24, 0.76, 0.76, 0.27, 0.02, 0]   \n",
       "29       [0.07, 0.63, 1, 1, 0.57, 0.34, 0.18]   \n",
       "30    [0.06, 0.11, 0.98, 1, 0.32, 0.29, 0.26]   \n",
       "31          [0, 0, 0.92, 1, 0.41, 0.44, 0.42]   \n",
       "32       [0.09, 1, 1, 0.34, 0.35, 0.97, 0.81]   \n",
       "33          [0.08, 1, 1, 0.32, 0.37, 1, 0.85]   \n",
       "34        [0, 0.16, 0.57, 0.6, 0, 0.77, 0.75]   \n",
       "\n",
       "                              7-Day Weather condition  \\\n",
       "0   [overcast clouds, few clouds, moderate rain, c...   \n",
       "1   [light rain, few clouds, light rain, few cloud...   \n",
       "2   [light rain, broken clouds, light rain, few cl...   \n",
       "3   [light rain, overcast clouds, light rain, scat...   \n",
       "4   [broken clouds, scattered clouds, light rain, ...   \n",
       "5   [broken clouds, broken clouds, overcast clouds...   \n",
       "6   [scattered clouds, clear sky, light rain, ligh...   \n",
       "7   [scattered clouds, broken clouds, overcast clo...   \n",
       "8   [scattered clouds, broken clouds, clear sky, f...   \n",
       "9   [few clouds, broken clouds, clear sky, few clo...   \n",
       "10  [few clouds, broken clouds, few clouds, few cl...   \n",
       "11  [few clouds, broken clouds, few clouds, few cl...   \n",
       "12  [clear sky, broken clouds, scattered clouds, s...   \n",
       "13  [overcast clouds, broken clouds, scattered clo...   \n",
       "14  [clear sky, broken clouds, clear sky, light ra...   \n",
       "15  [clear sky, overcast clouds, clear sky, light ...   \n",
       "16  [few clouds, overcast clouds, scattered clouds...   \n",
       "17  [few clouds, scattered clouds, few clouds, lig...   \n",
       "18  [clear sky, broken clouds, few clouds, light r...   \n",
       "19  [clear sky, scattered clouds, scattered clouds...   \n",
       "20  [clear sky, scattered clouds, scattered clouds...   \n",
       "21  [few clouds, broken clouds, broken clouds, sca...   \n",
       "22  [few clouds, scattered clouds, few clouds, lig...   \n",
       "23  [few clouds, few clouds, light rain, light rai...   \n",
       "24  [few clouds, few clouds, light rain, light rai...   \n",
       "25  [few clouds, clear sky, broken clouds, light r...   \n",
       "26  [few clouds, clear sky, broken clouds, light r...   \n",
       "27  [broken clouds, light rain, light rain, light ...   \n",
       "28  [broken clouds, clear sky, light rain, light r...   \n",
       "29  [overcast clouds, moderate rain, light rain, l...   \n",
       "30  [overcast clouds, clear sky, light rain, moder...   \n",
       "31  [broken clouds, clear sky, light rain, light r...   \n",
       "32  [broken clouds, moderate rain, moderate rain, ...   \n",
       "33  [broken clouds, moderate rain, moderate rain, ...   \n",
       "34  [overcast clouds, few clouds, light rain, ligh...   \n",
       "\n",
       "                              7-Day Wind speed  \n",
       "0   [4.44, 6.69, 6.67, 6.69, 6.29, 8.36, 5.19]  \n",
       "1      [4.85, 7, 7.08, 7.2, 7.49, 10.65, 6.31]  \n",
       "2      [4.25, 5.38, 4.63, 5, 7.05, 7.94, 7.52]  \n",
       "3    [4.53, 6.11, 5.12, 6.44, 8.4, 8.79, 9.05]  \n",
       "4    [4.54, 3.87, 5.65, 4.8, 5.11, 6.21, 5.57]  \n",
       "5    [2.16, 2.69, 6.24, 3.95, 4.7, 4.91, 4.21]  \n",
       "6    [5.67, 3.05, 5.28, 5.25, 6.32, 5.84, 6.1]  \n",
       "7   [3.26, 3.48, 5.96, 5.67, 5.94, 6.38, 5.42]  \n",
       "8     [2.25, 4.5, 2.13, 2.8, 4.41, 2.28, 2.18]  \n",
       "9   [2.24, 3.81, 1.69, 2.51, 3.02, 1.64, 1.93]  \n",
       "10    [1.95, 3.8, 1.58, 2.4, 3.76, 1.67, 2.09]  \n",
       "11   [2.2, 3.77, 1.76, 2.45, 3.45, 1.67, 2.02]  \n",
       "12  [3.24, 4.44, 2.11, 1.46, 3.15, 2.31, 5.61]  \n",
       "13  [2.61, 5.09, 2.71, 3.26, 4.36, 2.54, 5.14]  \n",
       "14  [2.97, 1.75, 1.67, 2.54, 2.21, 1.49, 1.78]  \n",
       "15   [2.95, 2.51, 2.57, 2.9, 2.56, 2.02, 2.47]  \n",
       "16  [3.87, 1.98, 3.01, 3.41, 3.14, 2.24, 4.35]  \n",
       "17  [3.81, 3.95, 3.88, 3.79, 3.65, 3.31, 4.67]  \n",
       "18  [3.99, 3.68, 5.41, 2.94, 3.84, 4.34, 3.69]  \n",
       "19   [6.26, 4.55, 4.59, 3.4, 3.06, 2.88, 4.48]  \n",
       "20  [7.92, 4.46, 4.77, 4.08, 3.36, 3.44, 5.18]  \n",
       "21  [4.51, 5.05, 4.41, 4.19, 4.84, 5.17, 5.06]  \n",
       "22  [8.68, 5.63, 4.66, 6.26, 6.11, 6.56, 6.29]  \n",
       "23    [8.71, 5.15, 3.7, 4.43, 5.43, 6.8, 6.03]  \n",
       "24   [7.8, 4.99, 4.37, 3.86, 4.76, 6.25, 6.02]  \n",
       "25   [6.1, 4.86, 4.51, 4.56, 5.03, 4.56, 6.18]  \n",
       "26    [7.5, 5.01, 4.32, 5.99, 5.55, 4.78, 6.7]  \n",
       "27  [7.24, 4.93, 5.38, 6.99, 4.77, 7.14, 3.82]  \n",
       "28     [4.87, 7.11, 5.6, 6.6, 3.69, 8.1, 6.29]  \n",
       "29  [2.71, 3.78, 2.42, 2.91, 3.08, 3.17, 2.52]  \n",
       "30  [3.13, 6.88, 6.55, 4.91, 3.57, 7.69, 4.63]  \n",
       "31    [3.28, 5.9, 6.5, 4.46, 2.93, 7.66, 4.28]  \n",
       "32    [4.13, 7.42, 4.28, 3.98, 3.51, 4.7, 3.8]  \n",
       "33  [4.05, 7.82, 4.23, 4.18, 3.41, 4.76, 4.16]  \n",
       "34   [5.1, 8.14, 6.13, 7.57, 6.17, 6.29, 6.01]  "
      ]
     },
     "execution_count": 13,
     "metadata": {},
     "output_type": "execute_result"
    }
   ],
   "source": [
    "# Gather all data in one dataframe\n",
    "\n",
    "df_weather_infos = pd.DataFrame()\n",
    "df_weather_infos['City'] = cities_list\n",
    "df_weather_infos['7-Day Temperature'] = day_temp\n",
    "df_weather_infos['7-Day Pop'] = rain_pop\n",
    "df_weather_infos['7-Day Weather condition'] = weather_forecast\n",
    "df_weather_infos['7-Day Wind speed'] = wind_speed\n",
    "\n",
    "df_weather_infos"
   ]
  },
  {
   "cell_type": "markdown",
   "id": "c413766f-3343-474b-adf6-87c343decde3",
   "metadata": {},
   "source": [
    "# Hotel infos"
   ]
  },
  {
   "cell_type": "code",
   "execution_count": 14,
   "id": "8e95dc85",
   "metadata": {},
   "outputs": [],
   "source": [
    "# Define the spider to crawl Booking pages and get the data that we want\n",
    "class bookingSpider(scrapy.Spider):\n",
    "    # Variables definition\n",
    "    locs = [\"Mont Saint Michel\",\"St Malo\",\"Bayeux\",\"Le Havre\",\"Rouen\",\"Paris\",\"Amiens\",\"Lille\",\"Strasbourg\",\"Chateau du Haut Koenigsbourg\",\"Colmar\",\"Eguisheim\",\"Besancon\",\"Dijon\",\"Annecy\",\"Grenoble\",\"Lyon\",\"Gorges du Verdon\",\"Bormes les Mimosas\",\"Cassis\",\"Marseille\",\"Aix en Provence\",\"Avignon\",\"Uzes\",\"Nimes\",\"Aigue sMortes\",\"Saintes Maries de la mer\",\"Collioure\",\"Carcassonne\",\"Ariege\",\"Toulouse\",\"Montauban\",\"Biarritz\",\"Bayonne\",\"La Rochelle\"]\n",
    "    name = \"booking\"\n",
    "    init_url = dict() # set a dictionary for the urls to follow\n",
    "    start_urls = [\"https://www.booking.com/\"]\n",
    "\n",
    "    # Method to enter the cities in searching destination\n",
    "    def parse(self, response):\n",
    "        for loc in self.locs:\n",
    "            # returns a new FormRequest object with its form field values pre-populated with those found in the HTML <form> element contained in the given response.\n",
    "            yield scrapy.FormRequest.from_response(response,\n",
    "                                                   formdata = {'ss': loc},\n",
    "                                                   callback = self.after_search,\n",
    "                                                   cb_kwargs = {'location':loc, 'page_no':0}\n",
    "                                                   )\n",
    "\n",
    "    # Method to find name, url, score and description of the hotels\n",
    "    def after_search(self, response, location, page_no):\n",
    "        # Condition to crawl pages\n",
    "        if page_no == 0:\n",
    "            self.init_url[location] = response.url\n",
    "        \n",
    "        cities = response.css('div.a826ba81c4.fe821aea6c.fa2f36ad22.afd256fc79.d08f526e0d.ed11e24d01.da89aeb942')\n",
    "        for city in cities:\n",
    "            name = city.css('div.fcab3ed991.a23c043802::text').get()\n",
    "            url = city.css('a.e13098a59f').attrib['href']\n",
    "            score = city.css('div.b5cd09854e.d10a6220b4::text').get()\n",
    "            desc = city.css('div.d8eab2cf7f::text').get()\n",
    "            \n",
    "            dic = {'location': location,\n",
    "                    'name': name,\n",
    "                    'url': url,\n",
    "                    'score':score,\n",
    "                    'description': desc\n",
    "                  }\n",
    "            # initiate method for the parse_hotel GPS cordonnates \n",
    "            try: \n",
    "                yield response.follow(url = url,\n",
    "                                      callback = self.GPS, \n",
    "                                      cb_kwargs = {'dic': dic}\n",
    "                                     ) \n",
    "            except:\n",
    "                dic['lat'] = None\n",
    "                dic['lon'] = None\n",
    "                yield dic\n",
    "         \n",
    "        if page_no <= 1: \n",
    "            # Create variable next_page by the url and end string to give to follow function below\n",
    "            next_page = self.init_url[location]+\"&offset=\"+str(25*(page_no+1)) \n",
    "            # follow method return a request instance to follow a link, here it is the next_page variable who contain previous url with a page tag at the end\n",
    "            yield response.follow(next_page,\n",
    "                                  callback = self.after_search,\n",
    "                                  cb_kwargs = {'location':location, 'page_no':page_no+1}\n",
    "                                 ) \n",
    "\n",
    "    # method to find GPS coordonates and split them in two variables lat & Lon        \n",
    "    def GPS(self, response, dic): \n",
    "        try: \n",
    "            gps = response.css('a.jq_tooltip.loc_block_link_underline_fix.bui-link.show_on_map_hp_link.show_map_hp_link').attrib['data-atlas-latlng']   \n",
    "        except:\n",
    "            dic['lat']=None\n",
    "            dic['lon']=None\n",
    "            yield dic\n",
    "            return None\n",
    "        try:\n",
    "            gps = gps.split(',')\n",
    "            dic['lat']=float(gps[0])\n",
    "            dic['lon']=float(gps[1])\n",
    "            yield dic\n",
    "        except:\n",
    "            print(\"No way to split\")\n",
    "            dic['lat']=None\n",
    "            dic['lon']=None\n",
    "            yield dic\n",
    "            \n",
    "# Define a filename\n",
    "filename = \"scrap_booking.json\"\n",
    "\n",
    "# Remove previous file if it allready exist\n",
    "if filename in os.listdir('hotels_scrapped/'):\n",
    "        os.remove('hotels_scrapped/' + filename)\n",
    "\n",
    "# Define the settings for the crawler process\n",
    "process = CrawlerProcess(settings = {\n",
    "    # simulate browser\n",
    "    'USER_AGENT': 'Mozilla/5.0 (X11; Ubuntu; Linux x86_64; rv:98.0) Gecko/20100101 Firefox/98.0', \n",
    "    # display regular errors\n",
    "    'LOG_LEVEL': logging.ERROR,\n",
    "    \"FEEDS\": {\n",
    "        'hotels_scrapped/' + filename : {\"format\": \"json\"},\n",
    "    }\n",
    "})\n",
    "\n",
    "# Initiate crawler\n",
    "process.crawl(bookingSpider)\n",
    "process.start()"
   ]
  },
  {
   "cell_type": "code",
   "execution_count": 15,
   "id": "58e164d7",
   "metadata": {},
   "outputs": [],
   "source": [
    "# Read the json file created by the spided in a dataframe\n",
    "\n",
    "df_scrapping = pd.read_json('hotels_scrapped/scrap_booking.json')"
   ]
  },
  {
   "cell_type": "code",
   "execution_count": 16,
   "id": "1eb97a2f",
   "metadata": {},
   "outputs": [
    {
     "data": {
      "text/plain": [
       "(2618, 7)"
      ]
     },
     "execution_count": 16,
     "metadata": {},
     "output_type": "execute_result"
    }
   ],
   "source": [
    "# Printing shape of the new dataframe\n",
    "df_scrapping.shape"
   ]
  },
  {
   "cell_type": "code",
   "execution_count": 17,
   "id": "e9bfdd27",
   "metadata": {},
   "outputs": [],
   "source": [
    "# Checking missing infos and deleting lines with missing values\n",
    "\n",
    "for column in df_scrapping:\n",
    "    if df_scrapping[column].isnull().values.any():\n",
    "        df_scrapping = df_scrapping[df_scrapping[column].isna() == False]"
   ]
  },
  {
   "cell_type": "code",
   "execution_count": 18,
   "id": "780a7197",
   "metadata": {},
   "outputs": [
    {
     "data": {
      "text/plain": [
       "(2397, 7)"
      ]
     },
     "execution_count": 18,
     "metadata": {},
     "output_type": "execute_result"
    }
   ],
   "source": [
    "# Checking the new shape without missing values\n",
    "\n",
    "df_scrapping.shape"
   ]
  },
  {
   "cell_type": "code",
   "execution_count": 19,
   "id": "454debe4",
   "metadata": {},
   "outputs": [
    {
     "data": {
      "text/html": [
       "<div>\n",
       "<style scoped>\n",
       "    .dataframe tbody tr th:only-of-type {\n",
       "        vertical-align: middle;\n",
       "    }\n",
       "\n",
       "    .dataframe tbody tr th {\n",
       "        vertical-align: top;\n",
       "    }\n",
       "\n",
       "    .dataframe thead th {\n",
       "        text-align: right;\n",
       "    }\n",
       "</style>\n",
       "<table border=\"1\" class=\"dataframe\">\n",
       "  <thead>\n",
       "    <tr style=\"text-align: right;\">\n",
       "      <th></th>\n",
       "      <th>location</th>\n",
       "      <th>name</th>\n",
       "      <th>url</th>\n",
       "      <th>score</th>\n",
       "      <th>description</th>\n",
       "      <th>lat</th>\n",
       "      <th>lon</th>\n",
       "    </tr>\n",
       "  </thead>\n",
       "  <tbody>\n",
       "    <tr>\n",
       "      <th>0</th>\n",
       "      <td>Amiens</td>\n",
       "      <td>The Originals Boutique Hôtel Amiens Sud</td>\n",
       "      <td>https://www.booking.com/hotel/fr/the-originals...</td>\n",
       "      <td>8.1</td>\n",
       "      <td>Situated in Amiens, 1.9 km from Zénith d'Amien...</td>\n",
       "      <td>49.879613</td>\n",
       "      <td>2.266651</td>\n",
       "    </tr>\n",
       "    <tr>\n",
       "      <th>1</th>\n",
       "      <td>Paris</td>\n",
       "      <td>L'Empire Paris</td>\n",
       "      <td>https://www.booking.com/hotel/fr/empire-paris....</td>\n",
       "      <td>8.2</td>\n",
       "      <td>Located 300 metres from the Louvre Museum and ...</td>\n",
       "      <td>48.860638</td>\n",
       "      <td>2.342427</td>\n",
       "    </tr>\n",
       "    <tr>\n",
       "      <th>2</th>\n",
       "      <td>Strasbourg</td>\n",
       "      <td>Le Gutenberg</td>\n",
       "      <td>https://www.booking.com/hotel/fr/le-gutenberg....</td>\n",
       "      <td>8.6</td>\n",
       "      <td>Managed by a private host</td>\n",
       "      <td>48.581854</td>\n",
       "      <td>7.748158</td>\n",
       "    </tr>\n",
       "    <tr>\n",
       "      <th>3</th>\n",
       "      <td>Mont Saint Michel</td>\n",
       "      <td>Les Terrasses Poulard</td>\n",
       "      <td>https://www.booking.com/hotel/fr/les-terrasses...</td>\n",
       "      <td>7.3</td>\n",
       "      <td>Composed of 2 different buildings, Les Terrass...</td>\n",
       "      <td>48.635349</td>\n",
       "      <td>-1.510379</td>\n",
       "    </tr>\n",
       "    <tr>\n",
       "      <th>4</th>\n",
       "      <td>Besancon</td>\n",
       "      <td>ibis Styles Besançon</td>\n",
       "      <td>https://www.booking.com/hotel/fr/besancon.en-g...</td>\n",
       "      <td>7.8</td>\n",
       "      <td>Conveniently located in a park, ibis Styles Be...</td>\n",
       "      <td>47.254253</td>\n",
       "      <td>6.021640</td>\n",
       "    </tr>\n",
       "  </tbody>\n",
       "</table>\n",
       "</div>"
      ],
      "text/plain": [
       "            location                                     name  \\\n",
       "0             Amiens  The Originals Boutique Hôtel Amiens Sud   \n",
       "1              Paris                           L'Empire Paris   \n",
       "2         Strasbourg                             Le Gutenberg   \n",
       "3  Mont Saint Michel                    Les Terrasses Poulard   \n",
       "4           Besancon                     ibis Styles Besançon   \n",
       "\n",
       "                                                 url  score  \\\n",
       "0  https://www.booking.com/hotel/fr/the-originals...    8.1   \n",
       "1  https://www.booking.com/hotel/fr/empire-paris....    8.2   \n",
       "2  https://www.booking.com/hotel/fr/le-gutenberg....    8.6   \n",
       "3  https://www.booking.com/hotel/fr/les-terrasses...    7.3   \n",
       "4  https://www.booking.com/hotel/fr/besancon.en-g...    7.8   \n",
       "\n",
       "                                         description        lat       lon  \n",
       "0  Situated in Amiens, 1.9 km from Zénith d'Amien...  49.879613  2.266651  \n",
       "1  Located 300 metres from the Louvre Museum and ...  48.860638  2.342427  \n",
       "2                          Managed by a private host  48.581854  7.748158  \n",
       "3  Composed of 2 different buildings, Les Terrass...  48.635349 -1.510379  \n",
       "4  Conveniently located in a park, ibis Styles Be...  47.254253  6.021640  "
      ]
     },
     "execution_count": 19,
     "metadata": {},
     "output_type": "execute_result"
    }
   ],
   "source": [
    "# Printing first 5 rows of dataframe\n",
    "\n",
    "df_scrapping.head()"
   ]
  },
  {
   "cell_type": "code",
   "execution_count": 20,
   "id": "98edd956",
   "metadata": {},
   "outputs": [],
   "source": [
    "# Changing the name of the location column\n",
    "df_scrapping.rename({'location': 'City'}, axis=1, inplace=True)"
   ]
  },
  {
   "cell_type": "code",
   "execution_count": 21,
   "id": "1a05dbf5",
   "metadata": {},
   "outputs": [],
   "source": [
    "# Changing the name of the name column\n",
    "df_scrapping.rename({'name': 'Hotel Name'}, axis=1, inplace=True)"
   ]
  },
  {
   "cell_type": "code",
   "execution_count": 22,
   "id": "95aa5b31",
   "metadata": {},
   "outputs": [],
   "source": [
    "# Merging all out dataframes\n",
    "df_final = df_scrapping.merge(df_weather_infos, how = 'left' , on = 'City')\n",
    "df_final = df_final.merge(df_coordinates, how = 'left' , on ='City')"
   ]
  },
  {
   "cell_type": "code",
   "execution_count": 23,
   "id": "3ba49235",
   "metadata": {},
   "outputs": [
    {
     "data": {
      "text/html": [
       "<div>\n",
       "<style scoped>\n",
       "    .dataframe tbody tr th:only-of-type {\n",
       "        vertical-align: middle;\n",
       "    }\n",
       "\n",
       "    .dataframe tbody tr th {\n",
       "        vertical-align: top;\n",
       "    }\n",
       "\n",
       "    .dataframe thead th {\n",
       "        text-align: right;\n",
       "    }\n",
       "</style>\n",
       "<table border=\"1\" class=\"dataframe\">\n",
       "  <thead>\n",
       "    <tr style=\"text-align: right;\">\n",
       "      <th></th>\n",
       "      <th>City</th>\n",
       "      <th>Hotel Name</th>\n",
       "      <th>url</th>\n",
       "      <th>score</th>\n",
       "      <th>description</th>\n",
       "      <th>lat</th>\n",
       "      <th>lon</th>\n",
       "      <th>7-Day Temperature</th>\n",
       "      <th>7-Day Pop</th>\n",
       "      <th>7-Day Weather condition</th>\n",
       "      <th>7-Day Wind speed</th>\n",
       "      <th>City_Lat</th>\n",
       "      <th>City_Lon</th>\n",
       "    </tr>\n",
       "  </thead>\n",
       "  <tbody>\n",
       "    <tr>\n",
       "      <th>0</th>\n",
       "      <td>Amiens</td>\n",
       "      <td>The Originals Boutique Hôtel Amiens Sud</td>\n",
       "      <td>https://www.booking.com/hotel/fr/the-originals...</td>\n",
       "      <td>8.1</td>\n",
       "      <td>Situated in Amiens, 1.9 km from Zénith d'Amien...</td>\n",
       "      <td>49.879613</td>\n",
       "      <td>2.266651</td>\n",
       "      <td>[26.94, 29.84, 30.83, 25.42, 25.69, 25.97, 28.66]</td>\n",
       "      <td>[0.05, 0, 0.41, 0.59, 0, 0, 1]</td>\n",
       "      <td>[scattered clouds, clear sky, light rain, ligh...</td>\n",
       "      <td>[5.67, 3.05, 5.28, 5.25, 6.32, 5.84, 6.1]</td>\n",
       "      <td>49.8941708</td>\n",
       "      <td>2.2956951</td>\n",
       "    </tr>\n",
       "    <tr>\n",
       "      <th>1</th>\n",
       "      <td>Paris</td>\n",
       "      <td>L'Empire Paris</td>\n",
       "      <td>https://www.booking.com/hotel/fr/empire-paris....</td>\n",
       "      <td>8.2</td>\n",
       "      <td>Located 300 metres from the Louvre Museum and ...</td>\n",
       "      <td>48.860638</td>\n",
       "      <td>2.342427</td>\n",
       "      <td>[28.56, 31.02, 33.04, 26.53, 28.13, 28.61, 29.67]</td>\n",
       "      <td>[0, 0, 0.03, 0.4, 0.27, 0, 0.92]</td>\n",
       "      <td>[broken clouds, broken clouds, overcast clouds...</td>\n",
       "      <td>[2.16, 2.69, 6.24, 3.95, 4.7, 4.91, 4.21]</td>\n",
       "      <td>48.8588897</td>\n",
       "      <td>2.3200410217200766</td>\n",
       "    </tr>\n",
       "    <tr>\n",
       "      <th>2</th>\n",
       "      <td>Strasbourg</td>\n",
       "      <td>Le Gutenberg</td>\n",
       "      <td>https://www.booking.com/hotel/fr/le-gutenberg....</td>\n",
       "      <td>8.6</td>\n",
       "      <td>Managed by a private host</td>\n",
       "      <td>48.581854</td>\n",
       "      <td>7.748158</td>\n",
       "      <td>[28.82, 29.51, 30.12, 31.42, 26.04, 27.98, 31.02]</td>\n",
       "      <td>[0.03, 0, 0, 0, 1, 0.91, 0.73]</td>\n",
       "      <td>[scattered clouds, broken clouds, clear sky, f...</td>\n",
       "      <td>[2.25, 4.5, 2.13, 2.8, 4.41, 2.28, 2.18]</td>\n",
       "      <td>48.584614</td>\n",
       "      <td>7.7507127</td>\n",
       "    </tr>\n",
       "    <tr>\n",
       "      <th>3</th>\n",
       "      <td>Mont Saint Michel</td>\n",
       "      <td>Les Terrasses Poulard</td>\n",
       "      <td>https://www.booking.com/hotel/fr/les-terrasses...</td>\n",
       "      <td>7.3</td>\n",
       "      <td>Composed of 2 different buildings, Les Terrass...</td>\n",
       "      <td>48.635349</td>\n",
       "      <td>-1.510379</td>\n",
       "      <td>[25.42, 28.2, 21.96, 21.78, 26.53, 28.86, 28.52]</td>\n",
       "      <td>[0.13, 0, 0.83, 0, 0, 0.08, 1]</td>\n",
       "      <td>[overcast clouds, few clouds, moderate rain, c...</td>\n",
       "      <td>[4.44, 6.69, 6.67, 6.69, 6.29, 8.36, 5.19]</td>\n",
       "      <td>48.6359541</td>\n",
       "      <td>-1.511459954959514</td>\n",
       "    </tr>\n",
       "    <tr>\n",
       "      <th>4</th>\n",
       "      <td>Besancon</td>\n",
       "      <td>ibis Styles Besançon</td>\n",
       "      <td>https://www.booking.com/hotel/fr/besancon.en-g...</td>\n",
       "      <td>7.8</td>\n",
       "      <td>Conveniently located in a park, ibis Styles Be...</td>\n",
       "      <td>47.254253</td>\n",
       "      <td>6.021640</td>\n",
       "      <td>[27.2, 28.08, 29.4, 29.43, 28.81, 29.7, 31.26]</td>\n",
       "      <td>[0, 0, 0, 0.08, 0.38, 0.26, 0.99]</td>\n",
       "      <td>[clear sky, broken clouds, scattered clouds, s...</td>\n",
       "      <td>[3.24, 4.44, 2.11, 1.46, 3.15, 2.31, 5.61]</td>\n",
       "      <td>47.2380222</td>\n",
       "      <td>6.0243622</td>\n",
       "    </tr>\n",
       "  </tbody>\n",
       "</table>\n",
       "</div>"
      ],
      "text/plain": [
       "                City                               Hotel Name  \\\n",
       "0             Amiens  The Originals Boutique Hôtel Amiens Sud   \n",
       "1              Paris                           L'Empire Paris   \n",
       "2         Strasbourg                             Le Gutenberg   \n",
       "3  Mont Saint Michel                    Les Terrasses Poulard   \n",
       "4           Besancon                     ibis Styles Besançon   \n",
       "\n",
       "                                                 url  score  \\\n",
       "0  https://www.booking.com/hotel/fr/the-originals...    8.1   \n",
       "1  https://www.booking.com/hotel/fr/empire-paris....    8.2   \n",
       "2  https://www.booking.com/hotel/fr/le-gutenberg....    8.6   \n",
       "3  https://www.booking.com/hotel/fr/les-terrasses...    7.3   \n",
       "4  https://www.booking.com/hotel/fr/besancon.en-g...    7.8   \n",
       "\n",
       "                                         description        lat       lon  \\\n",
       "0  Situated in Amiens, 1.9 km from Zénith d'Amien...  49.879613  2.266651   \n",
       "1  Located 300 metres from the Louvre Museum and ...  48.860638  2.342427   \n",
       "2                          Managed by a private host  48.581854  7.748158   \n",
       "3  Composed of 2 different buildings, Les Terrass...  48.635349 -1.510379   \n",
       "4  Conveniently located in a park, ibis Styles Be...  47.254253  6.021640   \n",
       "\n",
       "                                   7-Day Temperature  \\\n",
       "0  [26.94, 29.84, 30.83, 25.42, 25.69, 25.97, 28.66]   \n",
       "1  [28.56, 31.02, 33.04, 26.53, 28.13, 28.61, 29.67]   \n",
       "2  [28.82, 29.51, 30.12, 31.42, 26.04, 27.98, 31.02]   \n",
       "3   [25.42, 28.2, 21.96, 21.78, 26.53, 28.86, 28.52]   \n",
       "4     [27.2, 28.08, 29.4, 29.43, 28.81, 29.7, 31.26]   \n",
       "\n",
       "                           7-Day Pop  \\\n",
       "0     [0.05, 0, 0.41, 0.59, 0, 0, 1]   \n",
       "1   [0, 0, 0.03, 0.4, 0.27, 0, 0.92]   \n",
       "2     [0.03, 0, 0, 0, 1, 0.91, 0.73]   \n",
       "3     [0.13, 0, 0.83, 0, 0, 0.08, 1]   \n",
       "4  [0, 0, 0, 0.08, 0.38, 0.26, 0.99]   \n",
       "\n",
       "                             7-Day Weather condition  \\\n",
       "0  [scattered clouds, clear sky, light rain, ligh...   \n",
       "1  [broken clouds, broken clouds, overcast clouds...   \n",
       "2  [scattered clouds, broken clouds, clear sky, f...   \n",
       "3  [overcast clouds, few clouds, moderate rain, c...   \n",
       "4  [clear sky, broken clouds, scattered clouds, s...   \n",
       "\n",
       "                             7-Day Wind speed    City_Lat            City_Lon  \n",
       "0   [5.67, 3.05, 5.28, 5.25, 6.32, 5.84, 6.1]  49.8941708           2.2956951  \n",
       "1   [2.16, 2.69, 6.24, 3.95, 4.7, 4.91, 4.21]  48.8588897  2.3200410217200766  \n",
       "2    [2.25, 4.5, 2.13, 2.8, 4.41, 2.28, 2.18]   48.584614           7.7507127  \n",
       "3  [4.44, 6.69, 6.67, 6.69, 6.29, 8.36, 5.19]  48.6359541  -1.511459954959514  \n",
       "4  [3.24, 4.44, 2.11, 1.46, 3.15, 2.31, 5.61]  47.2380222           6.0243622  "
      ]
     },
     "execution_count": 23,
     "metadata": {},
     "output_type": "execute_result"
    }
   ],
   "source": [
    "# Checking final dataframe\n",
    "\n",
    "df_final.head()"
   ]
  },
  {
   "cell_type": "code",
   "execution_count": 24,
   "id": "3502ef3d",
   "metadata": {},
   "outputs": [],
   "source": [
    "# Converting and saving dataframe in csv file\n",
    "\n",
    "df_final.to_csv('Top_destinations_recommendations' , encoding='utf-8', index=False)"
   ]
  },
  {
   "cell_type": "markdown",
   "id": "68054f25",
   "metadata": {},
   "source": [
    "# Part 2 - Data lake & ETL"
   ]
  },
  {
   "cell_type": "code",
   "execution_count": 25,
   "id": "ab7876d1",
   "metadata": {},
   "outputs": [],
   "source": [
    "# Creating boto3 session\n",
    "session = boto3.Session(aws_access_key_id='XXXXXXXXXXXXX', aws_secret_access_key='XXXXXXXXXXXXXXX')"
   ]
  },
  {
   "cell_type": "code",
   "execution_count": 26,
   "id": "efedb220",
   "metadata": {},
   "outputs": [],
   "source": [
    "# Selecting S3 bucket from AWS\n",
    "s3 = session.resource(\"s3\")"
   ]
  },
  {
   "cell_type": "code",
   "execution_count": 28,
   "id": "39ccaca5",
   "metadata": {},
   "outputs": [],
   "source": [
    "# Creating a s3 bucket \n",
    "bucket = s3.create_bucket(Bucket=\"kayak-recommendations-bucket\", CreateBucketConfiguration={'LocationConstraint': 'eu-west-3'})"
   ]
  },
  {
   "cell_type": "code",
   "execution_count": 29,
   "id": "eb23d51d",
   "metadata": {},
   "outputs": [
    {
     "data": {
      "text/plain": [
       "s3.Object(bucket_name='kayak-recommendations-bucket', key='Top_destinations_recommendations.csv')"
      ]
     },
     "execution_count": 29,
     "metadata": {},
     "output_type": "execute_result"
    }
   ],
   "source": [
    "# Uploading our csv file to the bucket\n",
    "bucket.put_object(Key=\"Top_destinations_recommendations.csv\", Body = 'Top_destinations_recommendations')"
   ]
  },
  {
   "cell_type": "code",
   "execution_count": 30,
   "id": "0c282b90",
   "metadata": {},
   "outputs": [],
   "source": [
    "# Connect to database\n",
    "\n",
    "DBHOST = 'kayak-ar.ckedsinh979w.eu-west-3.rds.amazonaws.com'\n",
    "DBUSER = 'XXXXXXXXXXXX'\n",
    "DBPASS = 'XXXXXXXXXX'\n",
    "DBNAME = 'postgres'\n",
    "\n",
    "engine = create_engine(f\"postgresql+psycopg2://{DBUSER}:{DBPASS}@{DBHOST}/{DBNAME}\", echo=True)"
   ]
  },
  {
   "cell_type": "code",
   "execution_count": 32,
   "id": "de2947f5",
   "metadata": {},
   "outputs": [
    {
     "name": "stdout",
     "output_type": "stream",
     "text": [
      "2022-08-22 15:26:42,450 INFO sqlalchemy.engine.Engine select relname from pg_class c join pg_namespace n on n.oid=c.relnamespace where pg_catalog.pg_table_is_visible(c.oid) and relname=%(name)s\n",
      "2022-08-22 15:26:42,451 INFO sqlalchemy.engine.Engine [cached since 75.26s ago] {'name': 'Top_destinations_recommendations_ds3'}\n",
      "2022-08-22 15:26:42,477 INFO sqlalchemy.engine.Engine BEGIN (implicit)\n",
      "2022-08-22 15:26:42,478 INFO sqlalchemy.engine.Engine \n",
      "CREATE TABLE \"Top_destinations_recommendations_ds3\" (\n",
      "\tindex BIGINT, \n",
      "\t\"City\" TEXT, \n",
      "\t\"Hotel Name\" TEXT, \n",
      "\turl TEXT, \n",
      "\tscore FLOAT(53), \n",
      "\tdescription TEXT, \n",
      "\tlat FLOAT(53), \n",
      "\tlon FLOAT(53), \n",
      "\t\"7-Day Temperature\" TEXT, \n",
      "\t\"7-Day Pop\" TEXT, \n",
      "\t\"7-Day Weather condition\" TEXT, \n",
      "\t\"7-Day Wind speed\" TEXT, \n",
      "\t\"City_Lat\" TEXT, \n",
      "\t\"City_Lon\" TEXT\n",
      ")\n",
      "\n",
      "\n",
      "2022-08-22 15:26:42,479 INFO sqlalchemy.engine.Engine [no key 0.00082s] {}\n",
      "2022-08-22 15:26:42,502 INFO sqlalchemy.engine.Engine CREATE INDEX \"ix_Top_destinations_recommendations_ds3_index\" ON \"Top_destinations_recommendations_ds3\" (index)\n",
      "2022-08-22 15:26:42,506 INFO sqlalchemy.engine.Engine [no key 0.00480s] {}\n",
      "2022-08-22 15:26:42,517 INFO sqlalchemy.engine.Engine COMMIT\n",
      "2022-08-22 15:26:42,535 INFO sqlalchemy.engine.Engine BEGIN (implicit)\n",
      "2022-08-22 15:26:42,590 INFO sqlalchemy.engine.Engine INSERT INTO \"Top_destinations_recommendations_ds3\" (index, \"City\", \"Hotel Name\", url, score, description, lat, lon, \"7-Day Temperature\", \"7-Day Pop\", \"7-Day Weather condition\", \"7-Day Wind speed\", \"City_Lat\", \"City_Lon\") VALUES (%(index)s, %(City)s, %(Hotel Name)s, %(url)s, %(score)s, %(description)s, %(lat)s, %(lon)s, %(7-Day Temperature)s, %(7-Day Pop)s, %(7-Day Weather condition)s, %(7-Day Wind speed)s, %(City_Lat)s, %(City_Lon)s)\n",
      "2022-08-22 15:26:42,590 INFO sqlalchemy.engine.Engine [generated in 0.04169s] ({'index': 0, 'City': 'Amiens', 'Hotel Name': 'The Originals Boutique Hôtel Amiens Sud', 'url': 'https://www.booking.com/hotel/fr/the-originals-boutique-amiens-sud-chu-amiens.en-gb.html?label=gen173nr-1FCAEoggI46AdIM1gEaE2IAQGYAQm4ARnIAQ_YAQHoAQH ... (211 characters truncated) ... hildren=0&hpos=16&hapos=16&sr_order=popularity&srpvid=063e5c73f3c10507&srepoch=1661173736&from_sustainable_property_sr=1&from=searchresults#hotelTmpl', 'score': 8.1, 'description': \"Situated in Amiens, 1.9 km from Zénith d'Amiens, The Originals Boutique Hôtel Amiens Sud features accommodation with a bar, free private parking and a garden. \", 'lat': 49.87961282, 'lon': 2.26665102, '7-Day Temperature': [26.94, 29.84, 30.83, 25.42, 25.69, 25.97, 28.66], '7-Day Pop': [0.05, 0, 0.41, 0.59, 0, 0, 1], '7-Day Weather condition': ['scattered clouds', 'clear sky', 'light rain', 'light rain', 'overcast clouds', 'broken clouds', 'light rain'], '7-Day Wind speed': [5.67, 3.05, 5.28, 5.25, 6.32, 5.84, 6.1], 'City_Lat': '49.8941708', 'City_Lon': '2.2956951'}, {'index': 1, 'City': 'Paris', 'Hotel Name': \"L'Empire Paris\", 'url': 'https://www.booking.com/hotel/fr/empire-paris.en-gb.html?label=gen173nr-1FCAEoggI46AdIM1gEaE2IAQGYAQm4ARnIAQ_YAQHoAQH4AQuIAgGoAgO4AuX_jZgGwAIB0gIkOTR ... (179 characters truncated) ... hildren=0&hpos=10&hapos=10&sr_order=popularity&srpvid=c5d65c737cd5055d&srepoch=1661173736&from_sustainable_property_sr=1&from=searchresults#hotelTmpl', 'score': 8.2, 'description': \"Located 300 metres from the Louvre Museum and 20 metres from shopping on the Rue de Rivoli, L'Empire Paris offers air-conditioned guest rooms with LCD satellite TV and free WiFi. \", 'lat': 48.86063781, 'lon': 2.34242745, '7-Day Temperature': [28.56, 31.02, 33.04, 26.53, 28.13, 28.61, 29.67], '7-Day Pop': [0, 0, 0.03, 0.4, 0.27, 0, 0.92], '7-Day Weather condition': ['broken clouds', 'broken clouds', 'overcast clouds', 'light rain', 'light rain', 'few clouds', 'light rain'], '7-Day Wind speed': [2.16, 2.69, 6.24, 3.95, 4.7, 4.91, 4.21], 'City_Lat': '48.8588897', 'City_Lon': '2.3200410217200766'}, {'index': 2, 'City': 'Strasbourg', 'Hotel Name': 'Le Gutenberg', 'url': 'https://www.booking.com/hotel/fr/le-gutenberg.en-gb.html?label=gen173nr-1FCAEoggI46AdIM1gEaE2IAQGYAQm4ARnIAQ_YAQHoAQH4AQuIAgGoAgO4AuX_jZgGwAIB0gIkOTR ... (148 characters truncated) ... _rooms=1&group_children=0&req_children=0&hpos=25&hapos=25&sr_order=popularity&srpvid=d8d15c745e7d0693&srepoch=1661173737&from=searchresults#hotelTmpl', 'score': 8.6, 'description': 'Managed by a private host', 'lat': 48.58185405, 'lon': 7.74815816, '7-Day Temperature': [28.82, 29.51, 30.12, 31.42, 26.04, 27.98, 31.02], '7-Day Pop': [0.03, 0, 0, 0, 1, 0.91, 0.73], '7-Day Weather condition': ['scattered clouds', 'broken clouds', 'clear sky', 'few clouds', 'moderate rain', 'light rain', 'light rain'], '7-Day Wind speed': [2.25, 4.5, 2.13, 2.8, 4.41, 2.28, 2.18], 'City_Lat': '48.584614', 'City_Lon': '7.7507127'}, {'index': 3, 'City': 'Mont Saint Michel', 'Hotel Name': 'Les Terrasses Poulard', 'url': 'https://www.booking.com/hotel/fr/les-terrasses-poulard.en-gb.html?label=gen173nr-1FCAEoggI46AdIM1gEaE2IAQGYAQm4ARnIAQ_YAQHoAQH4AQuIAgGoAgO4AuX_jZgGwA ... (155 characters truncated) ... no_rooms=1&group_children=0&req_children=0&hpos=1&hapos=1&sr_order=popularity&srpvid=7c2c5c73293b0116&srepoch=1661173736&from=searchresults#hotelTmpl', 'score': 7.3, 'description': 'Composed of 2 different buildings, Les Terrasses Poulard is a historical property in the heart of Mont Saint-Michel and offers views of the bay, the village and the street. ', 'lat': 48.63534943, 'lon': -1.51037872, '7-Day Temperature': [25.42, 28.2, 21.96, 21.78, 26.53, 28.86, 28.52], '7-Day Pop': [0.13, 0, 0.83, 0, 0, 0.08, 1], '7-Day Weather condition': ['overcast clouds', 'few clouds', 'moderate rain', 'clear sky', 'overcast clouds', 'broken clouds', 'light rain'], '7-Day Wind speed': [4.44, 6.69, 6.67, 6.69, 6.29, 8.36, 5.19], 'City_Lat': '48.6359541', 'City_Lon': '-1.511459954959514'}, {'index': 4, 'City': 'Besancon', 'Hotel Name': 'ibis Styles Besançon', 'url': 'https://www.booking.com/hotel/fr/besancon.en-gb.html?label=gen173nr-1FCAEoggI46AdIM1gEaE2IAQGYAQm4ARnIAQ_YAQHoAQH4AQuIAgGoAgO4AuX_jZgGwAIB0gIkOTRlNGV ... (173 characters truncated) ... _children=0&hpos=1&hapos=1&sr_order=popularity&srpvid=34095c74857a0762&srepoch=1661173737&from_sustainable_property_sr=1&from=searchresults#hotelTmpl', 'score': 7.8, 'description': 'Conveniently located in a park, ibis Styles Besançon is a 15-minute walk from the TGV Train Station and the centre of Besançon. It features an outdoor swimming pool with a sun terrace and free Wi-Fi. ', 'lat': 47.25425346, 'lon': 6.0216397, '7-Day Temperature': [27.2, 28.08, 29.4, 29.43, 28.81, 29.7, 31.26], '7-Day Pop': [0, 0, 0, 0.08, 0.38, 0.26, 0.99], '7-Day Weather condition': ['clear sky', 'broken clouds', 'scattered clouds', 'scattered clouds', 'light rain', 'clear sky', 'light rain'], '7-Day Wind speed': [3.24, 4.44, 2.11, 1.46, 3.15, 2.31, 5.61], 'City_Lat': '47.2380222', 'City_Lon': '6.0243622'}, {'index': 5, 'City': 'Bayeux', 'Hotel Name': 'Gîte de la cathédrale', 'url': 'https://www.booking.com/hotel/fr/gite-de-la-cathedrale.en-gb.html?label=gen173nr-1FCAEoggI46AdIM1gEaE2IAQGYAQm4ARnIAQ_YAQHoAQH4AQuIAgGoAgO4AuX_jZgGwA ... (157 characters truncated) ... _rooms=1&group_children=0&req_children=0&hpos=15&hapos=15&sr_order=popularity&srpvid=8fa65c7339dd00d7&srepoch=1661173736&from=searchresults#hotelTmpl', 'score': 9.1, 'description': 'Managed by a private host', 'lat': 49.2766073, 'lon': -0.70339724, '7-Day Temperature': [25.99, 28.43, 21.11, 23.14, 21.37, 22.61, 26.66], '7-Day Pop': [0.24, 0, 0.85, 0, 0, 0, 0.99], '7-Day Weather condition': ['light rain', 'broken clouds', 'light rain', 'few clouds', 'overcast clouds', 'broken clouds', 'moderate rain'], '7-Day Wind speed': [4.25, 5.38, 4.63, 5, 7.05, 7.94, 7.52], 'City_Lat': '49.2764624', 'City_Lon': '-0.7024738'}, {'index': 6, 'City': 'Grenoble', 'Hotel Name': 'Grenoble Centre Terrasse Sud Climatisation', 'url': 'https://www.booking.com/hotel/fr/grenoble-centre-terrasse.en-gb.html?label=gen173nr-1FCAEoggI46AdIM1gEaE2IAQGYAQm4ARnIAQ_YAQHoAQH4AQuIAgGoAgO4AuX_jZg ... (160 characters truncated) ... _rooms=1&group_children=0&req_children=0&hpos=17&hapos=17&sr_order=popularity&srpvid=df075c74d51c02ec&srepoch=1661173738&from=searchresults#hotelTmpl', 'score': 9.5, 'description': 'Managed by a private host', 'lat': 45.190962, 'lon': 5.720696, '7-Day Temperature': [27.92, 30.47, 33.03, 30.99, 30.39, 32.37, 34.99], '7-Day Pop': [0, 0, 0, 0.55, 0.47, 0.07, 0.75], '7-Day Weather condition': ['clear sky', 'overcast clouds', 'clear sky', 'light rain', 'broken clouds', 'clear sky', 'light rain'], '7-Day Wind speed': [2.95, 2.51, 2.57, 2.9, 2.56, 2.02, 2.47], 'City_Lat': '45.1875602', 'City_Lon': '5.7357819'}, {'index': 7, 'City': 'Colmar', 'Hotel Name': 'Suites Residences Spa', 'url': 'https://www.booking.com/hotel/fr/suites-residences-spa.en-gb.html?label=gen173nr-1FCAEoggI46AdIM1gEaE2IAQGYAQm4ARnIAQ_YAQHoAQH4AQuIAgGoAgO4AuX_jZgGwA ... (155 characters truncated) ... no_rooms=1&group_children=0&req_children=0&hpos=1&hapos=1&sr_order=popularity&srpvid=42c55c74d2af03f8&srepoch=1661173737&from=searchresults#hotelTmpl', 'score': 8.5, 'description': 'Set 200 metres from House of the Heads, Suites Residences Spa offers accommodation with a spa and wellness centre, a terrace and a 24-hour front desk for your convenience. Free WiFi is featured. ', 'lat': 48.07900192, 'lon': 7.35450824, '7-Day Temperature': [27.94, 28.24, 29.21, 30.5, 27.47, 28.23, 30.9], '7-Day Pop': [0, 0, 0, 0.08, 0.96, 0.92, 0.93], '7-Day Weather condition': ['few clouds', 'broken clouds', 'few clouds', 'few clouds', 'light rain', 'light rain', 'light rain'], '7-Day Wind speed': [1.95, 3.8, 1.58, 2.4, 3.76, 1.67, 2.09], 'City_Lat': '48.0777517', 'City_Lon': '7.3579641'}  ... displaying 10 of 2397 total bound parameter sets ...  {'index': 2395, 'City': 'Bormes les Mimosas', 'Hotel Name': 'Le Mirage', 'url': 'https://www.booking.com/hotel/fr/le-domaine-du-mirage.en-gb.html?label=gen173nr-1FCAEoggI46AdIM1gEaE2IAQGYAQm4ARnIAQ_YAQHoAQH4AQuIAgGoAgO4AuX_jZgGwAI ... (257 characters truncated) ... &srepoch=1661174382&from_beach_sr=1&beach_sr_walking_distance=1576&beach_rating_score=8.4&from_sustainable_property_sr=1&from=searchresults#hotelTmpl', 'score': 9.1, 'description': 'The Mirage hotel is nestled in the heart of a restful place, a perfect balance between sea and nature, to offer you an unforgettable experience throughout your stay. ', 'lat': 43.14456855, 'lon': 6.35168418, '7-Day Temperature': [28.43, 28.08, 28.73, 28.75, 28.37, 28.29, 28.25], '7-Day Pop': [0, 0, 0, 0.39, 0.21, 0.17, 0], '7-Day Weather condition': ['clear sky', 'broken clouds', 'few clouds', 'light rain', 'overcast clouds', 'clear sky', 'scattered clouds'], '7-Day Wind speed': [3.99, 3.68, 5.41, 2.94, 3.84, 4.34, 3.69], 'City_Lat': '43.1506968', 'City_Lon': '6.3419285'}, {'index': 2396, 'City': 'Bormes les Mimosas', 'Hotel Name': 'Studio \"La mer\" à Bormes-les-Mimosas', 'url': 'https://www.booking.com/hotel/fr/joli-studio-a-bormes-les-mimosas.en-gb.html?label=gen173nr-1FCAEoggI46AdIM1gEaE2IAQGYAQm4ARnIAQ_YAQHoAQH4AQuIAgGoAgO ... (214 characters truncated) ... 12&hapos=12&sr_order=popularity&srpvid=b3435db6bc52056b&srepoch=1661174382&from_beach_sr=1&beach_sr_walking_distance=650&from=searchresults#hotelTmpl', 'score': 8.0, 'description': 'Managed by a private host', 'lat': 43.1236342, 'lon': 6.3525942, '7-Day Temperature': [28.43, 28.08, 28.73, 28.75, 28.37, 28.29, 28.25], '7-Day Pop': [0, 0, 0, 0.39, 0.21, 0.17, 0], '7-Day Weather condition': ['clear sky', 'broken clouds', 'few clouds', 'light rain', 'overcast clouds', 'clear sky', 'scattered clouds'], '7-Day Wind speed': [3.99, 3.68, 5.41, 2.94, 3.84, 4.34, 3.69], 'City_Lat': '43.1506968', 'City_Lon': '6.3419285'})\n",
      "2022-08-22 15:26:43,470 INFO sqlalchemy.engine.Engine COMMIT\n",
      "2022-08-22 15:26:43,482 INFO sqlalchemy.engine.Engine SELECT c.relname FROM pg_class c JOIN pg_namespace n ON n.oid = c.relnamespace WHERE n.nspname = %(schema)s AND c.relkind in ('r', 'p')\n",
      "2022-08-22 15:26:43,483 INFO sqlalchemy.engine.Engine [generated in 0.00132s] {'schema': 'public'}\n"
     ]
    },
    {
     "data": {
      "text/plain": [
       "397"
      ]
     },
     "execution_count": 32,
     "metadata": {},
     "output_type": "execute_result"
    }
   ],
   "source": [
    "# Initialization of a sessionmaker to exchange with our database\n",
    "\n",
    "Session = sessionmaker(bind = engine)\n",
    "\n",
    "# Instanciate session \n",
    "\n",
    "session = Session()\n",
    "\n",
    "df_final.to_sql('Top_destinations_recommendations_ds3', engine)"
   ]
  },
  {
   "cell_type": "markdown",
   "id": "c7966bc0",
   "metadata": {},
   "source": [
    "# Part 3 - Visualisation"
   ]
  },
  {
   "cell_type": "code",
   "execution_count": 33,
   "id": "0e7a6134",
   "metadata": {},
   "outputs": [],
   "source": [
    "# Getting the mean values of our selected parameters for all cities\n",
    "\n",
    "df_final['Average Temperature'] = df_final['7-Day Temperature'].apply(np.mean)\n",
    "df_final['Average Pop'] = df_final['7-Day Pop'].apply(np.mean)\n",
    "df_final['Average Wind Speed'] = df_final['7-Day Wind speed'].apply(np.mean)"
   ]
  },
  {
   "cell_type": "code",
   "execution_count": 62,
   "id": "7e0fa8d6",
   "metadata": {},
   "outputs": [],
   "source": [
    "# Picking the top 5 destinations with the highest temperatures, the lowest probability of rain and the lowest wind speed\n",
    "\n",
    "top_5_destinations = df_final.groupby('City').mean().sort_values('Average Temperature', ascending = True).head()\n",
    "top_5_destinations = top_5_destinations.sort_values(['Average Pop', 'Average Wind Speed'], ascending = [False, False]).head()"
   ]
  },
  {
   "cell_type": "code",
   "execution_count": 63,
   "id": "8361a2b9",
   "metadata": {},
   "outputs": [
    {
     "data": {
      "text/html": [
       "<div>\n",
       "<style scoped>\n",
       "    .dataframe tbody tr th:only-of-type {\n",
       "        vertical-align: middle;\n",
       "    }\n",
       "\n",
       "    .dataframe tbody tr th {\n",
       "        vertical-align: top;\n",
       "    }\n",
       "\n",
       "    .dataframe thead th {\n",
       "        text-align: right;\n",
       "    }\n",
       "</style>\n",
       "<table border=\"1\" class=\"dataframe\">\n",
       "  <thead>\n",
       "    <tr style=\"text-align: right;\">\n",
       "      <th></th>\n",
       "      <th>score</th>\n",
       "      <th>lat</th>\n",
       "      <th>lon</th>\n",
       "      <th>Average Temperature</th>\n",
       "      <th>Average Pop</th>\n",
       "      <th>Average Wind Speed</th>\n",
       "    </tr>\n",
       "    <tr>\n",
       "      <th>City</th>\n",
       "      <th></th>\n",
       "      <th></th>\n",
       "      <th></th>\n",
       "      <th></th>\n",
       "      <th></th>\n",
       "      <th></th>\n",
       "    </tr>\n",
       "  </thead>\n",
       "  <tbody>\n",
       "    <tr>\n",
       "      <th>Biarritz</th>\n",
       "      <td>8.068750</td>\n",
       "      <td>43.480068</td>\n",
       "      <td>-1.558651</td>\n",
       "      <td>24.574286</td>\n",
       "      <td>0.651429</td>\n",
       "      <td>4.545714</td>\n",
       "    </tr>\n",
       "    <tr>\n",
       "      <th>Ariege</th>\n",
       "      <td>8.361333</td>\n",
       "      <td>42.939334</td>\n",
       "      <td>1.526810</td>\n",
       "      <td>24.648571</td>\n",
       "      <td>0.541429</td>\n",
       "      <td>2.941429</td>\n",
       "    </tr>\n",
       "    <tr>\n",
       "      <th>Bayeux</th>\n",
       "      <td>8.868421</td>\n",
       "      <td>49.276302</td>\n",
       "      <td>-0.702956</td>\n",
       "      <td>24.187143</td>\n",
       "      <td>0.297143</td>\n",
       "      <td>5.967143</td>\n",
       "    </tr>\n",
       "    <tr>\n",
       "      <th>Le Havre</th>\n",
       "      <td>8.294737</td>\n",
       "      <td>49.494134</td>\n",
       "      <td>0.112269</td>\n",
       "      <td>23.404286</td>\n",
       "      <td>0.285714</td>\n",
       "      <td>6.920000</td>\n",
       "    </tr>\n",
       "    <tr>\n",
       "      <th>St Malo</th>\n",
       "      <td>8.786301</td>\n",
       "      <td>48.648228</td>\n",
       "      <td>-2.011885</td>\n",
       "      <td>23.032857</td>\n",
       "      <td>0.248571</td>\n",
       "      <td>7.225714</td>\n",
       "    </tr>\n",
       "  </tbody>\n",
       "</table>\n",
       "</div>"
      ],
      "text/plain": [
       "             score        lat       lon  Average Temperature  Average Pop  \\\n",
       "City                                                                        \n",
       "Biarritz  8.068750  43.480068 -1.558651            24.574286     0.651429   \n",
       "Ariege    8.361333  42.939334  1.526810            24.648571     0.541429   \n",
       "Bayeux    8.868421  49.276302 -0.702956            24.187143     0.297143   \n",
       "Le Havre  8.294737  49.494134  0.112269            23.404286     0.285714   \n",
       "St Malo   8.786301  48.648228 -2.011885            23.032857     0.248571   \n",
       "\n",
       "          Average Wind Speed  \n",
       "City                          \n",
       "Biarritz            4.545714  \n",
       "Ariege              2.941429  \n",
       "Bayeux              5.967143  \n",
       "Le Havre            6.920000  \n",
       "St Malo             7.225714  "
      ]
     },
     "metadata": {},
     "output_type": "display_data"
    }
   ],
   "source": [
    "display(top_5_destinations)"
   ]
  },
  {
   "cell_type": "code",
   "execution_count": 64,
   "id": "58b3cfde",
   "metadata": {},
   "outputs": [
    {
     "data": {
      "text/html": [
       "<div>\n",
       "<style scoped>\n",
       "    .dataframe tbody tr th:only-of-type {\n",
       "        vertical-align: middle;\n",
       "    }\n",
       "\n",
       "    .dataframe tbody tr th {\n",
       "        vertical-align: top;\n",
       "    }\n",
       "\n",
       "    .dataframe thead th {\n",
       "        text-align: right;\n",
       "    }\n",
       "</style>\n",
       "<table border=\"1\" class=\"dataframe\">\n",
       "  <thead>\n",
       "    <tr style=\"text-align: right;\">\n",
       "      <th></th>\n",
       "      <th>City</th>\n",
       "      <th>Hotel Name</th>\n",
       "      <th>url</th>\n",
       "      <th>score</th>\n",
       "      <th>description</th>\n",
       "      <th>lat</th>\n",
       "      <th>lon</th>\n",
       "      <th>7-Day Temperature</th>\n",
       "      <th>7-Day Pop</th>\n",
       "      <th>7-Day Weather condition</th>\n",
       "      <th>7-Day Wind speed</th>\n",
       "      <th>City_Lat</th>\n",
       "      <th>City_Lon</th>\n",
       "      <th>Average Temperature</th>\n",
       "      <th>Average Pop</th>\n",
       "      <th>Average Wind Speed</th>\n",
       "    </tr>\n",
       "  </thead>\n",
       "  <tbody>\n",
       "    <tr>\n",
       "      <th>1130</th>\n",
       "      <td>St Malo</td>\n",
       "      <td>Appartement 4 chambres vue mer Intra-Muros, pa...</td>\n",
       "      <td>https://www.booking.com/hotel/fr/intra-muros-v...</td>\n",
       "      <td>10.0</td>\n",
       "      <td>Managed by a private host</td>\n",
       "      <td>48.646368</td>\n",
       "      <td>-2.025014</td>\n",
       "      <td>[23.48, 24.82, 19.9, 19.82, 24.44, 25.4, 23.37]</td>\n",
       "      <td>[0.2, 0, 0.49, 0, 0, 0.05, 1]</td>\n",
       "      <td>[light rain, few clouds, light rain, few cloud...</td>\n",
       "      <td>[4.85, 7, 7.08, 7.2, 7.49, 10.65, 6.31]</td>\n",
       "      <td>48.649518</td>\n",
       "      <td>-2.0260409</td>\n",
       "      <td>23.032857</td>\n",
       "      <td>0.248571</td>\n",
       "      <td>7.225714</td>\n",
       "    </tr>\n",
       "    <tr>\n",
       "      <th>897</th>\n",
       "      <td>Le Havre</td>\n",
       "      <td>Les Appartements Océane Beau 2 pièces Quartier...</td>\n",
       "      <td>https://www.booking.com/hotel/fr/appartement-b...</td>\n",
       "      <td>10.0</td>\n",
       "      <td>Managed by a private host</td>\n",
       "      <td>49.492388</td>\n",
       "      <td>0.139885</td>\n",
       "      <td>[22.08, 24.65, 20.95, 23.13, 23.62, 23.84, 25.56]</td>\n",
       "      <td>[0.3, 0, 0.61, 0.11, 0, 0, 0.98]</td>\n",
       "      <td>[light rain, overcast clouds, light rain, scat...</td>\n",
       "      <td>[4.53, 6.11, 5.12, 6.44, 8.4, 8.79, 9.05]</td>\n",
       "      <td>49.4938975</td>\n",
       "      <td>0.1079732</td>\n",
       "      <td>23.404286</td>\n",
       "      <td>0.285714</td>\n",
       "      <td>6.920000</td>\n",
       "    </tr>\n",
       "    <tr>\n",
       "      <th>1145</th>\n",
       "      <td>St Malo</td>\n",
       "      <td>Apartment Le Grand Large</td>\n",
       "      <td>https://www.booking.com/hotel/fr/apartment-st-...</td>\n",
       "      <td>10.0</td>\n",
       "      <td>Offering sea views, Apartment Le Grand Large i...</td>\n",
       "      <td>48.652153</td>\n",
       "      <td>-2.017182</td>\n",
       "      <td>[23.48, 24.82, 19.9, 19.82, 24.44, 25.4, 23.37]</td>\n",
       "      <td>[0.2, 0, 0.49, 0, 0, 0.05, 1]</td>\n",
       "      <td>[light rain, few clouds, light rain, few cloud...</td>\n",
       "      <td>[4.85, 7, 7.08, 7.2, 7.49, 10.65, 6.31]</td>\n",
       "      <td>48.649518</td>\n",
       "      <td>-2.0260409</td>\n",
       "      <td>23.032857</td>\n",
       "      <td>0.248571</td>\n",
       "      <td>7.225714</td>\n",
       "    </tr>\n",
       "    <tr>\n",
       "      <th>1155</th>\n",
       "      <td>St Malo</td>\n",
       "      <td>L'ILE AUX MOUETTES - en plein Intra-Muros</td>\n",
       "      <td>https://www.booking.com/hotel/fr/ile-aux-mouet...</td>\n",
       "      <td>10.0</td>\n",
       "      <td>Located in Saint Malo, 300 metres from Cale de...</td>\n",
       "      <td>48.648786</td>\n",
       "      <td>-2.025717</td>\n",
       "      <td>[23.48, 24.82, 19.9, 19.82, 24.44, 25.4, 23.37]</td>\n",
       "      <td>[0.2, 0, 0.49, 0, 0, 0.05, 1]</td>\n",
       "      <td>[light rain, few clouds, light rain, few cloud...</td>\n",
       "      <td>[4.85, 7, 7.08, 7.2, 7.49, 10.65, 6.31]</td>\n",
       "      <td>48.649518</td>\n",
       "      <td>-2.0260409</td>\n",
       "      <td>23.032857</td>\n",
       "      <td>0.248571</td>\n",
       "      <td>7.225714</td>\n",
       "    </tr>\n",
       "    <tr>\n",
       "      <th>1165</th>\n",
       "      <td>Bayeux</td>\n",
       "      <td>Modern apartment in Bayeux near Tapestry Museum</td>\n",
       "      <td>https://www.booking.com/hotel/fr/modern-apartm...</td>\n",
       "      <td>10.0</td>\n",
       "      <td>Modern apartment in Bayeux near Tapestry Museu...</td>\n",
       "      <td>49.276201</td>\n",
       "      <td>-0.699269</td>\n",
       "      <td>[25.99, 28.43, 21.11, 23.14, 21.37, 22.61, 26.66]</td>\n",
       "      <td>[0.24, 0, 0.85, 0, 0, 0, 0.99]</td>\n",
       "      <td>[light rain, broken clouds, light rain, few cl...</td>\n",
       "      <td>[4.25, 5.38, 4.63, 5, 7.05, 7.94, 7.52]</td>\n",
       "      <td>49.2764624</td>\n",
       "      <td>-0.7024738</td>\n",
       "      <td>24.187143</td>\n",
       "      <td>0.297143</td>\n",
       "      <td>5.967143</td>\n",
       "    </tr>\n",
       "    <tr>\n",
       "      <th>924</th>\n",
       "      <td>Le Havre</td>\n",
       "      <td>The Four Seasons Panoramic View</td>\n",
       "      <td>https://www.booking.com/hotel/fr/the-four-seas...</td>\n",
       "      <td>10.0</td>\n",
       "      <td>Offering free WiFi and city views, The Four Se...</td>\n",
       "      <td>49.489686</td>\n",
       "      <td>0.108133</td>\n",
       "      <td>[22.08, 24.65, 20.95, 23.13, 23.62, 23.84, 25.56]</td>\n",
       "      <td>[0.3, 0, 0.61, 0.11, 0, 0, 0.98]</td>\n",
       "      <td>[light rain, overcast clouds, light rain, scat...</td>\n",
       "      <td>[4.53, 6.11, 5.12, 6.44, 8.4, 8.79, 9.05]</td>\n",
       "      <td>49.4938975</td>\n",
       "      <td>0.1079732</td>\n",
       "      <td>23.404286</td>\n",
       "      <td>0.285714</td>\n",
       "      <td>6.920000</td>\n",
       "    </tr>\n",
       "    <tr>\n",
       "      <th>1167</th>\n",
       "      <td>Bayeux</td>\n",
       "      <td>SAMANDINE HOME</td>\n",
       "      <td>https://www.booking.com/hotel/fr/samandine-hom...</td>\n",
       "      <td>10.0</td>\n",
       "      <td>Managed by a private host</td>\n",
       "      <td>49.276643</td>\n",
       "      <td>-0.702284</td>\n",
       "      <td>[25.99, 28.43, 21.11, 23.14, 21.37, 22.61, 26.66]</td>\n",
       "      <td>[0.24, 0, 0.85, 0, 0, 0, 0.99]</td>\n",
       "      <td>[light rain, broken clouds, light rain, few cl...</td>\n",
       "      <td>[4.25, 5.38, 4.63, 5, 7.05, 7.94, 7.52]</td>\n",
       "      <td>49.2764624</td>\n",
       "      <td>-0.7024738</td>\n",
       "      <td>24.187143</td>\n",
       "      <td>0.297143</td>\n",
       "      <td>5.967143</td>\n",
       "    </tr>\n",
       "    <tr>\n",
       "      <th>1141</th>\n",
       "      <td>St Malo</td>\n",
       "      <td>L'ILOT</td>\n",
       "      <td>https://www.booking.com/hotel/fr/l-39-ilot.en-...</td>\n",
       "      <td>9.9</td>\n",
       "      <td>Managed by a private host</td>\n",
       "      <td>48.661135</td>\n",
       "      <td>-1.987553</td>\n",
       "      <td>[23.48, 24.82, 19.9, 19.82, 24.44, 25.4, 23.37]</td>\n",
       "      <td>[0.2, 0, 0.49, 0, 0, 0.05, 1]</td>\n",
       "      <td>[light rain, few clouds, light rain, few cloud...</td>\n",
       "      <td>[4.85, 7, 7.08, 7.2, 7.49, 10.65, 6.31]</td>\n",
       "      <td>48.649518</td>\n",
       "      <td>-2.0260409</td>\n",
       "      <td>23.032857</td>\n",
       "      <td>0.248571</td>\n",
       "      <td>7.225714</td>\n",
       "    </tr>\n",
       "    <tr>\n",
       "      <th>1182</th>\n",
       "      <td>Bayeux</td>\n",
       "      <td>Le Chat Qui Veille</td>\n",
       "      <td>https://www.booking.com/hotel/fr/gite-6-47-9-p...</td>\n",
       "      <td>9.8</td>\n",
       "      <td>Managed by a private host</td>\n",
       "      <td>49.284642</td>\n",
       "      <td>-0.714551</td>\n",
       "      <td>[25.99, 28.43, 21.11, 23.14, 21.37, 22.61, 26.66]</td>\n",
       "      <td>[0.24, 0, 0.85, 0, 0, 0, 0.99]</td>\n",
       "      <td>[light rain, broken clouds, light rain, few cl...</td>\n",
       "      <td>[4.25, 5.38, 4.63, 5, 7.05, 7.94, 7.52]</td>\n",
       "      <td>49.2764624</td>\n",
       "      <td>-0.7024738</td>\n",
       "      <td>24.187143</td>\n",
       "      <td>0.297143</td>\n",
       "      <td>5.967143</td>\n",
       "    </tr>\n",
       "    <tr>\n",
       "      <th>1451</th>\n",
       "      <td>Ariege</td>\n",
       "      <td>Camping jardin La Vie en Vert en Ariège</td>\n",
       "      <td>https://www.booking.com/hotel/fr/camping-la-vi...</td>\n",
       "      <td>9.8</td>\n",
       "      <td>Located in Augirein, 42 km from Espot, Camping...</td>\n",
       "      <td>42.931479</td>\n",
       "      <td>0.919589</td>\n",
       "      <td>[22, 27.3, 23.02, 17.98, 23.92, 29.72, 28.6]</td>\n",
       "      <td>[0.07, 0.63, 1, 1, 0.57, 0.34, 0.18]</td>\n",
       "      <td>[overcast clouds, moderate rain, light rain, l...</td>\n",
       "      <td>[2.71, 3.78, 2.42, 2.91, 3.08, 3.17, 2.52]</td>\n",
       "      <td>42.9455368</td>\n",
       "      <td>1.4065544156065486</td>\n",
       "      <td>24.648571</td>\n",
       "      <td>0.541429</td>\n",
       "      <td>2.941429</td>\n",
       "    </tr>\n",
       "    <tr>\n",
       "      <th>1101</th>\n",
       "      <td>St Malo</td>\n",
       "      <td>Le Pilo</td>\n",
       "      <td>https://www.booking.com/hotel/fr/le-pilori.en-...</td>\n",
       "      <td>9.7</td>\n",
       "      <td>Set in Saint Malo, just 200 metres from Bon Se...</td>\n",
       "      <td>48.648992</td>\n",
       "      <td>-2.025626</td>\n",
       "      <td>[23.48, 24.82, 19.9, 19.82, 24.44, 25.4, 23.37]</td>\n",
       "      <td>[0.2, 0, 0.49, 0, 0, 0.05, 1]</td>\n",
       "      <td>[light rain, few clouds, light rain, few cloud...</td>\n",
       "      <td>[4.85, 7, 7.08, 7.2, 7.49, 10.65, 6.31]</td>\n",
       "      <td>48.649518</td>\n",
       "      <td>-2.0260409</td>\n",
       "      <td>23.032857</td>\n",
       "      <td>0.248571</td>\n",
       "      <td>7.225714</td>\n",
       "    </tr>\n",
       "    <tr>\n",
       "      <th>1109</th>\n",
       "      <td>St Malo</td>\n",
       "      <td>Apartment Les Terrasses-2</td>\n",
       "      <td>https://www.booking.com/hotel/fr/apartment-les...</td>\n",
       "      <td>9.7</td>\n",
       "      <td>Featuring sea views, Apartment Les Terrasses-2...</td>\n",
       "      <td>48.663545</td>\n",
       "      <td>-1.989513</td>\n",
       "      <td>[23.48, 24.82, 19.9, 19.82, 24.44, 25.4, 23.37]</td>\n",
       "      <td>[0.2, 0, 0.49, 0, 0, 0.05, 1]</td>\n",
       "      <td>[light rain, few clouds, light rain, few cloud...</td>\n",
       "      <td>[4.85, 7, 7.08, 7.2, 7.49, 10.65, 6.31]</td>\n",
       "      <td>48.649518</td>\n",
       "      <td>-2.0260409</td>\n",
       "      <td>23.032857</td>\n",
       "      <td>0.248571</td>\n",
       "      <td>7.225714</td>\n",
       "    </tr>\n",
       "    <tr>\n",
       "      <th>869</th>\n",
       "      <td>Le Havre</td>\n",
       "      <td>Le jardin de Saint Vincent - 3 pers</td>\n",
       "      <td>https://www.booking.com/hotel/fr/le-jardin-de-...</td>\n",
       "      <td>9.7</td>\n",
       "      <td>Managed by a private host</td>\n",
       "      <td>49.499829</td>\n",
       "      <td>0.093610</td>\n",
       "      <td>[22.08, 24.65, 20.95, 23.13, 23.62, 23.84, 25.56]</td>\n",
       "      <td>[0.3, 0, 0.61, 0.11, 0, 0, 0.98]</td>\n",
       "      <td>[light rain, overcast clouds, light rain, scat...</td>\n",
       "      <td>[4.53, 6.11, 5.12, 6.44, 8.4, 8.79, 9.05]</td>\n",
       "      <td>49.4938975</td>\n",
       "      <td>0.1079732</td>\n",
       "      <td>23.404286</td>\n",
       "      <td>0.285714</td>\n",
       "      <td>6.920000</td>\n",
       "    </tr>\n",
       "    <tr>\n",
       "      <th>1202</th>\n",
       "      <td>Bayeux</td>\n",
       "      <td>Clos de Bellefontaine B&amp;B</td>\n",
       "      <td>https://www.booking.com/hotel/fr/chambres-d-ha...</td>\n",
       "      <td>9.7</td>\n",
       "      <td>Set in a 2000m² park, this 19th-century house ...</td>\n",
       "      <td>49.272672</td>\n",
       "      <td>-0.694861</td>\n",
       "      <td>[25.99, 28.43, 21.11, 23.14, 21.37, 22.61, 26.66]</td>\n",
       "      <td>[0.24, 0, 0.85, 0, 0, 0, 0.99]</td>\n",
       "      <td>[light rain, broken clouds, light rain, few cl...</td>\n",
       "      <td>[4.25, 5.38, 4.63, 5, 7.05, 7.94, 7.52]</td>\n",
       "      <td>49.2764624</td>\n",
       "      <td>-0.7024738</td>\n",
       "      <td>24.187143</td>\n",
       "      <td>0.297143</td>\n",
       "      <td>5.967143</td>\n",
       "    </tr>\n",
       "    <tr>\n",
       "      <th>1153</th>\n",
       "      <td>Bayeux</td>\n",
       "      <td>La Maîtrise, au cœur de Bayeux</td>\n",
       "      <td>https://www.booking.com/hotel/fr/la-maitrise-a...</td>\n",
       "      <td>9.7</td>\n",
       "      <td>Managed by a private host</td>\n",
       "      <td>49.275814</td>\n",
       "      <td>-0.705325</td>\n",
       "      <td>[25.99, 28.43, 21.11, 23.14, 21.37, 22.61, 26.66]</td>\n",
       "      <td>[0.24, 0, 0.85, 0, 0, 0, 0.99]</td>\n",
       "      <td>[light rain, broken clouds, light rain, few cl...</td>\n",
       "      <td>[4.25, 5.38, 4.63, 5, 7.05, 7.94, 7.52]</td>\n",
       "      <td>49.2764624</td>\n",
       "      <td>-0.7024738</td>\n",
       "      <td>24.187143</td>\n",
       "      <td>0.297143</td>\n",
       "      <td>5.967143</td>\n",
       "    </tr>\n",
       "    <tr>\n",
       "      <th>911</th>\n",
       "      <td>Le Havre</td>\n",
       "      <td>APPART. PERRET VUE PANORAMIQUE MER-PORT et CATENE</td>\n",
       "      <td>https://www.booking.com/hotel/fr/appart-perret...</td>\n",
       "      <td>9.7</td>\n",
       "      <td>Managed by a private host</td>\n",
       "      <td>49.486642</td>\n",
       "      <td>0.111221</td>\n",
       "      <td>[22.08, 24.65, 20.95, 23.13, 23.62, 23.84, 25.56]</td>\n",
       "      <td>[0.3, 0, 0.61, 0.11, 0, 0, 0.98]</td>\n",
       "      <td>[light rain, overcast clouds, light rain, scat...</td>\n",
       "      <td>[4.53, 6.11, 5.12, 6.44, 8.4, 8.79, 9.05]</td>\n",
       "      <td>49.4938975</td>\n",
       "      <td>0.1079732</td>\n",
       "      <td>23.404286</td>\n",
       "      <td>0.285714</td>\n",
       "      <td>6.920000</td>\n",
       "    </tr>\n",
       "    <tr>\n",
       "      <th>1535</th>\n",
       "      <td>Ariege</td>\n",
       "      <td>Aux 4 Saisons</td>\n",
       "      <td>https://www.booking.com/hotel/fr/aux-4-saisons...</td>\n",
       "      <td>9.7</td>\n",
       "      <td>Managed by a private host</td>\n",
       "      <td>42.988924</td>\n",
       "      <td>1.860490</td>\n",
       "      <td>[22, 27.3, 23.02, 17.98, 23.92, 29.72, 28.6]</td>\n",
       "      <td>[0.07, 0.63, 1, 1, 0.57, 0.34, 0.18]</td>\n",
       "      <td>[overcast clouds, moderate rain, light rain, l...</td>\n",
       "      <td>[2.71, 3.78, 2.42, 2.91, 3.08, 3.17, 2.52]</td>\n",
       "      <td>42.9455368</td>\n",
       "      <td>1.4065544156065486</td>\n",
       "      <td>24.648571</td>\n",
       "      <td>0.541429</td>\n",
       "      <td>2.941429</td>\n",
       "    </tr>\n",
       "    <tr>\n",
       "      <th>1118</th>\n",
       "      <td>St Malo</td>\n",
       "      <td>Villa Louisa</td>\n",
       "      <td>https://www.booking.com/hotel/fr/villa-louisa-...</td>\n",
       "      <td>9.6</td>\n",
       "      <td>Managed by a private host</td>\n",
       "      <td>48.636573</td>\n",
       "      <td>-2.014444</td>\n",
       "      <td>[23.48, 24.82, 19.9, 19.82, 24.44, 25.4, 23.37]</td>\n",
       "      <td>[0.2, 0, 0.49, 0, 0, 0.05, 1]</td>\n",
       "      <td>[light rain, few clouds, light rain, few cloud...</td>\n",
       "      <td>[4.85, 7, 7.08, 7.2, 7.49, 10.65, 6.31]</td>\n",
       "      <td>48.649518</td>\n",
       "      <td>-2.0260409</td>\n",
       "      <td>23.032857</td>\n",
       "      <td>0.248571</td>\n",
       "      <td>7.225714</td>\n",
       "    </tr>\n",
       "    <tr>\n",
       "      <th>1227</th>\n",
       "      <td>Bayeux</td>\n",
       "      <td>La Tour Bayeux</td>\n",
       "      <td>https://www.booking.com/hotel/fr/la-tour-bayeu...</td>\n",
       "      <td>9.6</td>\n",
       "      <td>Managed by a private host</td>\n",
       "      <td>49.275714</td>\n",
       "      <td>-0.698042</td>\n",
       "      <td>[25.99, 28.43, 21.11, 23.14, 21.37, 22.61, 26.66]</td>\n",
       "      <td>[0.24, 0, 0.85, 0, 0, 0, 0.99]</td>\n",
       "      <td>[light rain, broken clouds, light rain, few cl...</td>\n",
       "      <td>[4.25, 5.38, 4.63, 5, 7.05, 7.94, 7.52]</td>\n",
       "      <td>49.2764624</td>\n",
       "      <td>-0.7024738</td>\n",
       "      <td>24.187143</td>\n",
       "      <td>0.297143</td>\n",
       "      <td>5.967143</td>\n",
       "    </tr>\n",
       "    <tr>\n",
       "      <th>1179</th>\n",
       "      <td>Bayeux</td>\n",
       "      <td>Manoir Sainte Victoire</td>\n",
       "      <td>https://www.booking.com/hotel/fr/manoir-sainte...</td>\n",
       "      <td>9.6</td>\n",
       "      <td>Offering garden views, a garden and free WiFi,...</td>\n",
       "      <td>49.276492</td>\n",
       "      <td>-0.705760</td>\n",
       "      <td>[25.99, 28.43, 21.11, 23.14, 21.37, 22.61, 26.66]</td>\n",
       "      <td>[0.24, 0, 0.85, 0, 0, 0, 0.99]</td>\n",
       "      <td>[light rain, broken clouds, light rain, few cl...</td>\n",
       "      <td>[4.25, 5.38, 4.63, 5, 7.05, 7.94, 7.52]</td>\n",
       "      <td>49.2764624</td>\n",
       "      <td>-0.7024738</td>\n",
       "      <td>24.187143</td>\n",
       "      <td>0.297143</td>\n",
       "      <td>5.967143</td>\n",
       "    </tr>\n",
       "  </tbody>\n",
       "</table>\n",
       "</div>"
      ],
      "text/plain": [
       "          City                                         Hotel Name  \\\n",
       "1130   St Malo  Appartement 4 chambres vue mer Intra-Muros, pa...   \n",
       "897   Le Havre  Les Appartements Océane Beau 2 pièces Quartier...   \n",
       "1145   St Malo                           Apartment Le Grand Large   \n",
       "1155   St Malo          L'ILE AUX MOUETTES - en plein Intra-Muros   \n",
       "1165    Bayeux    Modern apartment in Bayeux near Tapestry Museum   \n",
       "924   Le Havre                    The Four Seasons Panoramic View   \n",
       "1167    Bayeux                                     SAMANDINE HOME   \n",
       "1141   St Malo                                             L'ILOT   \n",
       "1182    Bayeux                                 Le Chat Qui Veille   \n",
       "1451    Ariege            Camping jardin La Vie en Vert en Ariège   \n",
       "1101   St Malo                                            Le Pilo   \n",
       "1109   St Malo                          Apartment Les Terrasses-2   \n",
       "869   Le Havre                Le jardin de Saint Vincent - 3 pers   \n",
       "1202    Bayeux                          Clos de Bellefontaine B&B   \n",
       "1153    Bayeux                     La Maîtrise, au cœur de Bayeux   \n",
       "911   Le Havre  APPART. PERRET VUE PANORAMIQUE MER-PORT et CATENE   \n",
       "1535    Ariege                                      Aux 4 Saisons   \n",
       "1118   St Malo                                       Villa Louisa   \n",
       "1227    Bayeux                                     La Tour Bayeux   \n",
       "1179    Bayeux                             Manoir Sainte Victoire   \n",
       "\n",
       "                                                    url  score  \\\n",
       "1130  https://www.booking.com/hotel/fr/intra-muros-v...   10.0   \n",
       "897   https://www.booking.com/hotel/fr/appartement-b...   10.0   \n",
       "1145  https://www.booking.com/hotel/fr/apartment-st-...   10.0   \n",
       "1155  https://www.booking.com/hotel/fr/ile-aux-mouet...   10.0   \n",
       "1165  https://www.booking.com/hotel/fr/modern-apartm...   10.0   \n",
       "924   https://www.booking.com/hotel/fr/the-four-seas...   10.0   \n",
       "1167  https://www.booking.com/hotel/fr/samandine-hom...   10.0   \n",
       "1141  https://www.booking.com/hotel/fr/l-39-ilot.en-...    9.9   \n",
       "1182  https://www.booking.com/hotel/fr/gite-6-47-9-p...    9.8   \n",
       "1451  https://www.booking.com/hotel/fr/camping-la-vi...    9.8   \n",
       "1101  https://www.booking.com/hotel/fr/le-pilori.en-...    9.7   \n",
       "1109  https://www.booking.com/hotel/fr/apartment-les...    9.7   \n",
       "869   https://www.booking.com/hotel/fr/le-jardin-de-...    9.7   \n",
       "1202  https://www.booking.com/hotel/fr/chambres-d-ha...    9.7   \n",
       "1153  https://www.booking.com/hotel/fr/la-maitrise-a...    9.7   \n",
       "911   https://www.booking.com/hotel/fr/appart-perret...    9.7   \n",
       "1535  https://www.booking.com/hotel/fr/aux-4-saisons...    9.7   \n",
       "1118  https://www.booking.com/hotel/fr/villa-louisa-...    9.6   \n",
       "1227  https://www.booking.com/hotel/fr/la-tour-bayeu...    9.6   \n",
       "1179  https://www.booking.com/hotel/fr/manoir-sainte...    9.6   \n",
       "\n",
       "                                            description        lat       lon  \\\n",
       "1130                          Managed by a private host  48.646368 -2.025014   \n",
       "897                           Managed by a private host  49.492388  0.139885   \n",
       "1145  Offering sea views, Apartment Le Grand Large i...  48.652153 -2.017182   \n",
       "1155  Located in Saint Malo, 300 metres from Cale de...  48.648786 -2.025717   \n",
       "1165  Modern apartment in Bayeux near Tapestry Museu...  49.276201 -0.699269   \n",
       "924   Offering free WiFi and city views, The Four Se...  49.489686  0.108133   \n",
       "1167                          Managed by a private host  49.276643 -0.702284   \n",
       "1141                          Managed by a private host  48.661135 -1.987553   \n",
       "1182                          Managed by a private host  49.284642 -0.714551   \n",
       "1451  Located in Augirein, 42 km from Espot, Camping...  42.931479  0.919589   \n",
       "1101  Set in Saint Malo, just 200 metres from Bon Se...  48.648992 -2.025626   \n",
       "1109  Featuring sea views, Apartment Les Terrasses-2...  48.663545 -1.989513   \n",
       "869                           Managed by a private host  49.499829  0.093610   \n",
       "1202  Set in a 2000m² park, this 19th-century house ...  49.272672 -0.694861   \n",
       "1153                          Managed by a private host  49.275814 -0.705325   \n",
       "911                           Managed by a private host  49.486642  0.111221   \n",
       "1535                          Managed by a private host  42.988924  1.860490   \n",
       "1118                          Managed by a private host  48.636573 -2.014444   \n",
       "1227                          Managed by a private host  49.275714 -0.698042   \n",
       "1179  Offering garden views, a garden and free WiFi,...  49.276492 -0.705760   \n",
       "\n",
       "                                      7-Day Temperature  \\\n",
       "1130    [23.48, 24.82, 19.9, 19.82, 24.44, 25.4, 23.37]   \n",
       "897   [22.08, 24.65, 20.95, 23.13, 23.62, 23.84, 25.56]   \n",
       "1145    [23.48, 24.82, 19.9, 19.82, 24.44, 25.4, 23.37]   \n",
       "1155    [23.48, 24.82, 19.9, 19.82, 24.44, 25.4, 23.37]   \n",
       "1165  [25.99, 28.43, 21.11, 23.14, 21.37, 22.61, 26.66]   \n",
       "924   [22.08, 24.65, 20.95, 23.13, 23.62, 23.84, 25.56]   \n",
       "1167  [25.99, 28.43, 21.11, 23.14, 21.37, 22.61, 26.66]   \n",
       "1141    [23.48, 24.82, 19.9, 19.82, 24.44, 25.4, 23.37]   \n",
       "1182  [25.99, 28.43, 21.11, 23.14, 21.37, 22.61, 26.66]   \n",
       "1451       [22, 27.3, 23.02, 17.98, 23.92, 29.72, 28.6]   \n",
       "1101    [23.48, 24.82, 19.9, 19.82, 24.44, 25.4, 23.37]   \n",
       "1109    [23.48, 24.82, 19.9, 19.82, 24.44, 25.4, 23.37]   \n",
       "869   [22.08, 24.65, 20.95, 23.13, 23.62, 23.84, 25.56]   \n",
       "1202  [25.99, 28.43, 21.11, 23.14, 21.37, 22.61, 26.66]   \n",
       "1153  [25.99, 28.43, 21.11, 23.14, 21.37, 22.61, 26.66]   \n",
       "911   [22.08, 24.65, 20.95, 23.13, 23.62, 23.84, 25.56]   \n",
       "1535       [22, 27.3, 23.02, 17.98, 23.92, 29.72, 28.6]   \n",
       "1118    [23.48, 24.82, 19.9, 19.82, 24.44, 25.4, 23.37]   \n",
       "1227  [25.99, 28.43, 21.11, 23.14, 21.37, 22.61, 26.66]   \n",
       "1179  [25.99, 28.43, 21.11, 23.14, 21.37, 22.61, 26.66]   \n",
       "\n",
       "                                 7-Day Pop  \\\n",
       "1130         [0.2, 0, 0.49, 0, 0, 0.05, 1]   \n",
       "897       [0.3, 0, 0.61, 0.11, 0, 0, 0.98]   \n",
       "1145         [0.2, 0, 0.49, 0, 0, 0.05, 1]   \n",
       "1155         [0.2, 0, 0.49, 0, 0, 0.05, 1]   \n",
       "1165        [0.24, 0, 0.85, 0, 0, 0, 0.99]   \n",
       "924       [0.3, 0, 0.61, 0.11, 0, 0, 0.98]   \n",
       "1167        [0.24, 0, 0.85, 0, 0, 0, 0.99]   \n",
       "1141         [0.2, 0, 0.49, 0, 0, 0.05, 1]   \n",
       "1182        [0.24, 0, 0.85, 0, 0, 0, 0.99]   \n",
       "1451  [0.07, 0.63, 1, 1, 0.57, 0.34, 0.18]   \n",
       "1101         [0.2, 0, 0.49, 0, 0, 0.05, 1]   \n",
       "1109         [0.2, 0, 0.49, 0, 0, 0.05, 1]   \n",
       "869       [0.3, 0, 0.61, 0.11, 0, 0, 0.98]   \n",
       "1202        [0.24, 0, 0.85, 0, 0, 0, 0.99]   \n",
       "1153        [0.24, 0, 0.85, 0, 0, 0, 0.99]   \n",
       "911       [0.3, 0, 0.61, 0.11, 0, 0, 0.98]   \n",
       "1535  [0.07, 0.63, 1, 1, 0.57, 0.34, 0.18]   \n",
       "1118         [0.2, 0, 0.49, 0, 0, 0.05, 1]   \n",
       "1227        [0.24, 0, 0.85, 0, 0, 0, 0.99]   \n",
       "1179        [0.24, 0, 0.85, 0, 0, 0, 0.99]   \n",
       "\n",
       "                                7-Day Weather condition  \\\n",
       "1130  [light rain, few clouds, light rain, few cloud...   \n",
       "897   [light rain, overcast clouds, light rain, scat...   \n",
       "1145  [light rain, few clouds, light rain, few cloud...   \n",
       "1155  [light rain, few clouds, light rain, few cloud...   \n",
       "1165  [light rain, broken clouds, light rain, few cl...   \n",
       "924   [light rain, overcast clouds, light rain, scat...   \n",
       "1167  [light rain, broken clouds, light rain, few cl...   \n",
       "1141  [light rain, few clouds, light rain, few cloud...   \n",
       "1182  [light rain, broken clouds, light rain, few cl...   \n",
       "1451  [overcast clouds, moderate rain, light rain, l...   \n",
       "1101  [light rain, few clouds, light rain, few cloud...   \n",
       "1109  [light rain, few clouds, light rain, few cloud...   \n",
       "869   [light rain, overcast clouds, light rain, scat...   \n",
       "1202  [light rain, broken clouds, light rain, few cl...   \n",
       "1153  [light rain, broken clouds, light rain, few cl...   \n",
       "911   [light rain, overcast clouds, light rain, scat...   \n",
       "1535  [overcast clouds, moderate rain, light rain, l...   \n",
       "1118  [light rain, few clouds, light rain, few cloud...   \n",
       "1227  [light rain, broken clouds, light rain, few cl...   \n",
       "1179  [light rain, broken clouds, light rain, few cl...   \n",
       "\n",
       "                                7-Day Wind speed    City_Lat  \\\n",
       "1130     [4.85, 7, 7.08, 7.2, 7.49, 10.65, 6.31]   48.649518   \n",
       "897    [4.53, 6.11, 5.12, 6.44, 8.4, 8.79, 9.05]  49.4938975   \n",
       "1145     [4.85, 7, 7.08, 7.2, 7.49, 10.65, 6.31]   48.649518   \n",
       "1155     [4.85, 7, 7.08, 7.2, 7.49, 10.65, 6.31]   48.649518   \n",
       "1165     [4.25, 5.38, 4.63, 5, 7.05, 7.94, 7.52]  49.2764624   \n",
       "924    [4.53, 6.11, 5.12, 6.44, 8.4, 8.79, 9.05]  49.4938975   \n",
       "1167     [4.25, 5.38, 4.63, 5, 7.05, 7.94, 7.52]  49.2764624   \n",
       "1141     [4.85, 7, 7.08, 7.2, 7.49, 10.65, 6.31]   48.649518   \n",
       "1182     [4.25, 5.38, 4.63, 5, 7.05, 7.94, 7.52]  49.2764624   \n",
       "1451  [2.71, 3.78, 2.42, 2.91, 3.08, 3.17, 2.52]  42.9455368   \n",
       "1101     [4.85, 7, 7.08, 7.2, 7.49, 10.65, 6.31]   48.649518   \n",
       "1109     [4.85, 7, 7.08, 7.2, 7.49, 10.65, 6.31]   48.649518   \n",
       "869    [4.53, 6.11, 5.12, 6.44, 8.4, 8.79, 9.05]  49.4938975   \n",
       "1202     [4.25, 5.38, 4.63, 5, 7.05, 7.94, 7.52]  49.2764624   \n",
       "1153     [4.25, 5.38, 4.63, 5, 7.05, 7.94, 7.52]  49.2764624   \n",
       "911    [4.53, 6.11, 5.12, 6.44, 8.4, 8.79, 9.05]  49.4938975   \n",
       "1535  [2.71, 3.78, 2.42, 2.91, 3.08, 3.17, 2.52]  42.9455368   \n",
       "1118     [4.85, 7, 7.08, 7.2, 7.49, 10.65, 6.31]   48.649518   \n",
       "1227     [4.25, 5.38, 4.63, 5, 7.05, 7.94, 7.52]  49.2764624   \n",
       "1179     [4.25, 5.38, 4.63, 5, 7.05, 7.94, 7.52]  49.2764624   \n",
       "\n",
       "                City_Lon  Average Temperature  Average Pop  Average Wind Speed  \n",
       "1130          -2.0260409            23.032857     0.248571            7.225714  \n",
       "897            0.1079732            23.404286     0.285714            6.920000  \n",
       "1145          -2.0260409            23.032857     0.248571            7.225714  \n",
       "1155          -2.0260409            23.032857     0.248571            7.225714  \n",
       "1165          -0.7024738            24.187143     0.297143            5.967143  \n",
       "924            0.1079732            23.404286     0.285714            6.920000  \n",
       "1167          -0.7024738            24.187143     0.297143            5.967143  \n",
       "1141          -2.0260409            23.032857     0.248571            7.225714  \n",
       "1182          -0.7024738            24.187143     0.297143            5.967143  \n",
       "1451  1.4065544156065486            24.648571     0.541429            2.941429  \n",
       "1101          -2.0260409            23.032857     0.248571            7.225714  \n",
       "1109          -2.0260409            23.032857     0.248571            7.225714  \n",
       "869            0.1079732            23.404286     0.285714            6.920000  \n",
       "1202          -0.7024738            24.187143     0.297143            5.967143  \n",
       "1153          -0.7024738            24.187143     0.297143            5.967143  \n",
       "911            0.1079732            23.404286     0.285714            6.920000  \n",
       "1535  1.4065544156065486            24.648571     0.541429            2.941429  \n",
       "1118          -2.0260409            23.032857     0.248571            7.225714  \n",
       "1227          -0.7024738            24.187143     0.297143            5.967143  \n",
       "1179          -0.7024738            24.187143     0.297143            5.967143  "
      ]
     },
     "metadata": {},
     "output_type": "display_data"
    }
   ],
   "source": [
    "# Selecting the 20 best hotels in the top 5 cities\n",
    "\n",
    "top_20_hotels = df_final[df_final['City'].isin(top_5_destinations.index)]\n",
    "top_20_hotels = top_20_hotels.sort_values('score' , ascending= False).head(20)\n",
    "display(top_20_hotels)"
   ]
  },
  {
   "cell_type": "code",
   "execution_count": 65,
   "id": "f40665ca",
   "metadata": {},
   "outputs": [
    {
     "data": {
      "application/vnd.plotly.v1+json": {
       "config": {
        "plotlyServerURL": "https://plot.ly"
       },
       "data": [
        {
         "hovertemplate": "Average Wind Speed=%{marker.size}<br>lat=%{lat}<br>lon=%{lon}<br>Average Temperature=%{marker.color}<extra></extra>",
         "lat": [
          43.48006821921875,
          42.939334244133335,
          49.27630221631579,
          49.49413399868421,
          48.64822836726027
         ],
         "legendgroup": "",
         "lon": [
          -1.558650555,
          1.5268104934666666,
          -0.7029563584210526,
          0.11226924907894736,
          -2.011885019589041
         ],
         "marker": {
          "color": [
           24.574285714285715,
           24.648571428571426,
           24.187142857142856,
           23.404285714285713,
           23.032857142857143
          ],
          "coloraxis": "coloraxis",
          "size": [
           4.545714285714285,
           2.9414285714285713,
           5.967142857142856,
           6.919999999999999,
           7.225714285714285
          ],
          "sizemode": "area",
          "sizeref": 0.008028571428571428
         },
         "mode": "markers",
         "name": "",
         "showlegend": false,
         "subplot": "mapbox",
         "type": "scattermapbox"
        }
       ],
       "layout": {
        "coloraxis": {
         "colorbar": {
          "title": {
           "text": "Average Temperature"
          }
         },
         "colorscale": [
          [
           0,
           "rgb(23, 28, 66)"
          ],
          [
           0.09090909090909091,
           "rgb(41, 58, 143)"
          ],
          [
           0.18181818181818182,
           "rgb(11, 102, 189)"
          ],
          [
           0.2727272727272727,
           "rgb(69, 144, 185)"
          ],
          [
           0.36363636363636365,
           "rgb(142, 181, 194)"
          ],
          [
           0.45454545454545453,
           "rgb(210, 216, 219)"
          ],
          [
           0.5454545454545454,
           "rgb(230, 210, 204)"
          ],
          [
           0.6363636363636364,
           "rgb(213, 157, 137)"
          ],
          [
           0.7272727272727273,
           "rgb(196, 101, 72)"
          ],
          [
           0.8181818181818182,
           "rgb(172, 43, 36)"
          ],
          [
           0.9090909090909091,
           "rgb(120, 14, 40)"
          ],
          [
           1,
           "rgb(60, 9, 17)"
          ]
         ]
        },
        "height": 800,
        "legend": {
         "itemsizing": "constant",
         "tracegroupgap": 0
        },
        "mapbox": {
         "center": {
          "lat": 47,
          "lon": 2
         },
         "domain": {
          "x": [
           0,
           1
          ],
          "y": [
           0,
           1
          ]
         },
         "style": "carto-darkmatter",
         "zoom": 4.8
        },
        "margin": {
         "b": 0,
         "l": 0,
         "r": 0,
         "t": 80
        },
        "template": {
         "data": {
          "bar": [
           {
            "error_x": {
             "color": "#2a3f5f"
            },
            "error_y": {
             "color": "#2a3f5f"
            },
            "marker": {
             "line": {
              "color": "#E5ECF6",
              "width": 0.5
             },
             "pattern": {
              "fillmode": "overlay",
              "size": 10,
              "solidity": 0.2
             }
            },
            "type": "bar"
           }
          ],
          "barpolar": [
           {
            "marker": {
             "line": {
              "color": "#E5ECF6",
              "width": 0.5
             },
             "pattern": {
              "fillmode": "overlay",
              "size": 10,
              "solidity": 0.2
             }
            },
            "type": "barpolar"
           }
          ],
          "carpet": [
           {
            "aaxis": {
             "endlinecolor": "#2a3f5f",
             "gridcolor": "white",
             "linecolor": "white",
             "minorgridcolor": "white",
             "startlinecolor": "#2a3f5f"
            },
            "baxis": {
             "endlinecolor": "#2a3f5f",
             "gridcolor": "white",
             "linecolor": "white",
             "minorgridcolor": "white",
             "startlinecolor": "#2a3f5f"
            },
            "type": "carpet"
           }
          ],
          "choropleth": [
           {
            "colorbar": {
             "outlinewidth": 0,
             "ticks": ""
            },
            "type": "choropleth"
           }
          ],
          "contour": [
           {
            "colorbar": {
             "outlinewidth": 0,
             "ticks": ""
            },
            "colorscale": [
             [
              0,
              "#0d0887"
             ],
             [
              0.1111111111111111,
              "#46039f"
             ],
             [
              0.2222222222222222,
              "#7201a8"
             ],
             [
              0.3333333333333333,
              "#9c179e"
             ],
             [
              0.4444444444444444,
              "#bd3786"
             ],
             [
              0.5555555555555556,
              "#d8576b"
             ],
             [
              0.6666666666666666,
              "#ed7953"
             ],
             [
              0.7777777777777778,
              "#fb9f3a"
             ],
             [
              0.8888888888888888,
              "#fdca26"
             ],
             [
              1,
              "#f0f921"
             ]
            ],
            "type": "contour"
           }
          ],
          "contourcarpet": [
           {
            "colorbar": {
             "outlinewidth": 0,
             "ticks": ""
            },
            "type": "contourcarpet"
           }
          ],
          "heatmap": [
           {
            "colorbar": {
             "outlinewidth": 0,
             "ticks": ""
            },
            "colorscale": [
             [
              0,
              "#0d0887"
             ],
             [
              0.1111111111111111,
              "#46039f"
             ],
             [
              0.2222222222222222,
              "#7201a8"
             ],
             [
              0.3333333333333333,
              "#9c179e"
             ],
             [
              0.4444444444444444,
              "#bd3786"
             ],
             [
              0.5555555555555556,
              "#d8576b"
             ],
             [
              0.6666666666666666,
              "#ed7953"
             ],
             [
              0.7777777777777778,
              "#fb9f3a"
             ],
             [
              0.8888888888888888,
              "#fdca26"
             ],
             [
              1,
              "#f0f921"
             ]
            ],
            "type": "heatmap"
           }
          ],
          "heatmapgl": [
           {
            "colorbar": {
             "outlinewidth": 0,
             "ticks": ""
            },
            "colorscale": [
             [
              0,
              "#0d0887"
             ],
             [
              0.1111111111111111,
              "#46039f"
             ],
             [
              0.2222222222222222,
              "#7201a8"
             ],
             [
              0.3333333333333333,
              "#9c179e"
             ],
             [
              0.4444444444444444,
              "#bd3786"
             ],
             [
              0.5555555555555556,
              "#d8576b"
             ],
             [
              0.6666666666666666,
              "#ed7953"
             ],
             [
              0.7777777777777778,
              "#fb9f3a"
             ],
             [
              0.8888888888888888,
              "#fdca26"
             ],
             [
              1,
              "#f0f921"
             ]
            ],
            "type": "heatmapgl"
           }
          ],
          "histogram": [
           {
            "marker": {
             "pattern": {
              "fillmode": "overlay",
              "size": 10,
              "solidity": 0.2
             }
            },
            "type": "histogram"
           }
          ],
          "histogram2d": [
           {
            "colorbar": {
             "outlinewidth": 0,
             "ticks": ""
            },
            "colorscale": [
             [
              0,
              "#0d0887"
             ],
             [
              0.1111111111111111,
              "#46039f"
             ],
             [
              0.2222222222222222,
              "#7201a8"
             ],
             [
              0.3333333333333333,
              "#9c179e"
             ],
             [
              0.4444444444444444,
              "#bd3786"
             ],
             [
              0.5555555555555556,
              "#d8576b"
             ],
             [
              0.6666666666666666,
              "#ed7953"
             ],
             [
              0.7777777777777778,
              "#fb9f3a"
             ],
             [
              0.8888888888888888,
              "#fdca26"
             ],
             [
              1,
              "#f0f921"
             ]
            ],
            "type": "histogram2d"
           }
          ],
          "histogram2dcontour": [
           {
            "colorbar": {
             "outlinewidth": 0,
             "ticks": ""
            },
            "colorscale": [
             [
              0,
              "#0d0887"
             ],
             [
              0.1111111111111111,
              "#46039f"
             ],
             [
              0.2222222222222222,
              "#7201a8"
             ],
             [
              0.3333333333333333,
              "#9c179e"
             ],
             [
              0.4444444444444444,
              "#bd3786"
             ],
             [
              0.5555555555555556,
              "#d8576b"
             ],
             [
              0.6666666666666666,
              "#ed7953"
             ],
             [
              0.7777777777777778,
              "#fb9f3a"
             ],
             [
              0.8888888888888888,
              "#fdca26"
             ],
             [
              1,
              "#f0f921"
             ]
            ],
            "type": "histogram2dcontour"
           }
          ],
          "mesh3d": [
           {
            "colorbar": {
             "outlinewidth": 0,
             "ticks": ""
            },
            "type": "mesh3d"
           }
          ],
          "parcoords": [
           {
            "line": {
             "colorbar": {
              "outlinewidth": 0,
              "ticks": ""
             }
            },
            "type": "parcoords"
           }
          ],
          "pie": [
           {
            "automargin": true,
            "type": "pie"
           }
          ],
          "scatter": [
           {
            "marker": {
             "colorbar": {
              "outlinewidth": 0,
              "ticks": ""
             }
            },
            "type": "scatter"
           }
          ],
          "scatter3d": [
           {
            "line": {
             "colorbar": {
              "outlinewidth": 0,
              "ticks": ""
             }
            },
            "marker": {
             "colorbar": {
              "outlinewidth": 0,
              "ticks": ""
             }
            },
            "type": "scatter3d"
           }
          ],
          "scattercarpet": [
           {
            "marker": {
             "colorbar": {
              "outlinewidth": 0,
              "ticks": ""
             }
            },
            "type": "scattercarpet"
           }
          ],
          "scattergeo": [
           {
            "marker": {
             "colorbar": {
              "outlinewidth": 0,
              "ticks": ""
             }
            },
            "type": "scattergeo"
           }
          ],
          "scattergl": [
           {
            "marker": {
             "colorbar": {
              "outlinewidth": 0,
              "ticks": ""
             }
            },
            "type": "scattergl"
           }
          ],
          "scattermapbox": [
           {
            "marker": {
             "colorbar": {
              "outlinewidth": 0,
              "ticks": ""
             }
            },
            "type": "scattermapbox"
           }
          ],
          "scatterpolar": [
           {
            "marker": {
             "colorbar": {
              "outlinewidth": 0,
              "ticks": ""
             }
            },
            "type": "scatterpolar"
           }
          ],
          "scatterpolargl": [
           {
            "marker": {
             "colorbar": {
              "outlinewidth": 0,
              "ticks": ""
             }
            },
            "type": "scatterpolargl"
           }
          ],
          "scatterternary": [
           {
            "marker": {
             "colorbar": {
              "outlinewidth": 0,
              "ticks": ""
             }
            },
            "type": "scatterternary"
           }
          ],
          "surface": [
           {
            "colorbar": {
             "outlinewidth": 0,
             "ticks": ""
            },
            "colorscale": [
             [
              0,
              "#0d0887"
             ],
             [
              0.1111111111111111,
              "#46039f"
             ],
             [
              0.2222222222222222,
              "#7201a8"
             ],
             [
              0.3333333333333333,
              "#9c179e"
             ],
             [
              0.4444444444444444,
              "#bd3786"
             ],
             [
              0.5555555555555556,
              "#d8576b"
             ],
             [
              0.6666666666666666,
              "#ed7953"
             ],
             [
              0.7777777777777778,
              "#fb9f3a"
             ],
             [
              0.8888888888888888,
              "#fdca26"
             ],
             [
              1,
              "#f0f921"
             ]
            ],
            "type": "surface"
           }
          ],
          "table": [
           {
            "cells": {
             "fill": {
              "color": "#EBF0F8"
             },
             "line": {
              "color": "white"
             }
            },
            "header": {
             "fill": {
              "color": "#C8D4E3"
             },
             "line": {
              "color": "white"
             }
            },
            "type": "table"
           }
          ]
         },
         "layout": {
          "annotationdefaults": {
           "arrowcolor": "#2a3f5f",
           "arrowhead": 0,
           "arrowwidth": 1
          },
          "autotypenumbers": "strict",
          "coloraxis": {
           "colorbar": {
            "outlinewidth": 0,
            "ticks": ""
           }
          },
          "colorscale": {
           "diverging": [
            [
             0,
             "#8e0152"
            ],
            [
             0.1,
             "#c51b7d"
            ],
            [
             0.2,
             "#de77ae"
            ],
            [
             0.3,
             "#f1b6da"
            ],
            [
             0.4,
             "#fde0ef"
            ],
            [
             0.5,
             "#f7f7f7"
            ],
            [
             0.6,
             "#e6f5d0"
            ],
            [
             0.7,
             "#b8e186"
            ],
            [
             0.8,
             "#7fbc41"
            ],
            [
             0.9,
             "#4d9221"
            ],
            [
             1,
             "#276419"
            ]
           ],
           "sequential": [
            [
             0,
             "#0d0887"
            ],
            [
             0.1111111111111111,
             "#46039f"
            ],
            [
             0.2222222222222222,
             "#7201a8"
            ],
            [
             0.3333333333333333,
             "#9c179e"
            ],
            [
             0.4444444444444444,
             "#bd3786"
            ],
            [
             0.5555555555555556,
             "#d8576b"
            ],
            [
             0.6666666666666666,
             "#ed7953"
            ],
            [
             0.7777777777777778,
             "#fb9f3a"
            ],
            [
             0.8888888888888888,
             "#fdca26"
            ],
            [
             1,
             "#f0f921"
            ]
           ],
           "sequentialminus": [
            [
             0,
             "#0d0887"
            ],
            [
             0.1111111111111111,
             "#46039f"
            ],
            [
             0.2222222222222222,
             "#7201a8"
            ],
            [
             0.3333333333333333,
             "#9c179e"
            ],
            [
             0.4444444444444444,
             "#bd3786"
            ],
            [
             0.5555555555555556,
             "#d8576b"
            ],
            [
             0.6666666666666666,
             "#ed7953"
            ],
            [
             0.7777777777777778,
             "#fb9f3a"
            ],
            [
             0.8888888888888888,
             "#fdca26"
            ],
            [
             1,
             "#f0f921"
            ]
           ]
          },
          "colorway": [
           "#636efa",
           "#EF553B",
           "#00cc96",
           "#ab63fa",
           "#FFA15A",
           "#19d3f3",
           "#FF6692",
           "#B6E880",
           "#FF97FF",
           "#FECB52"
          ],
          "font": {
           "color": "#2a3f5f"
          },
          "geo": {
           "bgcolor": "white",
           "lakecolor": "white",
           "landcolor": "#E5ECF6",
           "showlakes": true,
           "showland": true,
           "subunitcolor": "white"
          },
          "hoverlabel": {
           "align": "left"
          },
          "hovermode": "closest",
          "mapbox": {
           "style": "light"
          },
          "paper_bgcolor": "white",
          "plot_bgcolor": "#E5ECF6",
          "polar": {
           "angularaxis": {
            "gridcolor": "white",
            "linecolor": "white",
            "ticks": ""
           },
           "bgcolor": "#E5ECF6",
           "radialaxis": {
            "gridcolor": "white",
            "linecolor": "white",
            "ticks": ""
           }
          },
          "scene": {
           "xaxis": {
            "backgroundcolor": "#E5ECF6",
            "gridcolor": "white",
            "gridwidth": 2,
            "linecolor": "white",
            "showbackground": true,
            "ticks": "",
            "zerolinecolor": "white"
           },
           "yaxis": {
            "backgroundcolor": "#E5ECF6",
            "gridcolor": "white",
            "gridwidth": 2,
            "linecolor": "white",
            "showbackground": true,
            "ticks": "",
            "zerolinecolor": "white"
           },
           "zaxis": {
            "backgroundcolor": "#E5ECF6",
            "gridcolor": "white",
            "gridwidth": 2,
            "linecolor": "white",
            "showbackground": true,
            "ticks": "",
            "zerolinecolor": "white"
           }
          },
          "shapedefaults": {
           "line": {
            "color": "#2a3f5f"
           }
          },
          "ternary": {
           "aaxis": {
            "gridcolor": "white",
            "linecolor": "white",
            "ticks": ""
           },
           "baxis": {
            "gridcolor": "white",
            "linecolor": "white",
            "ticks": ""
           },
           "bgcolor": "#E5ECF6",
           "caxis": {
            "gridcolor": "white",
            "linecolor": "white",
            "ticks": ""
           }
          },
          "title": {
           "x": 0.05
          },
          "xaxis": {
           "automargin": true,
           "gridcolor": "white",
           "linecolor": "white",
           "ticks": "",
           "title": {
            "standoff": 15
           },
           "zerolinecolor": "white",
           "zerolinewidth": 2
          },
          "yaxis": {
           "automargin": true,
           "gridcolor": "white",
           "linecolor": "white",
           "ticks": "",
           "title": {
            "standoff": 15
           },
           "zerolinecolor": "white",
           "zerolinewidth": 2
          }
         }
        },
        "title": {
         "text": "Top 5 destinations weather map",
         "x": 0.5
        },
        "width": 1000
       }
      }
     },
     "metadata": {},
     "output_type": "display_data"
    }
   ],
   "source": [
    "# Display weather map for the top 5 destinations\n",
    "fig = px.scatter_mapbox(top_5_destinations,\n",
    "                        title='Top 5 destinations weather map',\n",
    "                        lat = 'lat',\n",
    "                        lon = 'lon',\n",
    "                        color = 'Average Temperature',\n",
    "                        color_continuous_scale = px.colors.diverging.balance,\n",
    "                        size = 'Average Wind Speed',\n",
    "                        size_max = 30,\n",
    "                        )\n",
    "fig.update_layout(width = 1000,\n",
    "                  height = 800,\n",
    "                  title_x = 0.5, \n",
    "                  mapbox = {\"style\": \"carto-darkmatter\", \"center\": {\"lon\": 2, \"lat\" : 47}, \"zoom\": 4.8},\n",
    "                  margin = {\"l\": 0, \"r\": 0, \"b\": 0, \"t\": 80},\n",
    "                  )\n",
    "\n",
    "fig.show()"
   ]
  },
  {
   "cell_type": "code",
   "execution_count": 66,
   "id": "da98abba",
   "metadata": {},
   "outputs": [
    {
     "data": {
      "application/vnd.plotly.v1+json": {
       "config": {
        "plotlyServerURL": "https://plot.ly"
       },
       "data": [
        {
         "hovertemplate": "score=%{marker.color}<br>lat=%{lat}<br>lon=%{lon}<extra></extra>",
         "lat": [
          48.64636841,
          49.4923885,
          48.6521528,
          48.64878589,
          49.276201,
          49.4896865,
          49.2766435,
          48.6611346,
          49.284642,
          42.931479,
          48.648992,
          48.663545,
          49.4998289,
          49.27267164,
          49.2758139,
          49.486642,
          42.98892387,
          48.636573,
          49.275714,
          49.27649171
         ],
         "legendgroup": "",
         "lon": [
          -2.02501388,
          0.13988509999999998,
          -2.0171823,
          -2.02571677,
          -0.6992689999999999,
          0.1081326,
          -0.7022839,
          -1.98755309,
          -0.7145509999999999,
          0.919589,
          -2.0256258,
          -1.989513,
          0.0936103,
          -0.6948611100000001,
          -0.7053254,
          0.11122059999999999,
          1.86048956,
          -2.014444,
          -0.6980419999999999,
          -0.7057595999999999
         ],
         "marker": {
          "color": [
           10,
           10,
           10,
           10,
           10,
           10,
           10,
           9.9,
           9.8,
           9.8,
           9.7,
           9.7,
           9.7,
           9.7,
           9.7,
           9.7,
           9.7,
           9.6,
           9.6,
           9.6
          ],
          "coloraxis": "coloraxis",
          "size": [
           10,
           10,
           10,
           10,
           10,
           10,
           10,
           9.9,
           9.8,
           9.8,
           9.7,
           9.7,
           9.7,
           9.7,
           9.7,
           9.7,
           9.7,
           9.6,
           9.6,
           9.6
          ],
          "sizemode": "area",
          "sizeref": 0.025
         },
         "mode": "markers",
         "name": "",
         "showlegend": false,
         "subplot": "mapbox",
         "type": "scattermapbox"
        }
       ],
       "layout": {
        "coloraxis": {
         "colorbar": {
          "title": {
           "text": "score"
          }
         },
         "colorscale": [
          [
           0,
           "rgb(0, 155, 158)"
          ],
          [
           0.16666666666666666,
           "rgb(66, 183, 185)"
          ],
          [
           0.3333333333333333,
           "rgb(167, 211, 212)"
          ],
          [
           0.5,
           "rgb(241, 241, 241)"
          ],
          [
           0.6666666666666666,
           "rgb(228, 193, 217)"
          ],
          [
           0.8333333333333334,
           "rgb(214, 145, 193)"
          ],
          [
           1,
           "rgb(199, 93, 171)"
          ]
         ]
        },
        "height": 800,
        "legend": {
         "itemsizing": "constant",
         "tracegroupgap": 0
        },
        "mapbox": {
         "center": {
          "lat": 43.5,
          "lon": 2.6
         },
         "domain": {
          "x": [
           0,
           1
          ],
          "y": [
           0,
           1
          ]
         },
         "style": "carto-darkmatter",
         "zoom": 7
        },
        "margin": {
         "b": 0,
         "l": 0,
         "r": 0,
         "t": 80
        },
        "template": {
         "data": {
          "bar": [
           {
            "error_x": {
             "color": "#2a3f5f"
            },
            "error_y": {
             "color": "#2a3f5f"
            },
            "marker": {
             "line": {
              "color": "#E5ECF6",
              "width": 0.5
             },
             "pattern": {
              "fillmode": "overlay",
              "size": 10,
              "solidity": 0.2
             }
            },
            "type": "bar"
           }
          ],
          "barpolar": [
           {
            "marker": {
             "line": {
              "color": "#E5ECF6",
              "width": 0.5
             },
             "pattern": {
              "fillmode": "overlay",
              "size": 10,
              "solidity": 0.2
             }
            },
            "type": "barpolar"
           }
          ],
          "carpet": [
           {
            "aaxis": {
             "endlinecolor": "#2a3f5f",
             "gridcolor": "white",
             "linecolor": "white",
             "minorgridcolor": "white",
             "startlinecolor": "#2a3f5f"
            },
            "baxis": {
             "endlinecolor": "#2a3f5f",
             "gridcolor": "white",
             "linecolor": "white",
             "minorgridcolor": "white",
             "startlinecolor": "#2a3f5f"
            },
            "type": "carpet"
           }
          ],
          "choropleth": [
           {
            "colorbar": {
             "outlinewidth": 0,
             "ticks": ""
            },
            "type": "choropleth"
           }
          ],
          "contour": [
           {
            "colorbar": {
             "outlinewidth": 0,
             "ticks": ""
            },
            "colorscale": [
             [
              0,
              "#0d0887"
             ],
             [
              0.1111111111111111,
              "#46039f"
             ],
             [
              0.2222222222222222,
              "#7201a8"
             ],
             [
              0.3333333333333333,
              "#9c179e"
             ],
             [
              0.4444444444444444,
              "#bd3786"
             ],
             [
              0.5555555555555556,
              "#d8576b"
             ],
             [
              0.6666666666666666,
              "#ed7953"
             ],
             [
              0.7777777777777778,
              "#fb9f3a"
             ],
             [
              0.8888888888888888,
              "#fdca26"
             ],
             [
              1,
              "#f0f921"
             ]
            ],
            "type": "contour"
           }
          ],
          "contourcarpet": [
           {
            "colorbar": {
             "outlinewidth": 0,
             "ticks": ""
            },
            "type": "contourcarpet"
           }
          ],
          "heatmap": [
           {
            "colorbar": {
             "outlinewidth": 0,
             "ticks": ""
            },
            "colorscale": [
             [
              0,
              "#0d0887"
             ],
             [
              0.1111111111111111,
              "#46039f"
             ],
             [
              0.2222222222222222,
              "#7201a8"
             ],
             [
              0.3333333333333333,
              "#9c179e"
             ],
             [
              0.4444444444444444,
              "#bd3786"
             ],
             [
              0.5555555555555556,
              "#d8576b"
             ],
             [
              0.6666666666666666,
              "#ed7953"
             ],
             [
              0.7777777777777778,
              "#fb9f3a"
             ],
             [
              0.8888888888888888,
              "#fdca26"
             ],
             [
              1,
              "#f0f921"
             ]
            ],
            "type": "heatmap"
           }
          ],
          "heatmapgl": [
           {
            "colorbar": {
             "outlinewidth": 0,
             "ticks": ""
            },
            "colorscale": [
             [
              0,
              "#0d0887"
             ],
             [
              0.1111111111111111,
              "#46039f"
             ],
             [
              0.2222222222222222,
              "#7201a8"
             ],
             [
              0.3333333333333333,
              "#9c179e"
             ],
             [
              0.4444444444444444,
              "#bd3786"
             ],
             [
              0.5555555555555556,
              "#d8576b"
             ],
             [
              0.6666666666666666,
              "#ed7953"
             ],
             [
              0.7777777777777778,
              "#fb9f3a"
             ],
             [
              0.8888888888888888,
              "#fdca26"
             ],
             [
              1,
              "#f0f921"
             ]
            ],
            "type": "heatmapgl"
           }
          ],
          "histogram": [
           {
            "marker": {
             "pattern": {
              "fillmode": "overlay",
              "size": 10,
              "solidity": 0.2
             }
            },
            "type": "histogram"
           }
          ],
          "histogram2d": [
           {
            "colorbar": {
             "outlinewidth": 0,
             "ticks": ""
            },
            "colorscale": [
             [
              0,
              "#0d0887"
             ],
             [
              0.1111111111111111,
              "#46039f"
             ],
             [
              0.2222222222222222,
              "#7201a8"
             ],
             [
              0.3333333333333333,
              "#9c179e"
             ],
             [
              0.4444444444444444,
              "#bd3786"
             ],
             [
              0.5555555555555556,
              "#d8576b"
             ],
             [
              0.6666666666666666,
              "#ed7953"
             ],
             [
              0.7777777777777778,
              "#fb9f3a"
             ],
             [
              0.8888888888888888,
              "#fdca26"
             ],
             [
              1,
              "#f0f921"
             ]
            ],
            "type": "histogram2d"
           }
          ],
          "histogram2dcontour": [
           {
            "colorbar": {
             "outlinewidth": 0,
             "ticks": ""
            },
            "colorscale": [
             [
              0,
              "#0d0887"
             ],
             [
              0.1111111111111111,
              "#46039f"
             ],
             [
              0.2222222222222222,
              "#7201a8"
             ],
             [
              0.3333333333333333,
              "#9c179e"
             ],
             [
              0.4444444444444444,
              "#bd3786"
             ],
             [
              0.5555555555555556,
              "#d8576b"
             ],
             [
              0.6666666666666666,
              "#ed7953"
             ],
             [
              0.7777777777777778,
              "#fb9f3a"
             ],
             [
              0.8888888888888888,
              "#fdca26"
             ],
             [
              1,
              "#f0f921"
             ]
            ],
            "type": "histogram2dcontour"
           }
          ],
          "mesh3d": [
           {
            "colorbar": {
             "outlinewidth": 0,
             "ticks": ""
            },
            "type": "mesh3d"
           }
          ],
          "parcoords": [
           {
            "line": {
             "colorbar": {
              "outlinewidth": 0,
              "ticks": ""
             }
            },
            "type": "parcoords"
           }
          ],
          "pie": [
           {
            "automargin": true,
            "type": "pie"
           }
          ],
          "scatter": [
           {
            "marker": {
             "colorbar": {
              "outlinewidth": 0,
              "ticks": ""
             }
            },
            "type": "scatter"
           }
          ],
          "scatter3d": [
           {
            "line": {
             "colorbar": {
              "outlinewidth": 0,
              "ticks": ""
             }
            },
            "marker": {
             "colorbar": {
              "outlinewidth": 0,
              "ticks": ""
             }
            },
            "type": "scatter3d"
           }
          ],
          "scattercarpet": [
           {
            "marker": {
             "colorbar": {
              "outlinewidth": 0,
              "ticks": ""
             }
            },
            "type": "scattercarpet"
           }
          ],
          "scattergeo": [
           {
            "marker": {
             "colorbar": {
              "outlinewidth": 0,
              "ticks": ""
             }
            },
            "type": "scattergeo"
           }
          ],
          "scattergl": [
           {
            "marker": {
             "colorbar": {
              "outlinewidth": 0,
              "ticks": ""
             }
            },
            "type": "scattergl"
           }
          ],
          "scattermapbox": [
           {
            "marker": {
             "colorbar": {
              "outlinewidth": 0,
              "ticks": ""
             }
            },
            "type": "scattermapbox"
           }
          ],
          "scatterpolar": [
           {
            "marker": {
             "colorbar": {
              "outlinewidth": 0,
              "ticks": ""
             }
            },
            "type": "scatterpolar"
           }
          ],
          "scatterpolargl": [
           {
            "marker": {
             "colorbar": {
              "outlinewidth": 0,
              "ticks": ""
             }
            },
            "type": "scatterpolargl"
           }
          ],
          "scatterternary": [
           {
            "marker": {
             "colorbar": {
              "outlinewidth": 0,
              "ticks": ""
             }
            },
            "type": "scatterternary"
           }
          ],
          "surface": [
           {
            "colorbar": {
             "outlinewidth": 0,
             "ticks": ""
            },
            "colorscale": [
             [
              0,
              "#0d0887"
             ],
             [
              0.1111111111111111,
              "#46039f"
             ],
             [
              0.2222222222222222,
              "#7201a8"
             ],
             [
              0.3333333333333333,
              "#9c179e"
             ],
             [
              0.4444444444444444,
              "#bd3786"
             ],
             [
              0.5555555555555556,
              "#d8576b"
             ],
             [
              0.6666666666666666,
              "#ed7953"
             ],
             [
              0.7777777777777778,
              "#fb9f3a"
             ],
             [
              0.8888888888888888,
              "#fdca26"
             ],
             [
              1,
              "#f0f921"
             ]
            ],
            "type": "surface"
           }
          ],
          "table": [
           {
            "cells": {
             "fill": {
              "color": "#EBF0F8"
             },
             "line": {
              "color": "white"
             }
            },
            "header": {
             "fill": {
              "color": "#C8D4E3"
             },
             "line": {
              "color": "white"
             }
            },
            "type": "table"
           }
          ]
         },
         "layout": {
          "annotationdefaults": {
           "arrowcolor": "#2a3f5f",
           "arrowhead": 0,
           "arrowwidth": 1
          },
          "autotypenumbers": "strict",
          "coloraxis": {
           "colorbar": {
            "outlinewidth": 0,
            "ticks": ""
           }
          },
          "colorscale": {
           "diverging": [
            [
             0,
             "#8e0152"
            ],
            [
             0.1,
             "#c51b7d"
            ],
            [
             0.2,
             "#de77ae"
            ],
            [
             0.3,
             "#f1b6da"
            ],
            [
             0.4,
             "#fde0ef"
            ],
            [
             0.5,
             "#f7f7f7"
            ],
            [
             0.6,
             "#e6f5d0"
            ],
            [
             0.7,
             "#b8e186"
            ],
            [
             0.8,
             "#7fbc41"
            ],
            [
             0.9,
             "#4d9221"
            ],
            [
             1,
             "#276419"
            ]
           ],
           "sequential": [
            [
             0,
             "#0d0887"
            ],
            [
             0.1111111111111111,
             "#46039f"
            ],
            [
             0.2222222222222222,
             "#7201a8"
            ],
            [
             0.3333333333333333,
             "#9c179e"
            ],
            [
             0.4444444444444444,
             "#bd3786"
            ],
            [
             0.5555555555555556,
             "#d8576b"
            ],
            [
             0.6666666666666666,
             "#ed7953"
            ],
            [
             0.7777777777777778,
             "#fb9f3a"
            ],
            [
             0.8888888888888888,
             "#fdca26"
            ],
            [
             1,
             "#f0f921"
            ]
           ],
           "sequentialminus": [
            [
             0,
             "#0d0887"
            ],
            [
             0.1111111111111111,
             "#46039f"
            ],
            [
             0.2222222222222222,
             "#7201a8"
            ],
            [
             0.3333333333333333,
             "#9c179e"
            ],
            [
             0.4444444444444444,
             "#bd3786"
            ],
            [
             0.5555555555555556,
             "#d8576b"
            ],
            [
             0.6666666666666666,
             "#ed7953"
            ],
            [
             0.7777777777777778,
             "#fb9f3a"
            ],
            [
             0.8888888888888888,
             "#fdca26"
            ],
            [
             1,
             "#f0f921"
            ]
           ]
          },
          "colorway": [
           "#636efa",
           "#EF553B",
           "#00cc96",
           "#ab63fa",
           "#FFA15A",
           "#19d3f3",
           "#FF6692",
           "#B6E880",
           "#FF97FF",
           "#FECB52"
          ],
          "font": {
           "color": "#2a3f5f"
          },
          "geo": {
           "bgcolor": "white",
           "lakecolor": "white",
           "landcolor": "#E5ECF6",
           "showlakes": true,
           "showland": true,
           "subunitcolor": "white"
          },
          "hoverlabel": {
           "align": "left"
          },
          "hovermode": "closest",
          "mapbox": {
           "style": "light"
          },
          "paper_bgcolor": "white",
          "plot_bgcolor": "#E5ECF6",
          "polar": {
           "angularaxis": {
            "gridcolor": "white",
            "linecolor": "white",
            "ticks": ""
           },
           "bgcolor": "#E5ECF6",
           "radialaxis": {
            "gridcolor": "white",
            "linecolor": "white",
            "ticks": ""
           }
          },
          "scene": {
           "xaxis": {
            "backgroundcolor": "#E5ECF6",
            "gridcolor": "white",
            "gridwidth": 2,
            "linecolor": "white",
            "showbackground": true,
            "ticks": "",
            "zerolinecolor": "white"
           },
           "yaxis": {
            "backgroundcolor": "#E5ECF6",
            "gridcolor": "white",
            "gridwidth": 2,
            "linecolor": "white",
            "showbackground": true,
            "ticks": "",
            "zerolinecolor": "white"
           },
           "zaxis": {
            "backgroundcolor": "#E5ECF6",
            "gridcolor": "white",
            "gridwidth": 2,
            "linecolor": "white",
            "showbackground": true,
            "ticks": "",
            "zerolinecolor": "white"
           }
          },
          "shapedefaults": {
           "line": {
            "color": "#2a3f5f"
           }
          },
          "ternary": {
           "aaxis": {
            "gridcolor": "white",
            "linecolor": "white",
            "ticks": ""
           },
           "baxis": {
            "gridcolor": "white",
            "linecolor": "white",
            "ticks": ""
           },
           "bgcolor": "#E5ECF6",
           "caxis": {
            "gridcolor": "white",
            "linecolor": "white",
            "ticks": ""
           }
          },
          "title": {
           "x": 0.05
          },
          "xaxis": {
           "automargin": true,
           "gridcolor": "white",
           "linecolor": "white",
           "ticks": "",
           "title": {
            "standoff": 15
           },
           "zerolinecolor": "white",
           "zerolinewidth": 2
          },
          "yaxis": {
           "automargin": true,
           "gridcolor": "white",
           "linecolor": "white",
           "ticks": "",
           "title": {
            "standoff": 15
           },
           "zerolinecolor": "white",
           "zerolinewidth": 2
          }
         }
        },
        "title": {
         "text": "Top 20 hotels for the top 5 destinations",
         "x": 0.5
        },
        "width": 1000
       }
      }
     },
     "metadata": {},
     "output_type": "display_data"
    }
   ],
   "source": [
    "# Display top 20 hotels for the top 5 destinations\n",
    "fig = px.scatter_mapbox(top_20_hotels,\n",
    "                        title = 'Top 20 hotels for the top 5 destinations',\n",
    "                        lat = 'lat',\n",
    "                        lon = 'lon',\n",
    "                        color = 'score',\n",
    "                        size = 'score',\n",
    "                        color_continuous_scale = px.colors.diverging.Tropic,\n",
    "                        size_max = 20,\n",
    "                        )\n",
    "fig.update_layout(width = 1000,\n",
    "                  height = 800,\n",
    "                  title_x = 0.5, \n",
    "                  mapbox = {\"style\": \"carto-darkmatter\", \"center\": {\"lon\": 2.6, \"lat\" : 43.5}, \"zoom\": 7},\n",
    "                  margin = {\"l\": 0, \"r\": 0, \"b\": 0, \"t\": 80},\n",
    "                  )\n",
    "fig.show()"
   ]
  }
 ],
 "metadata": {
  "kernelspec": {
   "display_name": "Python 3.9.12 ('base')",
   "language": "python",
   "name": "python3"
  },
  "language_info": {
   "codemirror_mode": {
    "name": "ipython",
    "version": 3
   },
   "file_extension": ".py",
   "mimetype": "text/x-python",
   "name": "python",
   "nbconvert_exporter": "python",
   "pygments_lexer": "ipython3",
   "version": "3.9.12"
  },
  "vscode": {
   "interpreter": {
    "hash": "40d3a090f54c6569ab1632332b64b2c03c39dcf918b08424e98f38b5ae0af88f"
   }
  }
 },
 "nbformat": 4,
 "nbformat_minor": 5
}
