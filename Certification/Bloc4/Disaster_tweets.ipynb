{
 "cells": [
  {
   "cell_type": "code",
   "execution_count": 87,
   "metadata": {},
   "outputs": [
    {
     "name": "stdout",
     "output_type": "stream",
     "text": [
      "/opt/anaconda3/lib/python3.9/site-packages/scipy/__init__.py:146: UserWarning: A NumPy version >=1.16.5 and <1.23.0 is required for this version of SciPy (detected version 1.23.1\n",
      "  warnings.warn(f\"A NumPy version >={np_minversion} and <{np_maxversion}\"\n",
      "Collecting en-core-web-sm==3.4.0\n",
      "  Downloading https://github.com/explosion/spacy-models/releases/download/en_core_web_sm-3.4.0/en_core_web_sm-3.4.0-py3-none-any.whl (12.8 MB)\n",
      "\u001b[K     |████████████████████████████████| 12.8 MB 116 kB/s eta 0:00:01    |██████████▋                     | 4.3 MB 1.0 MB/s eta 0:00:09\n",
      "\u001b[?25hRequirement already satisfied: spacy<3.5.0,>=3.4.0 in /opt/anaconda3/lib/python3.9/site-packages (from en-core-web-sm==3.4.0) (3.4.1)\n",
      "Requirement already satisfied: thinc<8.2.0,>=8.1.0 in /opt/anaconda3/lib/python3.9/site-packages (from spacy<3.5.0,>=3.4.0->en-core-web-sm==3.4.0) (8.1.0)\n",
      "Requirement already satisfied: spacy-loggers<2.0.0,>=1.0.0 in /opt/anaconda3/lib/python3.9/site-packages (from spacy<3.5.0,>=3.4.0->en-core-web-sm==3.4.0) (1.0.3)\n",
      "Requirement already satisfied: wasabi<1.1.0,>=0.9.1 in /opt/anaconda3/lib/python3.9/site-packages (from spacy<3.5.0,>=3.4.0->en-core-web-sm==3.4.0) (0.10.1)\n",
      "Requirement already satisfied: srsly<3.0.0,>=2.4.3 in /opt/anaconda3/lib/python3.9/site-packages (from spacy<3.5.0,>=3.4.0->en-core-web-sm==3.4.0) (2.4.4)\n",
      "Requirement already satisfied: cymem<2.1.0,>=2.0.2 in /opt/anaconda3/lib/python3.9/site-packages (from spacy<3.5.0,>=3.4.0->en-core-web-sm==3.4.0) (2.0.6)\n",
      "Requirement already satisfied: typer<0.5.0,>=0.3.0 in /opt/anaconda3/lib/python3.9/site-packages (from spacy<3.5.0,>=3.4.0->en-core-web-sm==3.4.0) (0.4.2)\n",
      "Requirement already satisfied: murmurhash<1.1.0,>=0.28.0 in /opt/anaconda3/lib/python3.9/site-packages (from spacy<3.5.0,>=3.4.0->en-core-web-sm==3.4.0) (1.0.7)\n",
      "Requirement already satisfied: preshed<3.1.0,>=3.0.2 in /opt/anaconda3/lib/python3.9/site-packages (from spacy<3.5.0,>=3.4.0->en-core-web-sm==3.4.0) (3.0.6)\n",
      "Requirement already satisfied: catalogue<2.1.0,>=2.0.6 in /opt/anaconda3/lib/python3.9/site-packages (from spacy<3.5.0,>=3.4.0->en-core-web-sm==3.4.0) (2.0.8)\n",
      "Requirement already satisfied: setuptools in /opt/anaconda3/lib/python3.9/site-packages (from spacy<3.5.0,>=3.4.0->en-core-web-sm==3.4.0) (61.2.0)\n",
      "Requirement already satisfied: spacy-legacy<3.1.0,>=3.0.9 in /opt/anaconda3/lib/python3.9/site-packages (from spacy<3.5.0,>=3.4.0->en-core-web-sm==3.4.0) (3.0.9)\n",
      "Requirement already satisfied: pydantic!=1.8,!=1.8.1,<1.10.0,>=1.7.4 in /opt/anaconda3/lib/python3.9/site-packages (from spacy<3.5.0,>=3.4.0->en-core-web-sm==3.4.0) (1.9.1)\n",
      "Requirement already satisfied: tqdm<5.0.0,>=4.38.0 in /opt/anaconda3/lib/python3.9/site-packages (from spacy<3.5.0,>=3.4.0->en-core-web-sm==3.4.0) (4.64.0)\n",
      "Requirement already satisfied: pathy>=0.3.5 in /opt/anaconda3/lib/python3.9/site-packages (from spacy<3.5.0,>=3.4.0->en-core-web-sm==3.4.0) (0.6.2)\n",
      "Requirement already satisfied: packaging>=20.0 in /opt/anaconda3/lib/python3.9/site-packages (from spacy<3.5.0,>=3.4.0->en-core-web-sm==3.4.0) (21.3)\n",
      "Requirement already satisfied: jinja2 in /opt/anaconda3/lib/python3.9/site-packages (from spacy<3.5.0,>=3.4.0->en-core-web-sm==3.4.0) (2.11.3)\n",
      "Requirement already satisfied: numpy>=1.15.0 in /opt/anaconda3/lib/python3.9/site-packages (from spacy<3.5.0,>=3.4.0->en-core-web-sm==3.4.0) (1.23.1)\n",
      "Requirement already satisfied: requests<3.0.0,>=2.13.0 in /opt/anaconda3/lib/python3.9/site-packages (from spacy<3.5.0,>=3.4.0->en-core-web-sm==3.4.0) (2.27.1)\n",
      "Requirement already satisfied: langcodes<4.0.0,>=3.2.0 in /opt/anaconda3/lib/python3.9/site-packages (from spacy<3.5.0,>=3.4.0->en-core-web-sm==3.4.0) (3.3.0)\n",
      "Requirement already satisfied: pyparsing!=3.0.5,>=2.0.2 in /opt/anaconda3/lib/python3.9/site-packages (from packaging>=20.0->spacy<3.5.0,>=3.4.0->en-core-web-sm==3.4.0) (3.0.4)\n",
      "Requirement already satisfied: smart-open<6.0.0,>=5.2.1 in /opt/anaconda3/lib/python3.9/site-packages (from pathy>=0.3.5->spacy<3.5.0,>=3.4.0->en-core-web-sm==3.4.0) (5.2.1)\n",
      "Requirement already satisfied: typing-extensions>=3.7.4.3 in /opt/anaconda3/lib/python3.9/site-packages (from pydantic!=1.8,!=1.8.1,<1.10.0,>=1.7.4->spacy<3.5.0,>=3.4.0->en-core-web-sm==3.4.0) (4.1.1)\n",
      "Requirement already satisfied: idna<4,>=2.5 in /opt/anaconda3/lib/python3.9/site-packages (from requests<3.0.0,>=2.13.0->spacy<3.5.0,>=3.4.0->en-core-web-sm==3.4.0) (3.3)\n",
      "Requirement already satisfied: charset-normalizer~=2.0.0 in /opt/anaconda3/lib/python3.9/site-packages (from requests<3.0.0,>=2.13.0->spacy<3.5.0,>=3.4.0->en-core-web-sm==3.4.0) (2.0.4)\n",
      "Requirement already satisfied: certifi>=2017.4.17 in /opt/anaconda3/lib/python3.9/site-packages (from requests<3.0.0,>=2.13.0->spacy<3.5.0,>=3.4.0->en-core-web-sm==3.4.0) (2021.10.8)\n",
      "Requirement already satisfied: urllib3<1.27,>=1.21.1 in /opt/anaconda3/lib/python3.9/site-packages (from requests<3.0.0,>=2.13.0->spacy<3.5.0,>=3.4.0->en-core-web-sm==3.4.0) (1.26.9)\n",
      "Requirement already satisfied: blis<0.8.0,>=0.7.8 in /opt/anaconda3/lib/python3.9/site-packages (from thinc<8.2.0,>=8.1.0->spacy<3.5.0,>=3.4.0->en-core-web-sm==3.4.0) (0.7.8)\n",
      "Requirement already satisfied: click<9.0.0,>=7.1.1 in /opt/anaconda3/lib/python3.9/site-packages (from typer<0.5.0,>=0.3.0->spacy<3.5.0,>=3.4.0->en-core-web-sm==3.4.0) (8.0.4)\n",
      "Requirement already satisfied: MarkupSafe>=0.23 in /opt/anaconda3/lib/python3.9/site-packages (from jinja2->spacy<3.5.0,>=3.4.0->en-core-web-sm==3.4.0) (2.0.1)\n",
      "\u001b[38;5;2m✔ Download and installation successful\u001b[0m\n",
      "You can now load the package via spacy.load('en_core_web_sm')\n"
     ]
    }
   ],
   "source": [
    "# Libraries import\n",
    "\n",
    "!python3 -m spacy download en_core_web_sm\n",
    "\n",
    "import pandas as pd \n",
    "import numpy as np\n",
    "\n",
    "import seaborn as sns\n",
    "import plotly.express as px\n",
    "import matplotlib.pyplot as plt\n",
    "\n",
    "import spacy\n",
    "from spacy.lang.en.stop_words import STOP_WORDS\n",
    "\n",
    "import tensorflow as tf\n",
    "from tensorflow.keras.models import Sequential\n",
    "from tensorflow.keras.layers import Embedding, Dense, Dropout\n",
    "from tensorflow.keras.optimizers import Adam\n",
    "from tensorflow.keras.preprocessing.text import Tokenizer\n",
    "from tensorflow.keras.preprocessing.sequence import pad_sequences\n",
    "\n",
    "from sklearn.model_selection import train_test_split\n",
    "\n",
    "import warnings\n",
    "warnings.filterwarnings(\"ignore\")"
   ]
  },
  {
   "cell_type": "code",
   "execution_count": 62,
   "metadata": {},
   "outputs": [],
   "source": [
    "# Dataset import\n",
    "dataset = pd.read_csv(\"train.csv\")"
   ]
  },
  {
   "cell_type": "markdown",
   "metadata": {},
   "source": [
    "# BASIC EXPLORATION"
   ]
  },
  {
   "cell_type": "code",
   "execution_count": 63,
   "metadata": {},
   "outputs": [
    {
     "data": {
      "text/plain": [
       "(7613, 5)"
      ]
     },
     "execution_count": 63,
     "metadata": {},
     "output_type": "execute_result"
    }
   ],
   "source": [
    "# Getting number of rows and columns of dataset\n",
    "\n",
    "dataset.shape"
   ]
  },
  {
   "cell_type": "code",
   "execution_count": 64,
   "metadata": {},
   "outputs": [
    {
     "data": {
      "text/html": [
       "<div>\n",
       "<style scoped>\n",
       "    .dataframe tbody tr th:only-of-type {\n",
       "        vertical-align: middle;\n",
       "    }\n",
       "\n",
       "    .dataframe tbody tr th {\n",
       "        vertical-align: top;\n",
       "    }\n",
       "\n",
       "    .dataframe thead th {\n",
       "        text-align: right;\n",
       "    }\n",
       "</style>\n",
       "<table border=\"1\" class=\"dataframe\">\n",
       "  <thead>\n",
       "    <tr style=\"text-align: right;\">\n",
       "      <th></th>\n",
       "      <th>id</th>\n",
       "      <th>keyword</th>\n",
       "      <th>location</th>\n",
       "      <th>text</th>\n",
       "      <th>target</th>\n",
       "    </tr>\n",
       "  </thead>\n",
       "  <tbody>\n",
       "    <tr>\n",
       "      <th>0</th>\n",
       "      <td>1</td>\n",
       "      <td>NaN</td>\n",
       "      <td>NaN</td>\n",
       "      <td>Our Deeds are the Reason of this #earthquake M...</td>\n",
       "      <td>1</td>\n",
       "    </tr>\n",
       "    <tr>\n",
       "      <th>1</th>\n",
       "      <td>4</td>\n",
       "      <td>NaN</td>\n",
       "      <td>NaN</td>\n",
       "      <td>Forest fire near La Ronge Sask. Canada</td>\n",
       "      <td>1</td>\n",
       "    </tr>\n",
       "    <tr>\n",
       "      <th>2</th>\n",
       "      <td>5</td>\n",
       "      <td>NaN</td>\n",
       "      <td>NaN</td>\n",
       "      <td>All residents asked to 'shelter in place' are ...</td>\n",
       "      <td>1</td>\n",
       "    </tr>\n",
       "    <tr>\n",
       "      <th>3</th>\n",
       "      <td>6</td>\n",
       "      <td>NaN</td>\n",
       "      <td>NaN</td>\n",
       "      <td>13,000 people receive #wildfires evacuation or...</td>\n",
       "      <td>1</td>\n",
       "    </tr>\n",
       "    <tr>\n",
       "      <th>4</th>\n",
       "      <td>7</td>\n",
       "      <td>NaN</td>\n",
       "      <td>NaN</td>\n",
       "      <td>Just got sent this photo from Ruby #Alaska as ...</td>\n",
       "      <td>1</td>\n",
       "    </tr>\n",
       "  </tbody>\n",
       "</table>\n",
       "</div>"
      ],
      "text/plain": [
       "   id keyword location                                               text  \\\n",
       "0   1     NaN      NaN  Our Deeds are the Reason of this #earthquake M...   \n",
       "1   4     NaN      NaN             Forest fire near La Ronge Sask. Canada   \n",
       "2   5     NaN      NaN  All residents asked to 'shelter in place' are ...   \n",
       "3   6     NaN      NaN  13,000 people receive #wildfires evacuation or...   \n",
       "4   7     NaN      NaN  Just got sent this photo from Ruby #Alaska as ...   \n",
       "\n",
       "   target  \n",
       "0       1  \n",
       "1       1  \n",
       "2       1  \n",
       "3       1  \n",
       "4       1  "
      ]
     },
     "execution_count": 64,
     "metadata": {},
     "output_type": "execute_result"
    }
   ],
   "source": [
    "# Printing first 5 rows of dataset\n",
    "\n",
    "dataset.head()"
   ]
  },
  {
   "cell_type": "code",
   "execution_count": 65,
   "metadata": {},
   "outputs": [
    {
     "data": {
      "text/html": [
       "<div>\n",
       "<style scoped>\n",
       "    .dataframe tbody tr th:only-of-type {\n",
       "        vertical-align: middle;\n",
       "    }\n",
       "\n",
       "    .dataframe tbody tr th {\n",
       "        vertical-align: top;\n",
       "    }\n",
       "\n",
       "    .dataframe thead th {\n",
       "        text-align: right;\n",
       "    }\n",
       "</style>\n",
       "<table border=\"1\" class=\"dataframe\">\n",
       "  <thead>\n",
       "    <tr style=\"text-align: right;\">\n",
       "      <th></th>\n",
       "      <th>id</th>\n",
       "      <th>keyword</th>\n",
       "      <th>location</th>\n",
       "      <th>text</th>\n",
       "      <th>target</th>\n",
       "    </tr>\n",
       "  </thead>\n",
       "  <tbody>\n",
       "    <tr>\n",
       "      <th>count</th>\n",
       "      <td>7613.000000</td>\n",
       "      <td>7552</td>\n",
       "      <td>5080</td>\n",
       "      <td>7613</td>\n",
       "      <td>7613.00000</td>\n",
       "    </tr>\n",
       "    <tr>\n",
       "      <th>unique</th>\n",
       "      <td>NaN</td>\n",
       "      <td>221</td>\n",
       "      <td>3341</td>\n",
       "      <td>7503</td>\n",
       "      <td>NaN</td>\n",
       "    </tr>\n",
       "    <tr>\n",
       "      <th>top</th>\n",
       "      <td>NaN</td>\n",
       "      <td>fatalities</td>\n",
       "      <td>USA</td>\n",
       "      <td>11-Year-Old Boy Charged With Manslaughter of T...</td>\n",
       "      <td>NaN</td>\n",
       "    </tr>\n",
       "    <tr>\n",
       "      <th>freq</th>\n",
       "      <td>NaN</td>\n",
       "      <td>45</td>\n",
       "      <td>104</td>\n",
       "      <td>10</td>\n",
       "      <td>NaN</td>\n",
       "    </tr>\n",
       "    <tr>\n",
       "      <th>mean</th>\n",
       "      <td>5441.934848</td>\n",
       "      <td>NaN</td>\n",
       "      <td>NaN</td>\n",
       "      <td>NaN</td>\n",
       "      <td>0.42966</td>\n",
       "    </tr>\n",
       "    <tr>\n",
       "      <th>std</th>\n",
       "      <td>3137.116090</td>\n",
       "      <td>NaN</td>\n",
       "      <td>NaN</td>\n",
       "      <td>NaN</td>\n",
       "      <td>0.49506</td>\n",
       "    </tr>\n",
       "    <tr>\n",
       "      <th>min</th>\n",
       "      <td>1.000000</td>\n",
       "      <td>NaN</td>\n",
       "      <td>NaN</td>\n",
       "      <td>NaN</td>\n",
       "      <td>0.00000</td>\n",
       "    </tr>\n",
       "    <tr>\n",
       "      <th>25%</th>\n",
       "      <td>2734.000000</td>\n",
       "      <td>NaN</td>\n",
       "      <td>NaN</td>\n",
       "      <td>NaN</td>\n",
       "      <td>0.00000</td>\n",
       "    </tr>\n",
       "    <tr>\n",
       "      <th>50%</th>\n",
       "      <td>5408.000000</td>\n",
       "      <td>NaN</td>\n",
       "      <td>NaN</td>\n",
       "      <td>NaN</td>\n",
       "      <td>0.00000</td>\n",
       "    </tr>\n",
       "    <tr>\n",
       "      <th>75%</th>\n",
       "      <td>8146.000000</td>\n",
       "      <td>NaN</td>\n",
       "      <td>NaN</td>\n",
       "      <td>NaN</td>\n",
       "      <td>1.00000</td>\n",
       "    </tr>\n",
       "    <tr>\n",
       "      <th>max</th>\n",
       "      <td>10873.000000</td>\n",
       "      <td>NaN</td>\n",
       "      <td>NaN</td>\n",
       "      <td>NaN</td>\n",
       "      <td>1.00000</td>\n",
       "    </tr>\n",
       "  </tbody>\n",
       "</table>\n",
       "</div>"
      ],
      "text/plain": [
       "                  id     keyword location  \\\n",
       "count    7613.000000        7552     5080   \n",
       "unique           NaN         221     3341   \n",
       "top              NaN  fatalities      USA   \n",
       "freq             NaN          45      104   \n",
       "mean     5441.934848         NaN      NaN   \n",
       "std      3137.116090         NaN      NaN   \n",
       "min         1.000000         NaN      NaN   \n",
       "25%      2734.000000         NaN      NaN   \n",
       "50%      5408.000000         NaN      NaN   \n",
       "75%      8146.000000         NaN      NaN   \n",
       "max     10873.000000         NaN      NaN   \n",
       "\n",
       "                                                     text      target  \n",
       "count                                                7613  7613.00000  \n",
       "unique                                               7503         NaN  \n",
       "top     11-Year-Old Boy Charged With Manslaughter of T...         NaN  \n",
       "freq                                                   10         NaN  \n",
       "mean                                                  NaN     0.42966  \n",
       "std                                                   NaN     0.49506  \n",
       "min                                                   NaN     0.00000  \n",
       "25%                                                   NaN     0.00000  \n",
       "50%                                                   NaN     0.00000  \n",
       "75%                                                   NaN     1.00000  \n",
       "max                                                   NaN     1.00000  "
      ]
     },
     "execution_count": 65,
     "metadata": {},
     "output_type": "execute_result"
    }
   ],
   "source": [
    "# Getting all statistics of dataset\n",
    "\n",
    "dataset.describe(include='all')"
   ]
  },
  {
   "cell_type": "code",
   "execution_count": 66,
   "metadata": {},
   "outputs": [
    {
     "name": "stdout",
     "output_type": "stream",
     "text": [
      "<class 'pandas.core.frame.DataFrame'>\n",
      "RangeIndex: 7613 entries, 0 to 7612\n",
      "Data columns (total 5 columns):\n",
      " #   Column    Non-Null Count  Dtype \n",
      "---  ------    --------------  ----- \n",
      " 0   id        7613 non-null   int64 \n",
      " 1   keyword   7552 non-null   object\n",
      " 2   location  5080 non-null   object\n",
      " 3   text      7613 non-null   object\n",
      " 4   target    7613 non-null   int64 \n",
      "dtypes: int64(2), object(3)\n",
      "memory usage: 297.5+ KB\n"
     ]
    }
   ],
   "source": [
    "# Printing more info about dataset\n",
    "\n",
    "dataset.info()"
   ]
  },
  {
   "cell_type": "markdown",
   "metadata": {},
   "source": [
    "# EDA"
   ]
  },
  {
   "cell_type": "code",
   "execution_count": 67,
   "metadata": {},
   "outputs": [
    {
     "data": {
      "application/vnd.plotly.v1+json": {
       "config": {
        "plotlyServerURL": "https://plot.ly"
       },
       "data": [
        {
         "alignmentgroup": "True",
         "hovertemplate": "Target=%{x}<br>Count=%{y}<extra></extra>",
         "legendgroup": "",
         "marker": {
          "color": "#636efa",
          "pattern": {
           "shape": ""
          }
         },
         "name": "",
         "offsetgroup": "",
         "orientation": "v",
         "showlegend": false,
         "textposition": "auto",
         "type": "bar",
         "x": [
          0,
          1
         ],
         "xaxis": "x",
         "y": [
          4342,
          3271
         ],
         "yaxis": "y"
        }
       ],
       "layout": {
        "barmode": "relative",
        "legend": {
         "tracegroupgap": 0
        },
        "template": {
         "data": {
          "bar": [
           {
            "error_x": {
             "color": "#2a3f5f"
            },
            "error_y": {
             "color": "#2a3f5f"
            },
            "marker": {
             "line": {
              "color": "#E5ECF6",
              "width": 0.5
             },
             "pattern": {
              "fillmode": "overlay",
              "size": 10,
              "solidity": 0.2
             }
            },
            "type": "bar"
           }
          ],
          "barpolar": [
           {
            "marker": {
             "line": {
              "color": "#E5ECF6",
              "width": 0.5
             },
             "pattern": {
              "fillmode": "overlay",
              "size": 10,
              "solidity": 0.2
             }
            },
            "type": "barpolar"
           }
          ],
          "carpet": [
           {
            "aaxis": {
             "endlinecolor": "#2a3f5f",
             "gridcolor": "white",
             "linecolor": "white",
             "minorgridcolor": "white",
             "startlinecolor": "#2a3f5f"
            },
            "baxis": {
             "endlinecolor": "#2a3f5f",
             "gridcolor": "white",
             "linecolor": "white",
             "minorgridcolor": "white",
             "startlinecolor": "#2a3f5f"
            },
            "type": "carpet"
           }
          ],
          "choropleth": [
           {
            "colorbar": {
             "outlinewidth": 0,
             "ticks": ""
            },
            "type": "choropleth"
           }
          ],
          "contour": [
           {
            "colorbar": {
             "outlinewidth": 0,
             "ticks": ""
            },
            "colorscale": [
             [
              0,
              "#0d0887"
             ],
             [
              0.1111111111111111,
              "#46039f"
             ],
             [
              0.2222222222222222,
              "#7201a8"
             ],
             [
              0.3333333333333333,
              "#9c179e"
             ],
             [
              0.4444444444444444,
              "#bd3786"
             ],
             [
              0.5555555555555556,
              "#d8576b"
             ],
             [
              0.6666666666666666,
              "#ed7953"
             ],
             [
              0.7777777777777778,
              "#fb9f3a"
             ],
             [
              0.8888888888888888,
              "#fdca26"
             ],
             [
              1,
              "#f0f921"
             ]
            ],
            "type": "contour"
           }
          ],
          "contourcarpet": [
           {
            "colorbar": {
             "outlinewidth": 0,
             "ticks": ""
            },
            "type": "contourcarpet"
           }
          ],
          "heatmap": [
           {
            "colorbar": {
             "outlinewidth": 0,
             "ticks": ""
            },
            "colorscale": [
             [
              0,
              "#0d0887"
             ],
             [
              0.1111111111111111,
              "#46039f"
             ],
             [
              0.2222222222222222,
              "#7201a8"
             ],
             [
              0.3333333333333333,
              "#9c179e"
             ],
             [
              0.4444444444444444,
              "#bd3786"
             ],
             [
              0.5555555555555556,
              "#d8576b"
             ],
             [
              0.6666666666666666,
              "#ed7953"
             ],
             [
              0.7777777777777778,
              "#fb9f3a"
             ],
             [
              0.8888888888888888,
              "#fdca26"
             ],
             [
              1,
              "#f0f921"
             ]
            ],
            "type": "heatmap"
           }
          ],
          "heatmapgl": [
           {
            "colorbar": {
             "outlinewidth": 0,
             "ticks": ""
            },
            "colorscale": [
             [
              0,
              "#0d0887"
             ],
             [
              0.1111111111111111,
              "#46039f"
             ],
             [
              0.2222222222222222,
              "#7201a8"
             ],
             [
              0.3333333333333333,
              "#9c179e"
             ],
             [
              0.4444444444444444,
              "#bd3786"
             ],
             [
              0.5555555555555556,
              "#d8576b"
             ],
             [
              0.6666666666666666,
              "#ed7953"
             ],
             [
              0.7777777777777778,
              "#fb9f3a"
             ],
             [
              0.8888888888888888,
              "#fdca26"
             ],
             [
              1,
              "#f0f921"
             ]
            ],
            "type": "heatmapgl"
           }
          ],
          "histogram": [
           {
            "marker": {
             "pattern": {
              "fillmode": "overlay",
              "size": 10,
              "solidity": 0.2
             }
            },
            "type": "histogram"
           }
          ],
          "histogram2d": [
           {
            "colorbar": {
             "outlinewidth": 0,
             "ticks": ""
            },
            "colorscale": [
             [
              0,
              "#0d0887"
             ],
             [
              0.1111111111111111,
              "#46039f"
             ],
             [
              0.2222222222222222,
              "#7201a8"
             ],
             [
              0.3333333333333333,
              "#9c179e"
             ],
             [
              0.4444444444444444,
              "#bd3786"
             ],
             [
              0.5555555555555556,
              "#d8576b"
             ],
             [
              0.6666666666666666,
              "#ed7953"
             ],
             [
              0.7777777777777778,
              "#fb9f3a"
             ],
             [
              0.8888888888888888,
              "#fdca26"
             ],
             [
              1,
              "#f0f921"
             ]
            ],
            "type": "histogram2d"
           }
          ],
          "histogram2dcontour": [
           {
            "colorbar": {
             "outlinewidth": 0,
             "ticks": ""
            },
            "colorscale": [
             [
              0,
              "#0d0887"
             ],
             [
              0.1111111111111111,
              "#46039f"
             ],
             [
              0.2222222222222222,
              "#7201a8"
             ],
             [
              0.3333333333333333,
              "#9c179e"
             ],
             [
              0.4444444444444444,
              "#bd3786"
             ],
             [
              0.5555555555555556,
              "#d8576b"
             ],
             [
              0.6666666666666666,
              "#ed7953"
             ],
             [
              0.7777777777777778,
              "#fb9f3a"
             ],
             [
              0.8888888888888888,
              "#fdca26"
             ],
             [
              1,
              "#f0f921"
             ]
            ],
            "type": "histogram2dcontour"
           }
          ],
          "mesh3d": [
           {
            "colorbar": {
             "outlinewidth": 0,
             "ticks": ""
            },
            "type": "mesh3d"
           }
          ],
          "parcoords": [
           {
            "line": {
             "colorbar": {
              "outlinewidth": 0,
              "ticks": ""
             }
            },
            "type": "parcoords"
           }
          ],
          "pie": [
           {
            "automargin": true,
            "type": "pie"
           }
          ],
          "scatter": [
           {
            "marker": {
             "colorbar": {
              "outlinewidth": 0,
              "ticks": ""
             }
            },
            "type": "scatter"
           }
          ],
          "scatter3d": [
           {
            "line": {
             "colorbar": {
              "outlinewidth": 0,
              "ticks": ""
             }
            },
            "marker": {
             "colorbar": {
              "outlinewidth": 0,
              "ticks": ""
             }
            },
            "type": "scatter3d"
           }
          ],
          "scattercarpet": [
           {
            "marker": {
             "colorbar": {
              "outlinewidth": 0,
              "ticks": ""
             }
            },
            "type": "scattercarpet"
           }
          ],
          "scattergeo": [
           {
            "marker": {
             "colorbar": {
              "outlinewidth": 0,
              "ticks": ""
             }
            },
            "type": "scattergeo"
           }
          ],
          "scattergl": [
           {
            "marker": {
             "colorbar": {
              "outlinewidth": 0,
              "ticks": ""
             }
            },
            "type": "scattergl"
           }
          ],
          "scattermapbox": [
           {
            "marker": {
             "colorbar": {
              "outlinewidth": 0,
              "ticks": ""
             }
            },
            "type": "scattermapbox"
           }
          ],
          "scatterpolar": [
           {
            "marker": {
             "colorbar": {
              "outlinewidth": 0,
              "ticks": ""
             }
            },
            "type": "scatterpolar"
           }
          ],
          "scatterpolargl": [
           {
            "marker": {
             "colorbar": {
              "outlinewidth": 0,
              "ticks": ""
             }
            },
            "type": "scatterpolargl"
           }
          ],
          "scatterternary": [
           {
            "marker": {
             "colorbar": {
              "outlinewidth": 0,
              "ticks": ""
             }
            },
            "type": "scatterternary"
           }
          ],
          "surface": [
           {
            "colorbar": {
             "outlinewidth": 0,
             "ticks": ""
            },
            "colorscale": [
             [
              0,
              "#0d0887"
             ],
             [
              0.1111111111111111,
              "#46039f"
             ],
             [
              0.2222222222222222,
              "#7201a8"
             ],
             [
              0.3333333333333333,
              "#9c179e"
             ],
             [
              0.4444444444444444,
              "#bd3786"
             ],
             [
              0.5555555555555556,
              "#d8576b"
             ],
             [
              0.6666666666666666,
              "#ed7953"
             ],
             [
              0.7777777777777778,
              "#fb9f3a"
             ],
             [
              0.8888888888888888,
              "#fdca26"
             ],
             [
              1,
              "#f0f921"
             ]
            ],
            "type": "surface"
           }
          ],
          "table": [
           {
            "cells": {
             "fill": {
              "color": "#EBF0F8"
             },
             "line": {
              "color": "white"
             }
            },
            "header": {
             "fill": {
              "color": "#C8D4E3"
             },
             "line": {
              "color": "white"
             }
            },
            "type": "table"
           }
          ]
         },
         "layout": {
          "annotationdefaults": {
           "arrowcolor": "#2a3f5f",
           "arrowhead": 0,
           "arrowwidth": 1
          },
          "autotypenumbers": "strict",
          "coloraxis": {
           "colorbar": {
            "outlinewidth": 0,
            "ticks": ""
           }
          },
          "colorscale": {
           "diverging": [
            [
             0,
             "#8e0152"
            ],
            [
             0.1,
             "#c51b7d"
            ],
            [
             0.2,
             "#de77ae"
            ],
            [
             0.3,
             "#f1b6da"
            ],
            [
             0.4,
             "#fde0ef"
            ],
            [
             0.5,
             "#f7f7f7"
            ],
            [
             0.6,
             "#e6f5d0"
            ],
            [
             0.7,
             "#b8e186"
            ],
            [
             0.8,
             "#7fbc41"
            ],
            [
             0.9,
             "#4d9221"
            ],
            [
             1,
             "#276419"
            ]
           ],
           "sequential": [
            [
             0,
             "#0d0887"
            ],
            [
             0.1111111111111111,
             "#46039f"
            ],
            [
             0.2222222222222222,
             "#7201a8"
            ],
            [
             0.3333333333333333,
             "#9c179e"
            ],
            [
             0.4444444444444444,
             "#bd3786"
            ],
            [
             0.5555555555555556,
             "#d8576b"
            ],
            [
             0.6666666666666666,
             "#ed7953"
            ],
            [
             0.7777777777777778,
             "#fb9f3a"
            ],
            [
             0.8888888888888888,
             "#fdca26"
            ],
            [
             1,
             "#f0f921"
            ]
           ],
           "sequentialminus": [
            [
             0,
             "#0d0887"
            ],
            [
             0.1111111111111111,
             "#46039f"
            ],
            [
             0.2222222222222222,
             "#7201a8"
            ],
            [
             0.3333333333333333,
             "#9c179e"
            ],
            [
             0.4444444444444444,
             "#bd3786"
            ],
            [
             0.5555555555555556,
             "#d8576b"
            ],
            [
             0.6666666666666666,
             "#ed7953"
            ],
            [
             0.7777777777777778,
             "#fb9f3a"
            ],
            [
             0.8888888888888888,
             "#fdca26"
            ],
            [
             1,
             "#f0f921"
            ]
           ]
          },
          "colorway": [
           "#636efa",
           "#EF553B",
           "#00cc96",
           "#ab63fa",
           "#FFA15A",
           "#19d3f3",
           "#FF6692",
           "#B6E880",
           "#FF97FF",
           "#FECB52"
          ],
          "font": {
           "color": "#2a3f5f"
          },
          "geo": {
           "bgcolor": "white",
           "lakecolor": "white",
           "landcolor": "#E5ECF6",
           "showlakes": true,
           "showland": true,
           "subunitcolor": "white"
          },
          "hoverlabel": {
           "align": "left"
          },
          "hovermode": "closest",
          "mapbox": {
           "style": "light"
          },
          "paper_bgcolor": "white",
          "plot_bgcolor": "#E5ECF6",
          "polar": {
           "angularaxis": {
            "gridcolor": "white",
            "linecolor": "white",
            "ticks": ""
           },
           "bgcolor": "#E5ECF6",
           "radialaxis": {
            "gridcolor": "white",
            "linecolor": "white",
            "ticks": ""
           }
          },
          "scene": {
           "xaxis": {
            "backgroundcolor": "#E5ECF6",
            "gridcolor": "white",
            "gridwidth": 2,
            "linecolor": "white",
            "showbackground": true,
            "ticks": "",
            "zerolinecolor": "white"
           },
           "yaxis": {
            "backgroundcolor": "#E5ECF6",
            "gridcolor": "white",
            "gridwidth": 2,
            "linecolor": "white",
            "showbackground": true,
            "ticks": "",
            "zerolinecolor": "white"
           },
           "zaxis": {
            "backgroundcolor": "#E5ECF6",
            "gridcolor": "white",
            "gridwidth": 2,
            "linecolor": "white",
            "showbackground": true,
            "ticks": "",
            "zerolinecolor": "white"
           }
          },
          "shapedefaults": {
           "line": {
            "color": "#2a3f5f"
           }
          },
          "ternary": {
           "aaxis": {
            "gridcolor": "white",
            "linecolor": "white",
            "ticks": ""
           },
           "baxis": {
            "gridcolor": "white",
            "linecolor": "white",
            "ticks": ""
           },
           "bgcolor": "#E5ECF6",
           "caxis": {
            "gridcolor": "white",
            "linecolor": "white",
            "ticks": ""
           }
          },
          "title": {
           "x": 0.05
          },
          "xaxis": {
           "automargin": true,
           "gridcolor": "white",
           "linecolor": "white",
           "ticks": "",
           "title": {
            "standoff": 15
           },
           "zerolinecolor": "white",
           "zerolinewidth": 2
          },
          "yaxis": {
           "automargin": true,
           "gridcolor": "white",
           "linecolor": "white",
           "ticks": "",
           "title": {
            "standoff": 15
           },
           "zerolinecolor": "white",
           "zerolinewidth": 2
          }
         }
        },
        "title": {
         "text": "Count of tweets describing a real disaster (1) or not (0)"
        },
        "xaxis": {
         "anchor": "y",
         "domain": [
          0,
          1
         ],
         "title": {
          "text": "Target"
         }
        },
        "yaxis": {
         "anchor": "x",
         "domain": [
          0,
          1
         ],
         "title": {
          "text": "Count"
         }
        }
       }
      }
     },
     "metadata": {},
     "output_type": "display_data"
    }
   ],
   "source": [
    "count = dataset['target'].value_counts()\n",
    "\n",
    "fig = px.bar(count,\n",
    "             y='target',\n",
    "             labels={\n",
    "                     \"target\": \"Count\",\n",
    "                     \"index\": \"Target\"\n",
    "                 },\n",
    "             title=\"Count of tweets describing a real disaster (1) or not (0)\")\n",
    "\n",
    "fig.show()"
   ]
  },
  {
   "cell_type": "markdown",
   "metadata": {},
   "source": [
    "We can see clearly that there is more tweets about not a real disaster that about a real one."
   ]
  },
  {
   "cell_type": "code",
   "execution_count": 91,
   "metadata": {},
   "outputs": [
    {
     "data": {
      "image/png": "[encoded data removed]",
      "text/plain": [
       "<Figure size 720x360 with 2 Axes>"
      ]
     },
     "metadata": {
      "needs_background": "light"
     },
     "output_type": "display_data"
    }
   ],
   "source": [
    "fig,(ax1,ax2)=plt.subplots(1,2,figsize=(10,5))\n",
    "tweet_len= dataset[dataset['target']==1]['text'].str.len()\n",
    "ax1.hist(tweet_len,color='red')\n",
    "ax1.set_title('Disaster tweets')\n",
    "tweet_len= dataset[dataset['target']==0]['text'].str.len()\n",
    "ax2.hist(tweet_len,color='green')\n",
    "ax2.set_title('Not disaster tweets')\n",
    "fig.suptitle('Number of characters in tweets')\n",
    "plt.show()"
   ]
  },
  {
   "cell_type": "markdown",
   "metadata": {},
   "source": [
    "We can see that in both cases (real disaster or not) the number of characters range is between 120 and 140 characters."
   ]
  },
  {
   "cell_type": "code",
   "execution_count": 92,
   "metadata": {},
   "outputs": [
    {
     "data": {
      "image/png": "[encoded data removed]",
      "text/plain": [
       "<Figure size 720x360 with 2 Axes>"
      ]
     },
     "metadata": {
      "needs_background": "light"
     },
     "output_type": "display_data"
    }
   ],
   "source": [
    "fig,(ax1,ax2)=plt.subplots(1,2,figsize=(10,5))\n",
    "tweet_len= dataset[dataset['target']==1]['text'].str.split().map(lambda x: len(x))\n",
    "ax1.hist(tweet_len,color='red')\n",
    "ax1.set_title('Disaster tweets')\n",
    "tweet_len= dataset[dataset['target']==0]['text'].str.split().map(lambda x: len(x))\n",
    "ax2.hist(tweet_len,color='green')\n",
    "ax2.set_title('Not disaster tweets')\n",
    "fig.suptitle('Number of words in a tweet')\n",
    "plt.show()"
   ]
  },
  {
   "cell_type": "markdown",
   "metadata": {},
   "source": [
    "We can see here a difference of homogeneity in terms of number of words in a tweet. Tweets about not real disaster are more\n",
    "homogeneous and contain more words through the range that tweet about real disaster."
   ]
  },
  {
   "cell_type": "code",
   "execution_count": 94,
   "metadata": {},
   "outputs": [
    {
     "data": {
      "text/plain": [
       "Text(0.5, 0.98, 'Average word length in each tweet')"
      ]
     },
     "execution_count": 94,
     "metadata": {},
     "output_type": "execute_result"
    },
    {
     "data": {
      "image/png": "[encoded data removed]",
      "text/plain": [
       "<Figure size 720x360 with 2 Axes>"
      ]
     },
     "metadata": {
      "needs_background": "light"
     },
     "output_type": "display_data"
    }
   ],
   "source": [
    "fig,(ax1,ax2)=plt.subplots(1,2,figsize=(10,5))\n",
    "word=dataset[dataset['target']==1]['text'].str.split().apply(lambda x : [len(i) for i in x])\n",
    "sns.distplot(word.map(lambda x: np.mean(x)),ax=ax1,color='red')\n",
    "ax1.set_title('Disaster')\n",
    "word=dataset[dataset['target']==0]['text'].str.split().apply(lambda x : [len(i) for i in x])\n",
    "sns.distplot(word.map(lambda x: np.mean(x)),ax=ax2,color='green')\n",
    "ax2.set_title('Not disaster')\n",
    "fig.suptitle('Average word length in each tweet')"
   ]
  },
  {
   "cell_type": "markdown",
   "metadata": {},
   "source": [
    "Again here we can notice a difference in homogeneity between both cases and again tweets that are not about a real disaster\n",
    "seems to be more homogeneous. However, by taking the average this trend seems to be smoothing out."
   ]
  },
  {
   "cell_type": "markdown",
   "metadata": {},
   "source": [
    "# PREPROCESSING"
   ]
  },
  {
   "cell_type": "code",
   "execution_count": 68,
   "metadata": {},
   "outputs": [],
   "source": [
    "# Import the english language model\n",
    "nlp = spacy.load(\"en_core_web_sm\")\n",
    "# Creation of a new column that contain clean tweets and deleting non int or spaces\n",
    "dataset[\"clean_tweet\"] = dataset[\"text\"].apply(lambda x:\"\".join(letter for letter in x if letter.isalnum() or letter == \" \"))\n",
    "# Lower cases all letters and delete the start and end spaces of the tweet\n",
    "dataset[\"clean_tweet\"] = dataset[\"clean_tweet\"].apply(lambda x: x.lower().strip())\n",
    "# Delete urls \n",
    "dataset[\"clean_tweet\"] = dataset['clean_tweet'].str.replace(r\"http.*\",\"\")\n",
    "# Lematization of tweets to keep only the roots \n",
    "dataset[\"clean_tweet\"] = dataset[\"clean_tweet\"].apply(lambda x: \" \".join([token.lemma_ for token in nlp(x) if (token.lemma_ not in STOP_WORDS) and (token.text not in STOP_WORDS)]))"
   ]
  },
  {
   "cell_type": "code",
   "execution_count": 69,
   "metadata": {},
   "outputs": [
    {
     "data": {
      "text/plain": [
       "                                                                                            59\n",
       "watch airport swallow sandstorm minute                                                      24\n",
       "like youtube video                                                                          23\n",
       "wreckage conclusively confirm mh370 malaysia pm investigator family                         20\n",
       "family sue legionnaire 40 family affect fatal outbreak legionnaire disea                    19\n",
       "                                                                                            ..\n",
       "fear panic air want free desolation despair                                                  1\n",
       "josephus wrong antiochus epiphane abomination desolation read                                1\n",
       "watch desolation smaug spanish hell drug                                                     1\n",
       "wow win free hobbit desolation smaug uv digital download code gin 9                          1\n",
       "suicide bomber kill 15 saudi security site mosque   reuters world   google news   wall       1\n",
       "Name: clean_tweet, Length: 6770, dtype: int64"
      ]
     },
     "execution_count": 69,
     "metadata": {},
     "output_type": "execute_result"
    }
   ],
   "source": [
    "# Verifying that the preprocessing went well\n",
    "dataset.clean_tweet.value_counts()"
   ]
  },
  {
   "cell_type": "code",
   "execution_count": 70,
   "metadata": {},
   "outputs": [
    {
     "data": {
      "text/plain": [
       "True    7613\n",
       "Name: clean_tweet, dtype: int64"
      ]
     },
     "execution_count": 70,
     "metadata": {},
     "output_type": "execute_result"
    }
   ],
   "source": [
    "# Cleaning it\n",
    "clean = dataset.clean_tweet.apply(lambda x: type(x)==str)\n",
    "# Verifying\n",
    "clean.value_counts()"
   ]
  },
  {
   "cell_type": "code",
   "execution_count": 71,
   "metadata": {},
   "outputs": [
    {
     "data": {
      "text/html": [
       "<div>\n",
       "<style scoped>\n",
       "    .dataframe tbody tr th:only-of-type {\n",
       "        vertical-align: middle;\n",
       "    }\n",
       "\n",
       "    .dataframe tbody tr th {\n",
       "        vertical-align: top;\n",
       "    }\n",
       "\n",
       "    .dataframe thead th {\n",
       "        text-align: right;\n",
       "    }\n",
       "</style>\n",
       "<table border=\"1\" class=\"dataframe\">\n",
       "  <thead>\n",
       "    <tr style=\"text-align: right;\">\n",
       "      <th></th>\n",
       "      <th>id</th>\n",
       "      <th>keyword</th>\n",
       "      <th>location</th>\n",
       "      <th>text</th>\n",
       "      <th>target</th>\n",
       "      <th>clean_tweet</th>\n",
       "    </tr>\n",
       "  </thead>\n",
       "  <tbody>\n",
       "    <tr>\n",
       "      <th>0</th>\n",
       "      <td>1</td>\n",
       "      <td>NaN</td>\n",
       "      <td>NaN</td>\n",
       "      <td>Our Deeds are the Reason of this #earthquake M...</td>\n",
       "      <td>1</td>\n",
       "      <td>deed reason earthquake allah forgive</td>\n",
       "    </tr>\n",
       "    <tr>\n",
       "      <th>1</th>\n",
       "      <td>4</td>\n",
       "      <td>NaN</td>\n",
       "      <td>NaN</td>\n",
       "      <td>Forest fire near La Ronge Sask. Canada</td>\n",
       "      <td>1</td>\n",
       "      <td>forest fire near la ronge sask canada</td>\n",
       "    </tr>\n",
       "    <tr>\n",
       "      <th>2</th>\n",
       "      <td>5</td>\n",
       "      <td>NaN</td>\n",
       "      <td>NaN</td>\n",
       "      <td>All residents asked to 'shelter in place' are ...</td>\n",
       "      <td>1</td>\n",
       "      <td>resident ask shelter place notify officer evac...</td>\n",
       "    </tr>\n",
       "    <tr>\n",
       "      <th>3</th>\n",
       "      <td>6</td>\n",
       "      <td>NaN</td>\n",
       "      <td>NaN</td>\n",
       "      <td>13,000 people receive #wildfires evacuation or...</td>\n",
       "      <td>1</td>\n",
       "      <td>13000 people receive wildfire evacuation order...</td>\n",
       "    </tr>\n",
       "    <tr>\n",
       "      <th>4</th>\n",
       "      <td>7</td>\n",
       "      <td>NaN</td>\n",
       "      <td>NaN</td>\n",
       "      <td>Just got sent this photo from Ruby #Alaska as ...</td>\n",
       "      <td>1</td>\n",
       "      <td>got send photo ruby alaska smoke wildfire pour...</td>\n",
       "    </tr>\n",
       "    <tr>\n",
       "      <th>...</th>\n",
       "      <td>...</td>\n",
       "      <td>...</td>\n",
       "      <td>...</td>\n",
       "      <td>...</td>\n",
       "      <td>...</td>\n",
       "      <td>...</td>\n",
       "    </tr>\n",
       "    <tr>\n",
       "      <th>7608</th>\n",
       "      <td>10869</td>\n",
       "      <td>NaN</td>\n",
       "      <td>NaN</td>\n",
       "      <td>Two giant cranes holding a bridge collapse int...</td>\n",
       "      <td>1</td>\n",
       "      <td>giant crane hold bridge collapse nearby home</td>\n",
       "    </tr>\n",
       "    <tr>\n",
       "      <th>7609</th>\n",
       "      <td>10870</td>\n",
       "      <td>NaN</td>\n",
       "      <td>NaN</td>\n",
       "      <td>@aria_ahrary @TheTawniest The out of control w...</td>\n",
       "      <td>1</td>\n",
       "      <td>ariaahrary thetawniest control wild fire calif...</td>\n",
       "    </tr>\n",
       "    <tr>\n",
       "      <th>7610</th>\n",
       "      <td>10871</td>\n",
       "      <td>NaN</td>\n",
       "      <td>NaN</td>\n",
       "      <td>M1.94 [01:04 UTC]?5km S of Volcano Hawaii. htt...</td>\n",
       "      <td>1</td>\n",
       "      <td>m194 0104 utc5 km s volcano hawaii</td>\n",
       "    </tr>\n",
       "    <tr>\n",
       "      <th>7611</th>\n",
       "      <td>10872</td>\n",
       "      <td>NaN</td>\n",
       "      <td>NaN</td>\n",
       "      <td>Police investigating after an e-bike collided ...</td>\n",
       "      <td>1</td>\n",
       "      <td>police investigate ebike collide car little po...</td>\n",
       "    </tr>\n",
       "    <tr>\n",
       "      <th>7612</th>\n",
       "      <td>10873</td>\n",
       "      <td>NaN</td>\n",
       "      <td>NaN</td>\n",
       "      <td>The Latest: More Homes Razed by Northern Calif...</td>\n",
       "      <td>1</td>\n",
       "      <td>late home raze northern california wildfire   ...</td>\n",
       "    </tr>\n",
       "  </tbody>\n",
       "</table>\n",
       "<p>7613 rows × 6 columns</p>\n",
       "</div>"
      ],
      "text/plain": [
       "         id keyword location  \\\n",
       "0         1     NaN      NaN   \n",
       "1         4     NaN      NaN   \n",
       "2         5     NaN      NaN   \n",
       "3         6     NaN      NaN   \n",
       "4         7     NaN      NaN   \n",
       "...     ...     ...      ...   \n",
       "7608  10869     NaN      NaN   \n",
       "7609  10870     NaN      NaN   \n",
       "7610  10871     NaN      NaN   \n",
       "7611  10872     NaN      NaN   \n",
       "7612  10873     NaN      NaN   \n",
       "\n",
       "                                                   text  target  \\\n",
       "0     Our Deeds are the Reason of this #earthquake M...       1   \n",
       "1                Forest fire near La Ronge Sask. Canada       1   \n",
       "2     All residents asked to 'shelter in place' are ...       1   \n",
       "3     13,000 people receive #wildfires evacuation or...       1   \n",
       "4     Just got sent this photo from Ruby #Alaska as ...       1   \n",
       "...                                                 ...     ...   \n",
       "7608  Two giant cranes holding a bridge collapse int...       1   \n",
       "7609  @aria_ahrary @TheTawniest The out of control w...       1   \n",
       "7610  M1.94 [01:04 UTC]?5km S of Volcano Hawaii. htt...       1   \n",
       "7611  Police investigating after an e-bike collided ...       1   \n",
       "7612  The Latest: More Homes Razed by Northern Calif...       1   \n",
       "\n",
       "                                            clean_tweet  \n",
       "0                  deed reason earthquake allah forgive  \n",
       "1                 forest fire near la ronge sask canada  \n",
       "2     resident ask shelter place notify officer evac...  \n",
       "3     13000 people receive wildfire evacuation order...  \n",
       "4     got send photo ruby alaska smoke wildfire pour...  \n",
       "...                                                 ...  \n",
       "7608       giant crane hold bridge collapse nearby home  \n",
       "7609  ariaahrary thetawniest control wild fire calif...  \n",
       "7610                 m194 0104 utc5 km s volcano hawaii  \n",
       "7611  police investigate ebike collide car little po...  \n",
       "7612  late home raze northern california wildfire   ...  \n",
       "\n",
       "[7613 rows x 6 columns]"
      ]
     },
     "execution_count": 71,
     "metadata": {},
     "output_type": "execute_result"
    }
   ],
   "source": [
    "# Filter dataset\n",
    "dataset = dataset.loc[clean,:]\n",
    "dataset"
   ]
  },
  {
   "cell_type": "code",
   "execution_count": 72,
   "metadata": {},
   "outputs": [
    {
     "data": {
      "text/html": [
       "<div>\n",
       "<style scoped>\n",
       "    .dataframe tbody tr th:only-of-type {\n",
       "        vertical-align: middle;\n",
       "    }\n",
       "\n",
       "    .dataframe tbody tr th {\n",
       "        vertical-align: top;\n",
       "    }\n",
       "\n",
       "    .dataframe thead th {\n",
       "        text-align: right;\n",
       "    }\n",
       "</style>\n",
       "<table border=\"1\" class=\"dataframe\">\n",
       "  <thead>\n",
       "    <tr style=\"text-align: right;\">\n",
       "      <th></th>\n",
       "      <th>id</th>\n",
       "      <th>keyword</th>\n",
       "      <th>location</th>\n",
       "      <th>text</th>\n",
       "      <th>target</th>\n",
       "      <th>clean_tweet</th>\n",
       "      <th>clean_tweets_encoded</th>\n",
       "    </tr>\n",
       "  </thead>\n",
       "  <tbody>\n",
       "    <tr>\n",
       "      <th>0</th>\n",
       "      <td>1</td>\n",
       "      <td>NaN</td>\n",
       "      <td>NaN</td>\n",
       "      <td>Our Deeds are the Reason of this #earthquake M...</td>\n",
       "      <td>1</td>\n",
       "      <td>deed reason earthquake allah forgive</td>\n",
       "      <td>[398, 226]</td>\n",
       "    </tr>\n",
       "    <tr>\n",
       "      <th>1</th>\n",
       "      <td>4</td>\n",
       "      <td>NaN</td>\n",
       "      <td>NaN</td>\n",
       "      <td>Forest fire near La Ronge Sask. Canada</td>\n",
       "      <td>1</td>\n",
       "      <td>forest fire near la ronge sask canada</td>\n",
       "      <td>[126, 2, 157, 489]</td>\n",
       "    </tr>\n",
       "    <tr>\n",
       "      <th>2</th>\n",
       "      <td>5</td>\n",
       "      <td>NaN</td>\n",
       "      <td>NaN</td>\n",
       "      <td>All residents asked to 'shelter in place' are ...</td>\n",
       "      <td>1</td>\n",
       "      <td>resident ask shelter place notify officer evac...</td>\n",
       "      <td>[425, 340, 275, 187, 340, 267, 379]</td>\n",
       "    </tr>\n",
       "    <tr>\n",
       "      <th>3</th>\n",
       "      <td>6</td>\n",
       "      <td>NaN</td>\n",
       "      <td>NaN</td>\n",
       "      <td>13,000 people receive #wildfires evacuation or...</td>\n",
       "      <td>1</td>\n",
       "      <td>13000 people receive wildfire evacuation order...</td>\n",
       "      <td>[7, 69, 187, 267, 34]</td>\n",
       "    </tr>\n",
       "    <tr>\n",
       "      <th>4</th>\n",
       "      <td>7</td>\n",
       "      <td>NaN</td>\n",
       "      <td>NaN</td>\n",
       "      <td>Just got sent this photo from Ruby #Alaska as ...</td>\n",
       "      <td>1</td>\n",
       "      <td>got send photo ruby alaska smoke wildfire pour...</td>\n",
       "      <td>[246, 176, 127, 164, 69, 103]</td>\n",
       "    </tr>\n",
       "    <tr>\n",
       "      <th>...</th>\n",
       "      <td>...</td>\n",
       "      <td>...</td>\n",
       "      <td>...</td>\n",
       "      <td>...</td>\n",
       "      <td>...</td>\n",
       "      <td>...</td>\n",
       "      <td>...</td>\n",
       "    </tr>\n",
       "    <tr>\n",
       "      <th>7608</th>\n",
       "      <td>10869</td>\n",
       "      <td>NaN</td>\n",
       "      <td>NaN</td>\n",
       "      <td>Two giant cranes holding a bridge collapse int...</td>\n",
       "      <td>1</td>\n",
       "      <td>giant crane hold bridge collapse nearby home</td>\n",
       "      <td>[644, 902, 296, 234, 38, 467, 25]</td>\n",
       "    </tr>\n",
       "    <tr>\n",
       "      <th>7609</th>\n",
       "      <td>10870</td>\n",
       "      <td>NaN</td>\n",
       "      <td>NaN</td>\n",
       "      <td>@aria_ahrary @TheTawniest The out of control w...</td>\n",
       "      <td>1</td>\n",
       "      <td>ariaahrary thetawniest control wild fire calif...</td>\n",
       "      <td>[542, 208, 2, 34, 131, 179]</td>\n",
       "    </tr>\n",
       "    <tr>\n",
       "      <th>7610</th>\n",
       "      <td>10871</td>\n",
       "      <td>NaN</td>\n",
       "      <td>NaN</td>\n",
       "      <td>M1.94 [01:04 UTC]?5km S of Volcano Hawaii. htt...</td>\n",
       "      <td>1</td>\n",
       "      <td>m194 0104 utc5 km s volcano hawaii</td>\n",
       "      <td>[421, 5, 468]</td>\n",
       "    </tr>\n",
       "    <tr>\n",
       "      <th>7611</th>\n",
       "      <td>10872</td>\n",
       "      <td>NaN</td>\n",
       "      <td>NaN</td>\n",
       "      <td>Police investigating after an e-bike collided ...</td>\n",
       "      <td>1</td>\n",
       "      <td>police investigate ebike collide car little po...</td>\n",
       "      <td>[23, 712, 94, 45, 199, 903, 74]</td>\n",
       "    </tr>\n",
       "    <tr>\n",
       "      <th>7612</th>\n",
       "      <td>10873</td>\n",
       "      <td>NaN</td>\n",
       "      <td>NaN</td>\n",
       "      <td>The Latest: More Homes Razed by Northern Calif...</td>\n",
       "      <td>1</td>\n",
       "      <td>late home raze northern california wildfire   ...</td>\n",
       "      <td>[104, 25, 365, 131, 34, 69, 557, 19]</td>\n",
       "    </tr>\n",
       "  </tbody>\n",
       "</table>\n",
       "<p>7613 rows × 7 columns</p>\n",
       "</div>"
      ],
      "text/plain": [
       "         id keyword location  \\\n",
       "0         1     NaN      NaN   \n",
       "1         4     NaN      NaN   \n",
       "2         5     NaN      NaN   \n",
       "3         6     NaN      NaN   \n",
       "4         7     NaN      NaN   \n",
       "...     ...     ...      ...   \n",
       "7608  10869     NaN      NaN   \n",
       "7609  10870     NaN      NaN   \n",
       "7610  10871     NaN      NaN   \n",
       "7611  10872     NaN      NaN   \n",
       "7612  10873     NaN      NaN   \n",
       "\n",
       "                                                   text  target  \\\n",
       "0     Our Deeds are the Reason of this #earthquake M...       1   \n",
       "1                Forest fire near La Ronge Sask. Canada       1   \n",
       "2     All residents asked to 'shelter in place' are ...       1   \n",
       "3     13,000 people receive #wildfires evacuation or...       1   \n",
       "4     Just got sent this photo from Ruby #Alaska as ...       1   \n",
       "...                                                 ...     ...   \n",
       "7608  Two giant cranes holding a bridge collapse int...       1   \n",
       "7609  @aria_ahrary @TheTawniest The out of control w...       1   \n",
       "7610  M1.94 [01:04 UTC]?5km S of Volcano Hawaii. htt...       1   \n",
       "7611  Police investigating after an e-bike collided ...       1   \n",
       "7612  The Latest: More Homes Razed by Northern Calif...       1   \n",
       "\n",
       "                                            clean_tweet  \\\n",
       "0                  deed reason earthquake allah forgive   \n",
       "1                 forest fire near la ronge sask canada   \n",
       "2     resident ask shelter place notify officer evac...   \n",
       "3     13000 people receive wildfire evacuation order...   \n",
       "4     got send photo ruby alaska smoke wildfire pour...   \n",
       "...                                                 ...   \n",
       "7608       giant crane hold bridge collapse nearby home   \n",
       "7609  ariaahrary thetawniest control wild fire calif...   \n",
       "7610                 m194 0104 utc5 km s volcano hawaii   \n",
       "7611  police investigate ebike collide car little po...   \n",
       "7612  late home raze northern california wildfire   ...   \n",
       "\n",
       "                      clean_tweets_encoded  \n",
       "0                               [398, 226]  \n",
       "1                       [126, 2, 157, 489]  \n",
       "2      [425, 340, 275, 187, 340, 267, 379]  \n",
       "3                    [7, 69, 187, 267, 34]  \n",
       "4            [246, 176, 127, 164, 69, 103]  \n",
       "...                                    ...  \n",
       "7608     [644, 902, 296, 234, 38, 467, 25]  \n",
       "7609           [542, 208, 2, 34, 131, 179]  \n",
       "7610                         [421, 5, 468]  \n",
       "7611       [23, 712, 94, 45, 199, 903, 74]  \n",
       "7612  [104, 25, 365, 131, 34, 69, 557, 19]  \n",
       "\n",
       "[7613 rows x 7 columns]"
      ]
     },
     "execution_count": 72,
     "metadata": {},
     "output_type": "execute_result"
    }
   ],
   "source": [
    "# Instanciating the tokenizer and set up him to keep only the 1000 most common words\n",
    "tokenizer = tf.keras.preprocessing.text.Tokenizer(num_words = 1000)\n",
    "# Fit on the column regarding the clean tweets\n",
    "tokenizer.fit_on_texts(dataset.clean_tweet)\n",
    "# Create a new column containing clean tweets but tokenized and so encoded\n",
    "dataset[\"clean_tweets_encoded\"] = tokenizer.texts_to_sequences(dataset.clean_tweet)\n",
    "dataset"
   ]
  },
  {
   "cell_type": "code",
   "execution_count": 73,
   "metadata": {},
   "outputs": [],
   "source": [
    "# We need to standardize the length of encoded clean tweets into a single one numpy array and choose to add zero padding at the end of sequences\n",
    "encoded_tweets_standardized = tf.keras.preprocessing.sequence.pad_sequences(dataset.clean_tweets_encoded, padding = \"post\")"
   ]
  },
  {
   "cell_type": "code",
   "execution_count": 74,
   "metadata": {},
   "outputs": [
    {
     "name": "stdout",
     "output_type": "stream",
     "text": [
      "[[398 226   0 ...   0   0   0]\n",
      " [126   2 157 ...   0   0   0]\n",
      " [425 340 275 ...   0   0   0]\n",
      " ...\n",
      " [421   5 468 ...   0   0   0]\n",
      " [ 23 712  94 ...   0   0   0]\n",
      " [104  25 365 ...   0   0   0]]\n"
     ]
    }
   ],
   "source": [
    "print(encoded_tweets_standardized)"
   ]
  },
  {
   "cell_type": "code",
   "execution_count": 75,
   "metadata": {},
   "outputs": [],
   "source": [
    "# Splitting dataset into train and test set\n",
    "X_train, X_val, Y_train, Y_val = train_test_split(encoded_tweets_standardized,dataset.target, test_size = 0.3, random_state = 0)"
   ]
  },
  {
   "cell_type": "code",
   "execution_count": 76,
   "metadata": {},
   "outputs": [],
   "source": [
    "# Creation of the tensor dataset for the training and validation set\n",
    "train = tf.data.Dataset.from_tensor_slices((X_train, Y_train))\n",
    "val = tf.data.Dataset.from_tensor_slices((X_val, Y_val))"
   ]
  },
  {
   "cell_type": "code",
   "execution_count": 77,
   "metadata": {},
   "outputs": [],
   "source": [
    "# Shuffle data and create batch on both set\n",
    "train_batch = train.shuffle(len(train)).batch(64)\n",
    "val_batch = val.shuffle(len(val)).batch(64)"
   ]
  },
  {
   "cell_type": "code",
   "execution_count": 78,
   "metadata": {},
   "outputs": [
    {
     "name": "stdout",
     "output_type": "stream",
     "text": [
      "tf.Tensor(\n",
      "[[707 164 413 ...   0   0   0]\n",
      " [ 59 214   5 ...   0   0   0]\n",
      " [  3 185   1 ...   0   0   0]\n",
      " ...\n",
      " [416 269 779 ...   0   0   0]\n",
      " [ 10  22  82 ...   0   0   0]\n",
      " [180   0   0 ...   0   0   0]], shape=(64, 18), dtype=int32) tf.Tensor(\n",
      "[1 0 0 0 1 0 1 0 1 1 0 1 0 1 0 1 0 1 0 1 1 0 0 0 1 1 0 0 0 0 0 0 0 0 1 0 0\n",
      " 1 0 0 1 0 0 0 1 0 0 1 0 0 0 0 0 0 0 1 1 1 1 0 0 0 1 1], shape=(64,), dtype=int64)\n"
     ]
    }
   ],
   "source": [
    "# Checking a batch of data\n",
    "for tweet, signification in train_batch.take(1):\n",
    "  print(tweet, signification)"
   ]
  },
  {
   "cell_type": "markdown",
   "metadata": {},
   "source": [
    "# Model n°1 | 3 dense layers"
   ]
  },
  {
   "cell_type": "code",
   "execution_count": 79,
   "metadata": {},
   "outputs": [
    {
     "name": "stdout",
     "output_type": "stream",
     "text": [
      "Model: \"sequential_8\"\n",
      "_________________________________________________________________\n",
      " Layer (type)                Output Shape              Param #   \n",
      "=================================================================\n",
      " embedding (Embedding)       (None, 18, 64)            64064     \n",
      "                                                                 \n",
      " global_average_pooling1d_8   (None, 64)               0         \n",
      " (GlobalAveragePooling1D)                                        \n",
      "                                                                 \n",
      " dense_27 (Dense)            (None, 32)                2080      \n",
      "                                                                 \n",
      " dense_28 (Dense)            (None, 16)                528       \n",
      "                                                                 \n",
      " dense_29 (Dense)            (None, 1)                 17        \n",
      "                                                                 \n",
      "=================================================================\n",
      "Total params: 66,689\n",
      "Trainable params: 66,689\n",
      "Non-trainable params: 0\n",
      "_________________________________________________________________\n"
     ]
    }
   ],
   "source": [
    "# Defining the size of the vocabulary in the model (1000)\n",
    "vocab_size = tokenizer.num_words + 1\n",
    "\n",
    "# Defining a text classifier model\n",
    "model = tf.keras.Sequential([\n",
    "    Embedding(vocab_size, 64, input_shape= [18], name=\"embedding\"),\n",
    "    tf.keras.layers.GlobalAveragePooling1D(),\n",
    "    Dense(32, activation='relu'),\n",
    "    Dense(16, activation=\"relu\"),\n",
    "    Dense(1, activation='sigmoid')  # Binary classification between 0 and 1\n",
    "])\n",
    "\n",
    "# Defining a configuration set to compile the model before training\n",
    "model.compile(\n",
    "    loss=tf.keras.losses.BinaryCrossentropy(),\n",
    "    optimizer=Adam(learning_rate=0.0001),\n",
    "    metrics=[tf.keras.metrics.BinaryAccuracy()]\n",
    ")\n",
    "\n",
    "# Display a summarize of the model\n",
    "model.summary()"
   ]
  },
  {
   "cell_type": "code",
   "execution_count": 80,
   "metadata": {},
   "outputs": [
    {
     "name": "stdout",
     "output_type": "stream",
     "text": [
      "Epoch 1/50\n",
      "84/84 [==============================] - 3s 5ms/step - loss: 0.6914 - binary_accuracy: 0.5564 - val_loss: 0.6888 - val_binary_accuracy: 0.5858\n",
      "Epoch 2/50\n",
      "84/84 [==============================] - 0s 3ms/step - loss: 0.6880 - binary_accuracy: 0.5637 - val_loss: 0.6841 - val_binary_accuracy: 0.5858\n",
      "Epoch 3/50\n",
      "84/84 [==============================] - 0s 3ms/step - loss: 0.6823 - binary_accuracy: 0.5637 - val_loss: 0.6752 - val_binary_accuracy: 0.5858\n",
      "Epoch 4/50\n",
      "84/84 [==============================] - 0s 5ms/step - loss: 0.6743 - binary_accuracy: 0.5665 - val_loss: 0.6662 - val_binary_accuracy: 0.5928\n",
      "Epoch 5/50\n",
      "84/84 [==============================] - 1s 6ms/step - loss: 0.6650 - binary_accuracy: 0.5840 - val_loss: 0.6551 - val_binary_accuracy: 0.6235\n",
      "Epoch 6/50\n",
      "84/84 [==============================] - 0s 6ms/step - loss: 0.6532 - binary_accuracy: 0.6121 - val_loss: 0.6421 - val_binary_accuracy: 0.6423\n",
      "Epoch 7/50\n",
      "84/84 [==============================] - 0s 4ms/step - loss: 0.6384 - binary_accuracy: 0.6451 - val_loss: 0.6276 - val_binary_accuracy: 0.6782\n",
      "Epoch 8/50\n",
      "84/84 [==============================] - 0s 4ms/step - loss: 0.6203 - binary_accuracy: 0.6840 - val_loss: 0.6091 - val_binary_accuracy: 0.7053\n",
      "Epoch 9/50\n",
      "84/84 [==============================] - 0s 5ms/step - loss: 0.5995 - binary_accuracy: 0.7172 - val_loss: 0.5904 - val_binary_accuracy: 0.7417\n",
      "Epoch 10/50\n",
      "84/84 [==============================] - 1s 9ms/step - loss: 0.5766 - binary_accuracy: 0.7450 - val_loss: 0.5692 - val_binary_accuracy: 0.7513\n",
      "Epoch 11/50\n",
      "84/84 [==============================] - 1s 7ms/step - loss: 0.5525 - binary_accuracy: 0.7654 - val_loss: 0.5484 - val_binary_accuracy: 0.7680\n",
      "Epoch 12/50\n",
      "84/84 [==============================] - 0s 5ms/step - loss: 0.5288 - binary_accuracy: 0.7797 - val_loss: 0.5289 - val_binary_accuracy: 0.7785\n",
      "Epoch 13/50\n",
      "84/84 [==============================] - 0s 4ms/step - loss: 0.5062 - binary_accuracy: 0.7928 - val_loss: 0.5116 - val_binary_accuracy: 0.7850\n",
      "Epoch 14/50\n",
      "84/84 [==============================] - 1s 7ms/step - loss: 0.4862 - binary_accuracy: 0.7977 - val_loss: 0.4966 - val_binary_accuracy: 0.7912\n",
      "Epoch 15/50\n",
      "84/84 [==============================] - 1s 8ms/step - loss: 0.4685 - binary_accuracy: 0.8092 - val_loss: 0.4856 - val_binary_accuracy: 0.7955\n",
      "Epoch 16/50\n",
      "84/84 [==============================] - 1s 8ms/step - loss: 0.4540 - binary_accuracy: 0.8108 - val_loss: 0.4764 - val_binary_accuracy: 0.7942\n",
      "Epoch 17/50\n",
      "84/84 [==============================] - 1s 8ms/step - loss: 0.4416 - binary_accuracy: 0.8146 - val_loss: 0.4684 - val_binary_accuracy: 0.7982\n",
      "Epoch 18/50\n",
      "84/84 [==============================] - 1s 9ms/step - loss: 0.4313 - binary_accuracy: 0.8172 - val_loss: 0.4638 - val_binary_accuracy: 0.7960\n",
      "Epoch 19/50\n",
      "84/84 [==============================] - 1s 7ms/step - loss: 0.4228 - binary_accuracy: 0.8195 - val_loss: 0.4598 - val_binary_accuracy: 0.7947\n",
      "Epoch 20/50\n",
      "84/84 [==============================] - 1s 7ms/step - loss: 0.4154 - binary_accuracy: 0.8223 - val_loss: 0.4567 - val_binary_accuracy: 0.7973\n",
      "Epoch 21/50\n",
      "84/84 [==============================] - 1s 6ms/step - loss: 0.4091 - binary_accuracy: 0.8245 - val_loss: 0.4551 - val_binary_accuracy: 0.7964\n",
      "Epoch 22/50\n",
      "84/84 [==============================] - 1s 6ms/step - loss: 0.4037 - binary_accuracy: 0.8257 - val_loss: 0.4540 - val_binary_accuracy: 0.7951\n",
      "Epoch 23/50\n",
      "84/84 [==============================] - 1s 6ms/step - loss: 0.3994 - binary_accuracy: 0.8255 - val_loss: 0.4528 - val_binary_accuracy: 0.7995\n",
      "Epoch 24/50\n",
      "84/84 [==============================] - 1s 6ms/step - loss: 0.3954 - binary_accuracy: 0.8274 - val_loss: 0.4530 - val_binary_accuracy: 0.7938\n",
      "Epoch 25/50\n",
      "84/84 [==============================] - 0s 5ms/step - loss: 0.3915 - binary_accuracy: 0.8289 - val_loss: 0.4553 - val_binary_accuracy: 0.7872\n",
      "Epoch 26/50\n",
      "84/84 [==============================] - 1s 6ms/step - loss: 0.3883 - binary_accuracy: 0.8292 - val_loss: 0.4540 - val_binary_accuracy: 0.7890\n",
      "Epoch 27/50\n",
      "84/84 [==============================] - 0s 5ms/step - loss: 0.3854 - binary_accuracy: 0.8309 - val_loss: 0.4544 - val_binary_accuracy: 0.7907\n",
      "Epoch 28/50\n",
      "84/84 [==============================] - 0s 5ms/step - loss: 0.3828 - binary_accuracy: 0.8324 - val_loss: 0.4535 - val_binary_accuracy: 0.7933\n",
      "Epoch 29/50\n",
      "84/84 [==============================] - 0s 6ms/step - loss: 0.3803 - binary_accuracy: 0.8330 - val_loss: 0.4578 - val_binary_accuracy: 0.7885\n",
      "Epoch 30/50\n",
      "84/84 [==============================] - 1s 6ms/step - loss: 0.3781 - binary_accuracy: 0.8337 - val_loss: 0.4568 - val_binary_accuracy: 0.7894\n",
      "Epoch 31/50\n",
      "84/84 [==============================] - 0s 6ms/step - loss: 0.3759 - binary_accuracy: 0.8349 - val_loss: 0.4553 - val_binary_accuracy: 0.7938\n",
      "Epoch 32/50\n",
      "84/84 [==============================] - 0s 5ms/step - loss: 0.3746 - binary_accuracy: 0.8330 - val_loss: 0.4566 - val_binary_accuracy: 0.7933\n",
      "Epoch 33/50\n",
      "84/84 [==============================] - 1s 7ms/step - loss: 0.3718 - binary_accuracy: 0.8369 - val_loss: 0.4595 - val_binary_accuracy: 0.7912\n",
      "Epoch 34/50\n",
      "84/84 [==============================] - 1s 7ms/step - loss: 0.3704 - binary_accuracy: 0.8394 - val_loss: 0.4585 - val_binary_accuracy: 0.7912\n",
      "Epoch 35/50\n",
      "84/84 [==============================] - 1s 6ms/step - loss: 0.3686 - binary_accuracy: 0.8397 - val_loss: 0.4609 - val_binary_accuracy: 0.7890\n",
      "Epoch 36/50\n",
      "84/84 [==============================] - 1s 6ms/step - loss: 0.3675 - binary_accuracy: 0.8386 - val_loss: 0.4616 - val_binary_accuracy: 0.7907\n",
      "Epoch 37/50\n",
      "84/84 [==============================] - 0s 6ms/step - loss: 0.3654 - binary_accuracy: 0.8401 - val_loss: 0.4607 - val_binary_accuracy: 0.7920\n",
      "Epoch 38/50\n",
      "84/84 [==============================] - 1s 8ms/step - loss: 0.3637 - binary_accuracy: 0.8399 - val_loss: 0.4616 - val_binary_accuracy: 0.7933\n",
      "Epoch 39/50\n",
      "84/84 [==============================] - 1s 6ms/step - loss: 0.3626 - binary_accuracy: 0.8411 - val_loss: 0.4632 - val_binary_accuracy: 0.7903\n",
      "Epoch 40/50\n",
      "84/84 [==============================] - 0s 5ms/step - loss: 0.3616 - binary_accuracy: 0.8418 - val_loss: 0.4646 - val_binary_accuracy: 0.7907\n",
      "Epoch 41/50\n",
      "84/84 [==============================] - 0s 6ms/step - loss: 0.3606 - binary_accuracy: 0.8409 - val_loss: 0.4657 - val_binary_accuracy: 0.7912\n",
      "Epoch 42/50\n",
      "84/84 [==============================] - 1s 7ms/step - loss: 0.3591 - binary_accuracy: 0.8420 - val_loss: 0.4664 - val_binary_accuracy: 0.7916\n",
      "Epoch 43/50\n",
      "84/84 [==============================] - 1s 6ms/step - loss: 0.3574 - binary_accuracy: 0.8435 - val_loss: 0.4674 - val_binary_accuracy: 0.7907\n",
      "Epoch 44/50\n",
      "84/84 [==============================] - 1s 6ms/step - loss: 0.3564 - binary_accuracy: 0.8437 - val_loss: 0.4682 - val_binary_accuracy: 0.7916\n",
      "Epoch 45/50\n",
      "84/84 [==============================] - 1s 6ms/step - loss: 0.3553 - binary_accuracy: 0.8435 - val_loss: 0.4717 - val_binary_accuracy: 0.7903\n",
      "Epoch 46/50\n",
      "84/84 [==============================] - 1s 6ms/step - loss: 0.3545 - binary_accuracy: 0.8461 - val_loss: 0.4702 - val_binary_accuracy: 0.7929\n",
      "Epoch 47/50\n",
      "84/84 [==============================] - 1s 7ms/step - loss: 0.3534 - binary_accuracy: 0.8444 - val_loss: 0.4706 - val_binary_accuracy: 0.7929\n",
      "Epoch 48/50\n",
      "84/84 [==============================] - 1s 6ms/step - loss: 0.3523 - binary_accuracy: 0.8457 - val_loss: 0.4732 - val_binary_accuracy: 0.7903\n",
      "Epoch 49/50\n",
      "84/84 [==============================] - 1s 7ms/step - loss: 0.3516 - binary_accuracy: 0.8467 - val_loss: 0.4751 - val_binary_accuracy: 0.7885\n",
      "Epoch 50/50\n",
      "84/84 [==============================] - 1s 6ms/step - loss: 0.3505 - binary_accuracy: 0.8461 - val_loss: 0.4740 - val_binary_accuracy: 0.7938\n"
     ]
    }
   ],
   "source": [
    "# Model training\n",
    "history = model.fit(\n",
    "    train_batch,\n",
    "    epochs=50,\n",
    "    validation_data= val_batch)"
   ]
  },
  {
   "cell_type": "code",
   "execution_count": 81,
   "metadata": {},
   "outputs": [
    {
     "data": {
      "image/png": "[encoded data removed]",
      "text/plain": [
       "<Figure size 432x288 with 1 Axes>"
      ]
     },
     "metadata": {
      "needs_background": "light"
     },
     "output_type": "display_data"
    }
   ],
   "source": [
    "# Visualization of the training process for the loss\n",
    "plt.plot(history.history[\"loss\"], color=\"b\")\n",
    "plt.plot(history.history[\"val_loss\"], color=\"r\")\n",
    "plt.ylabel(\"loss\")\n",
    "plt.xlabel(\"Epochs\")\n",
    "plt.show()"
   ]
  },
  {
   "cell_type": "markdown",
   "metadata": {},
   "source": [
    "Scores for 100 epochs:\n",
    "\n",
    "loss: 0.3505 | val_loss: 0.4740\n",
    "\n",
    "binary_accuracy: 0.8461 | val_binary_accuracy: 0.7938"
   ]
  },
  {
   "cell_type": "markdown",
   "metadata": {},
   "source": [
    "# Model n°2 | 6 layers | 5 dropout layers"
   ]
  },
  {
   "cell_type": "code",
   "execution_count": 82,
   "metadata": {},
   "outputs": [
    {
     "name": "stdout",
     "output_type": "stream",
     "text": [
      "Model: \"sequential_9\"\n",
      "_________________________________________________________________\n",
      " Layer (type)                Output Shape              Param #   \n",
      "=================================================================\n",
      " embedding (Embedding)       (None, 18, 64)            64064     \n",
      "                                                                 \n",
      " global_average_pooling1d_9   (None, 64)               0         \n",
      " (GlobalAveragePooling1D)                                        \n",
      "                                                                 \n",
      " dense_30 (Dense)            (None, 256)               16640     \n",
      "                                                                 \n",
      " dropout_5 (Dropout)         (None, 256)               0         \n",
      "                                                                 \n",
      " dense_31 (Dense)            (None, 128)               32896     \n",
      "                                                                 \n",
      " dropout_6 (Dropout)         (None, 128)               0         \n",
      "                                                                 \n",
      " dense_32 (Dense)            (None, 64)                8256      \n",
      "                                                                 \n",
      " dropout_7 (Dropout)         (None, 64)                0         \n",
      "                                                                 \n",
      " dense_33 (Dense)            (None, 32)                2080      \n",
      "                                                                 \n",
      " dropout_8 (Dropout)         (None, 32)                0         \n",
      "                                                                 \n",
      " dense_34 (Dense)            (None, 16)                528       \n",
      "                                                                 \n",
      " dropout_9 (Dropout)         (None, 16)                0         \n",
      "                                                                 \n",
      " dense_35 (Dense)            (None, 1)                 17        \n",
      "                                                                 \n",
      "=================================================================\n",
      "Total params: 124,481\n",
      "Trainable params: 124,481\n",
      "Non-trainable params: 0\n",
      "_________________________________________________________________\n"
     ]
    }
   ],
   "source": [
    "# Defining the size of the vocabulary in the model (1000)\n",
    "vocab_size = tokenizer.num_words + 1\n",
    "\n",
    "# Defining a text classifier model\n",
    "model2 = tf.keras.Sequential([\n",
    "    Embedding(vocab_size, 64, input_shape= [18], name=\"embedding\"),\n",
    "    tf.keras.layers.GlobalAveragePooling1D(),\n",
    "    Dense(256, activation='relu'),\n",
    "    Dropout(0.25),\n",
    "    Dense(128, activation='relu'),\n",
    "    Dropout(0.25),\n",
    "    Dense(64, activation='relu'),\n",
    "    Dropout(0.25),\n",
    "    Dense(32, activation='relu'),\n",
    "    Dropout(0.25),\n",
    "    Dense(16, activation=\"relu\"),\n",
    "    Dropout(0.25),\n",
    "    Dense(1, activation='sigmoid')  # Binary classification between 0 and 1\n",
    "])\n",
    "\n",
    "# Defining a configuration set to compile the model before training\n",
    "model2.compile(\n",
    "    loss=tf.keras.losses.BinaryCrossentropy(),\n",
    "    optimizer=Adam(learning_rate=0.0001),\n",
    "    metrics=[tf.keras.metrics.BinaryAccuracy()]\n",
    ")\n",
    "\n",
    "# Display a summarize of the model\n",
    "model2.summary()"
   ]
  },
  {
   "cell_type": "code",
   "execution_count": 83,
   "metadata": {},
   "outputs": [
    {
     "name": "stdout",
     "output_type": "stream",
     "text": [
      "Epoch 1/50\n",
      "84/84 [==============================] - 2s 11ms/step - loss: 0.6933 - binary_accuracy: 0.5031 - val_loss: 0.6925 - val_binary_accuracy: 0.5858\n",
      "Epoch 2/50\n",
      "84/84 [==============================] - 1s 8ms/step - loss: 0.6924 - binary_accuracy: 0.5633 - val_loss: 0.6918 - val_binary_accuracy: 0.5858\n",
      "Epoch 3/50\n",
      "84/84 [==============================] - 1s 6ms/step - loss: 0.6919 - binary_accuracy: 0.5637 - val_loss: 0.6909 - val_binary_accuracy: 0.5858\n",
      "Epoch 4/50\n",
      "84/84 [==============================] - 1s 6ms/step - loss: 0.6912 - binary_accuracy: 0.5637 - val_loss: 0.6899 - val_binary_accuracy: 0.5858\n",
      "Epoch 5/50\n",
      "84/84 [==============================] - 1s 7ms/step - loss: 0.6903 - binary_accuracy: 0.5641 - val_loss: 0.6880 - val_binary_accuracy: 0.5858\n",
      "Epoch 6/50\n",
      "84/84 [==============================] - 1s 7ms/step - loss: 0.6887 - binary_accuracy: 0.5631 - val_loss: 0.6841 - val_binary_accuracy: 0.5858\n",
      "Epoch 7/50\n",
      "84/84 [==============================] - 1s 10ms/step - loss: 0.6838 - binary_accuracy: 0.5605 - val_loss: 0.6735 - val_binary_accuracy: 0.5858\n",
      "Epoch 8/50\n",
      "84/84 [==============================] - 1s 8ms/step - loss: 0.6756 - binary_accuracy: 0.5607 - val_loss: 0.6591 - val_binary_accuracy: 0.5858\n",
      "Epoch 9/50\n",
      "84/84 [==============================] - 1s 9ms/step - loss: 0.6546 - binary_accuracy: 0.5905 - val_loss: 0.6111 - val_binary_accuracy: 0.7110\n",
      "Epoch 10/50\n",
      "84/84 [==============================] - 1s 9ms/step - loss: 0.5543 - binary_accuracy: 0.7523 - val_loss: 0.4899 - val_binary_accuracy: 0.7789\n",
      "Epoch 11/50\n",
      "84/84 [==============================] - 1s 8ms/step - loss: 0.4902 - binary_accuracy: 0.7878 - val_loss: 0.4751 - val_binary_accuracy: 0.7916\n",
      "Epoch 12/50\n",
      "84/84 [==============================] - 1s 8ms/step - loss: 0.4588 - binary_accuracy: 0.8112 - val_loss: 0.4667 - val_binary_accuracy: 0.7947\n",
      "Epoch 13/50\n",
      "84/84 [==============================] - 1s 10ms/step - loss: 0.4490 - binary_accuracy: 0.8170 - val_loss: 0.4673 - val_binary_accuracy: 0.7872\n",
      "Epoch 14/50\n",
      "84/84 [==============================] - 1s 7ms/step - loss: 0.4425 - binary_accuracy: 0.8202 - val_loss: 0.4713 - val_binary_accuracy: 0.7863\n",
      "Epoch 15/50\n",
      "84/84 [==============================] - 1s 10ms/step - loss: 0.4336 - binary_accuracy: 0.8315 - val_loss: 0.4716 - val_binary_accuracy: 0.7890\n",
      "Epoch 16/50\n",
      "84/84 [==============================] - 1s 11ms/step - loss: 0.4291 - binary_accuracy: 0.8302 - val_loss: 0.4622 - val_binary_accuracy: 0.8004\n",
      "Epoch 17/50\n",
      "84/84 [==============================] - 1s 11ms/step - loss: 0.4167 - binary_accuracy: 0.8321 - val_loss: 0.4777 - val_binary_accuracy: 0.7877\n",
      "Epoch 18/50\n",
      "84/84 [==============================] - 1s 7ms/step - loss: 0.4170 - binary_accuracy: 0.8341 - val_loss: 0.4660 - val_binary_accuracy: 0.7964\n",
      "Epoch 19/50\n",
      "84/84 [==============================] - 1s 9ms/step - loss: 0.4100 - binary_accuracy: 0.8396 - val_loss: 0.4718 - val_binary_accuracy: 0.7951\n",
      "Epoch 20/50\n",
      "84/84 [==============================] - 1s 10ms/step - loss: 0.4024 - binary_accuracy: 0.8426 - val_loss: 0.4786 - val_binary_accuracy: 0.7907\n",
      "Epoch 21/50\n",
      "84/84 [==============================] - 1s 7ms/step - loss: 0.4068 - binary_accuracy: 0.8450 - val_loss: 0.4803 - val_binary_accuracy: 0.7912\n",
      "Epoch 22/50\n",
      "84/84 [==============================] - 1s 7ms/step - loss: 0.3932 - binary_accuracy: 0.8471 - val_loss: 0.4820 - val_binary_accuracy: 0.7920\n",
      "Epoch 23/50\n",
      "84/84 [==============================] - 1s 7ms/step - loss: 0.3870 - binary_accuracy: 0.8546 - val_loss: 0.4776 - val_binary_accuracy: 0.7951\n",
      "Epoch 24/50\n",
      "84/84 [==============================] - 1s 7ms/step - loss: 0.3871 - binary_accuracy: 0.8499 - val_loss: 0.4822 - val_binary_accuracy: 0.7925\n",
      "Epoch 25/50\n",
      "84/84 [==============================] - 1s 9ms/step - loss: 0.3814 - binary_accuracy: 0.8551 - val_loss: 0.4981 - val_binary_accuracy: 0.7916\n",
      "Epoch 26/50\n",
      "84/84 [==============================] - 1s 9ms/step - loss: 0.3826 - binary_accuracy: 0.8551 - val_loss: 0.5022 - val_binary_accuracy: 0.7933\n",
      "Epoch 27/50\n",
      "84/84 [==============================] - 1s 7ms/step - loss: 0.3803 - binary_accuracy: 0.8566 - val_loss: 0.5047 - val_binary_accuracy: 0.7907\n",
      "Epoch 28/50\n",
      "84/84 [==============================] - 1s 8ms/step - loss: 0.3786 - binary_accuracy: 0.8587 - val_loss: 0.4938 - val_binary_accuracy: 0.7933\n",
      "Epoch 29/50\n",
      "84/84 [==============================] - 1s 6ms/step - loss: 0.3717 - binary_accuracy: 0.8602 - val_loss: 0.4914 - val_binary_accuracy: 0.7912\n",
      "Epoch 30/50\n",
      "84/84 [==============================] - 1s 8ms/step - loss: 0.3691 - binary_accuracy: 0.8611 - val_loss: 0.5007 - val_binary_accuracy: 0.7890\n",
      "Epoch 31/50\n",
      "84/84 [==============================] - 1s 7ms/step - loss: 0.3662 - binary_accuracy: 0.8666 - val_loss: 0.5054 - val_binary_accuracy: 0.7912\n",
      "Epoch 32/50\n",
      "84/84 [==============================] - 1s 8ms/step - loss: 0.3612 - binary_accuracy: 0.8660 - val_loss: 0.5099 - val_binary_accuracy: 0.7912\n",
      "Epoch 33/50\n",
      "84/84 [==============================] - 1s 7ms/step - loss: 0.3623 - binary_accuracy: 0.8700 - val_loss: 0.5049 - val_binary_accuracy: 0.7916\n",
      "Epoch 34/50\n",
      "84/84 [==============================] - 1s 8ms/step - loss: 0.3590 - binary_accuracy: 0.8685 - val_loss: 0.5118 - val_binary_accuracy: 0.7903\n",
      "Epoch 35/50\n",
      "84/84 [==============================] - 1s 7ms/step - loss: 0.3598 - binary_accuracy: 0.8703 - val_loss: 0.5117 - val_binary_accuracy: 0.7907\n",
      "Epoch 36/50\n",
      "84/84 [==============================] - 1s 8ms/step - loss: 0.3545 - binary_accuracy: 0.8718 - val_loss: 0.5253 - val_binary_accuracy: 0.7868\n",
      "Epoch 37/50\n",
      "84/84 [==============================] - 1s 8ms/step - loss: 0.3536 - binary_accuracy: 0.8741 - val_loss: 0.5218 - val_binary_accuracy: 0.7872\n",
      "Epoch 38/50\n",
      "84/84 [==============================] - 1s 8ms/step - loss: 0.3562 - binary_accuracy: 0.8758 - val_loss: 0.5247 - val_binary_accuracy: 0.7903\n",
      "Epoch 39/50\n",
      "84/84 [==============================] - 1s 8ms/step - loss: 0.3534 - binary_accuracy: 0.8777 - val_loss: 0.5287 - val_binary_accuracy: 0.7877\n",
      "Epoch 40/50\n",
      "84/84 [==============================] - 1s 8ms/step - loss: 0.3488 - binary_accuracy: 0.8771 - val_loss: 0.5314 - val_binary_accuracy: 0.7872\n",
      "Epoch 41/50\n",
      "84/84 [==============================] - 1s 8ms/step - loss: 0.3486 - binary_accuracy: 0.8756 - val_loss: 0.5336 - val_binary_accuracy: 0.7898\n",
      "Epoch 42/50\n",
      "84/84 [==============================] - 1s 8ms/step - loss: 0.3467 - binary_accuracy: 0.8784 - val_loss: 0.5425 - val_binary_accuracy: 0.7894\n",
      "Epoch 43/50\n",
      "84/84 [==============================] - 1s 6ms/step - loss: 0.3430 - binary_accuracy: 0.8827 - val_loss: 0.5563 - val_binary_accuracy: 0.7868\n",
      "Epoch 44/50\n",
      "84/84 [==============================] - 1s 7ms/step - loss: 0.3381 - binary_accuracy: 0.8848 - val_loss: 0.5541 - val_binary_accuracy: 0.7907\n",
      "Epoch 45/50\n",
      "84/84 [==============================] - 1s 8ms/step - loss: 0.3418 - binary_accuracy: 0.8823 - val_loss: 0.5502 - val_binary_accuracy: 0.7877\n",
      "Epoch 46/50\n",
      "84/84 [==============================] - 1s 12ms/step - loss: 0.3353 - binary_accuracy: 0.8820 - val_loss: 0.5546 - val_binary_accuracy: 0.7868\n",
      "Epoch 47/50\n",
      "84/84 [==============================] - 1s 9ms/step - loss: 0.3365 - binary_accuracy: 0.8859 - val_loss: 0.5626 - val_binary_accuracy: 0.7885\n",
      "Epoch 48/50\n",
      "84/84 [==============================] - 1s 9ms/step - loss: 0.3313 - binary_accuracy: 0.8829 - val_loss: 0.5661 - val_binary_accuracy: 0.7885\n",
      "Epoch 49/50\n",
      "84/84 [==============================] - 1s 8ms/step - loss: 0.3321 - binary_accuracy: 0.8855 - val_loss: 0.5677 - val_binary_accuracy: 0.7877\n",
      "Epoch 50/50\n",
      "84/84 [==============================] - 1s 10ms/step - loss: 0.3338 - binary_accuracy: 0.8895 - val_loss: 0.5653 - val_binary_accuracy: 0.7868\n"
     ]
    }
   ],
   "source": [
    "# Model training\n",
    "history2 = model2.fit(\n",
    "    train_batch,\n",
    "    epochs=50,\n",
    "    validation_data= val_batch)"
   ]
  },
  {
   "cell_type": "code",
   "execution_count": 84,
   "metadata": {},
   "outputs": [
    {
     "data": {
      "image/png": "[encoded data removed]",
      "text/plain": [
       "<Figure size 432x288 with 1 Axes>"
      ]
     },
     "metadata": {
      "needs_background": "light"
     },
     "output_type": "display_data"
    }
   ],
   "source": [
    "# Visualization of the training process for the loss\n",
    "plt.plot(history2.history[\"loss\"], color=\"b\")\n",
    "plt.plot(history2.history[\"val_loss\"], color=\"r\")\n",
    "plt.ylabel(\"loss\")\n",
    "plt.xlabel(\"Epochs\")\n",
    "plt.show()"
   ]
  },
  {
   "cell_type": "code",
   "execution_count": 85,
   "metadata": {},
   "outputs": [
    {
     "data": {
      "image/png": "[encoded data removed]",
      "text/plain": [
       "<Figure size 432x288 with 1 Axes>"
      ]
     },
     "metadata": {
      "needs_background": "light"
     },
     "output_type": "display_data"
    }
   ],
   "source": [
    "# Visualization of the training process for the accuracy\n",
    "plt.plot(history2.history[\"binary_accuracy\"], color=\"b\")\n",
    "plt.plot(history2.history[\"val_binary_accuracy\"], color=\"r\")\n",
    "plt.ylabel(\"acurracy\")\n",
    "plt.xlabel(\"Epochs\")\n",
    "plt.show()"
   ]
  },
  {
   "cell_type": "markdown",
   "metadata": {},
   "source": [
    "Scores for 100 epochs:\n",
    "\n",
    "loss: 0.3338 | val_loss: 0.5653\n",
    "\n",
    "binary_accuracy: 0.8895 | val_binary_accuracy: 0.7868"
   ]
  },
  {
   "cell_type": "markdown",
   "metadata": {},
   "source": [
    "Conclusion:\n",
    "\n",
    "The two models results are nearly the same for the accuracy but the second model have more loss and perform less than the first one.\n",
    "\n",
    "The first model with fewer layers and no dropout layers is indeed the better one to classify tweets."
   ]
  }
 ],
 "metadata": {
  "kernelspec": {
   "display_name": "Python 3.9.12 ('base')",
   "language": "python",
   "name": "python3"
  },
  "language_info": {
   "codemirror_mode": {
    "name": "ipython",
    "version": 3
   },
   "file_extension": ".py",
   "mimetype": "text/x-python",
   "name": "python",
   "nbconvert_exporter": "python",
   "pygments_lexer": "ipython3",
   "version": "3.9.12"
  },
  "orig_nbformat": 4,
  "vscode": {
   "interpreter": {
    "hash": "40d3a090f54c6569ab1632332b64b2c03c39dcf918b08424e98f38b5ae0af88f"
   }
  }
 },
 "nbformat": 4,
 "nbformat_minor": 2
}
